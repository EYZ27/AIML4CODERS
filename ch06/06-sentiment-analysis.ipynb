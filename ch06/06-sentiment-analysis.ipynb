{
  "cells": [
    {
      "cell_type": "markdown",
      "metadata": {
        "id": "PSVlgaZagBM2"
      },
      "source": [
        "# 6장. 임베딩을 사용한 감성 프로그래밍"
      ]
    },
    {
      "cell_type": "markdown",
      "metadata": {
        "id": "TjtLgmQZgBM7"
      },
      "source": [
        "<table class=\"tfo-notebook-buttons\" align=\"left\">\n",
        "  <td>\n",
        "    <a target=\"_blank\" href=\"https://nbviewer.jupyter.org/github/rickiepark/aiml4coders/blob/main/ch06/06-sentiment-analysis.ipynb\"><img src=\"https://jupyter.org/assets/share.png\" width=\"61\" />주피터 노트북 뷰어로 보기</a>\n",
        "  </td>\n",
        "  <td>\n",
        "    <a target=\"_blank\" href=\"https://colab.research.google.com/github/rickiepark/aiml4coders/blob/main/ch06/06-sentiment-analysis.ipynb\"><img src=\"https://www.tensorflow.org/images/colab_logo_32px.png\" />구글 코랩(Colab)에서 실행하기</a>\n",
        "  </td>\n",
        "</table>"
      ]
    },
    {
      "cell_type": "code",
      "execution_count": 1,
      "metadata": {
        "id": "MEV9jigtgBM9"
      },
      "outputs": [],
      "source": [
        "# 노트북이 코랩에서 실행 중인지 체크합니다.\n",
        "import sys\n",
        "if 'google.colab' in sys.modules:\n",
        "    !wget -q https://github.com/rickiepark/aiml4coders/raw/main/ch05/sarcasm.json\n",
        "    !mkdir ../ch05\n",
        "    !mv sarcasm.json ../ch05"
      ]
    },
    {
      "attachments": {},
      "cell_type": "markdown",
      "metadata": {},
      "source": [
        "## 1. 단어의 의미 구축하기\n",
        "### 1-1. 간단한 방법: 양수와 음수\n",
        "숫자에서 의미를 유도하는 방식 - 양수와 음수 인코딩   \n",
        "빈정거리는(sarcasm) 헤드라인의 단어에는 +1   \n",
        "평범한 헤드라인의 단어에는 -1   \n",
        "-> 그 결과로 **딕셔너리 형태의 단어별 점수 인코딩 사전**을 얻을 수 있다.   \n",
        "-> 새로운 문장을 해석할 때 각 단어의 점수를 더해서, 양수라면 빈정거리는 문장 / 음수라면 평범한 문장으로 판단할 수 있다."
      ]
    },
    {
      "attachments": {},
      "cell_type": "markdown",
      "metadata": {},
      "source": [
        "### 1-2. 조금 더 어려운 방법: 벡터\n",
        "멘탈 모델: 다른 단어와의 연관성을 부여하여 상대적인 의미를 만든다.    \n",
        "한 단어의 벡터와 다른 단어의 벡터 사이에 있는 관계와 축을 기반으로 하는 상대적인 의미를 도출한다.   \n",
        "--> 임베딩: 신경망을 훈련하여 학습된 단어의 벡터 표현"
      ]
    },
    {
      "attachments": {},
      "cell_type": "markdown",
      "metadata": {
        "id": "j-IK6e5hgBNA"
      },
      "source": [
        "## 2. 텐서플로의 임베딩\n",
        "### 2-0(준비). Sarcasm 데이터셋 로딩 및 전처리"
      ]
    },
    {
      "cell_type": "code",
      "execution_count": 1,
      "metadata": {
        "id": "owXdVC99gBNB"
      },
      "outputs": [],
      "source": [
        "import json\n",
        "from tensorflow.keras.preprocessing.text import Tokenizer\n",
        "from tensorflow.keras.preprocessing.sequence import pad_sequences\n",
        "from bs4 import BeautifulSoup\n",
        "import string\n",
        "import tensorflow as tf"
      ]
    },
    {
      "cell_type": "code",
      "execution_count": 2,
      "metadata": {
        "id": "xiVxJWPugBNB"
      },
      "outputs": [],
      "source": [
        "stopwords = [\"a\", \"about\", \"above\", \"after\", \"again\", \"against\", \"all\", \"am\", \"an\", \"and\", \"any\", \"are\", \"as\", \"at\",\n",
        "             \"be\", \"because\", \"been\", \"before\", \"being\", \"below\", \"between\", \"both\", \"but\", \"by\", \"could\", \"did\", \"do\",\n",
        "             \"does\", \"doing\", \"down\", \"during\", \"each\", \"few\", \"for\", \"from\", \"further\", \"had\", \"has\", \"have\", \"having\",\n",
        "             \"he\", \"hed\", \"hes\", \"her\", \"here\", \"heres\", \"hers\", \"herself\", \"him\", \"himself\", \"his\", \"how\",\n",
        "             \"hows\", \"i\", \"id\", \"ill\", \"im\", \"ive\", \"if\", \"in\", \"into\", \"is\", \"it\", \"its\", \"itself\",\n",
        "             \"lets\", \"me\", \"more\", \"most\", \"my\", \"myself\", \"nor\", \"of\", \"on\", \"once\", \"only\", \"or\", \"other\", \"ought\",\n",
        "             \"our\", \"ours\", \"ourselves\", \"out\", \"over\", \"own\", \"same\", \"she\", \"shed\", \"shell\", \"shes\", \"should\",\n",
        "             \"so\", \"some\", \"such\", \"than\", \"that\", \"thats\", \"the\", \"their\", \"theirs\", \"them\", \"themselves\", \"then\",\n",
        "             \"there\", \"theres\", \"these\", \"they\", \"theyd\", \"theyll\", \"theyre\", \"theyve\", \"this\", \"those\", \"through\",\n",
        "             \"to\", \"too\", \"under\", \"until\", \"up\", \"very\", \"was\", \"we\", \"wed\", \"well\", \"were\", \"weve\", \"were\",\n",
        "             \"what\", \"whats\", \"when\", \"whens\", \"where\", \"wheres\", \"which\", \"while\", \"who\", \"whos\", \"whom\", \"why\",\n",
        "             \"whys\", \"with\", \"would\", \"you\", \"youd\", \"youll\", \"youre\", \"youve\", \"your\", \"yours\", \"yourself\",\n",
        "             \"yourselves\"]\n",
        "\n",
        "table = str.maketrans('', '', string.punctuation)"
      ]
    },
    {
      "cell_type": "code",
      "execution_count": 72,
      "metadata": {
        "id": "yBA7EgW0gBNC"
      },
      "outputs": [
        {
          "name": "stderr",
          "output_type": "stream",
          "text": [
            "c:\\Anaconda3\\lib\\site-packages\\bs4\\__init__.py:435: MarkupResemblesLocatorWarning: The input looks more like a filename than markup. You may want to open this file and pass the filehandle into Beautiful Soup.\n",
            "  warnings.warn(\n"
          ]
        }
      ],
      "source": [
        "with open(\"../ch05/sarcasm.json\", 'r') as f:\n",
        "    datastore = json.load(f)\n",
        "\n",
        "sentences = [] \n",
        "labels = []\n",
        "urls = []\n",
        "for item in datastore:\n",
        "    sentence = item['headline'].lower()\n",
        "    sentence = sentence.replace(\",\", \" , \")\n",
        "    sentence = sentence.replace(\".\", \" . \")\n",
        "    sentence = sentence.replace(\"-\", \" - \")\n",
        "    sentence = sentence.replace(\"/\", \" / \")\n",
        "    soup = BeautifulSoup(sentence)\n",
        "    sentence = soup.get_text()\n",
        "    words = sentence.split()\n",
        "    filtered_sentence = \"\"\n",
        "    for word in words:\n",
        "        word = word.translate(table)\n",
        "        if word not in stopwords:\n",
        "            filtered_sentence = filtered_sentence + word + \" \"\n",
        "    sentences.append(filtered_sentence)\n",
        "    labels.append(item['is_sarcastic'])\n",
        "    urls.append(item['article_link'])"
      ]
    },
    {
      "cell_type": "code",
      "execution_count": 4,
      "metadata": {
        "id": "Jq5rgZr6gBNE"
      },
      "outputs": [],
      "source": [
        "vocab_size = 10000\n",
        "embedding_dim = 16\n",
        "max_length = 100\n",
        "trunc_type='post'\n",
        "padding_type='post'\n",
        "oov_tok = \"<OOV>\"\n",
        "training_size = 23000"
      ]
    },
    {
      "cell_type": "code",
      "execution_count": 73,
      "metadata": {
        "id": "-y_xR2OcgBNF"
      },
      "outputs": [],
      "source": [
        "# ▼ 훈련 세트와 테스트 세트, 훈련 라벨과 테스트 라벨 분리하기\n",
        "training_sentences = sentences[0:training_size]\n",
        "testing_sentences = sentences[training_size:]\n",
        "training_labels = labels[0:training_size]\n",
        "testing_labels = labels[training_size:]"
      ]
    },
    {
      "cell_type": "code",
      "execution_count": 6,
      "metadata": {
        "id": "-h4FtvdCgBNG"
      },
      "outputs": [],
      "source": [
        "# ▼ 단어 단위로 토큰화\n",
        "tokenizer = Tokenizer(num_words=vocab_size, oov_token=oov_tok)\n",
        "tokenizer.fit_on_texts(training_sentences)\n",
        "\n",
        "word_index = tokenizer.word_index\n",
        "\n",
        "# ▼ 훈련 세트와 테스트 세트를 시퀀스 리스트로 만들고, 패딩 적용\n",
        "training_sequences = tokenizer.texts_to_sequences(training_sentences)\n",
        "training_padded = pad_sequences(training_sequences, maxlen=max_length, padding=padding_type, truncating=trunc_type)\n",
        "\n",
        "testing_sequences = tokenizer.texts_to_sequences(testing_sentences)\n",
        "testing_padded = pad_sequences(testing_sequences, maxlen=max_length, padding=padding_type, truncating=trunc_type)"
      ]
    },
    {
      "attachments": {},
      "cell_type": "markdown",
      "metadata": {
        "id": "ejp-3evHgBNG"
      },
      "source": [
        "### 2-1. 임베딩을 사용해 빈정거림 감지기 만들기"
      ]
    },
    {
      "cell_type": "code",
      "execution_count": 7,
      "metadata": {
        "id": "u6SQw5lJgBNH"
      },
      "outputs": [],
      "source": [
        "import numpy as np\n",
        "\n",
        "# np.arrapy로 변환해주기\n",
        "training_padded = np.array(training_padded)\n",
        "training_labels = np.array(training_labels)\n",
        "testing_padded = np.array(testing_padded)\n",
        "testing_labels = np.array(testing_labels)"
      ]
    },
    {
      "cell_type": "code",
      "execution_count": 12,
      "metadata": {},
      "outputs": [
        {
          "data": {
            "text/plain": [
              "(23000, 100)"
            ]
          },
          "metadata": {},
          "output_type": "display_data"
        },
        {
          "data": {
            "text/plain": [
              "(23000,)"
            ]
          },
          "metadata": {},
          "output_type": "display_data"
        }
      ],
      "source": [
        "display(training_padded.shape, training_labels.shape)"
      ]
    },
    {
      "attachments": {},
      "cell_type": "markdown",
      "metadata": {},
      "source": [
        "임베딩 층을 만들 때, **어휘사전 크기**와 **임베딩 차원**을 먼저 지정해야 한다.   \n",
        "embedding_dim을 16으로 지정했다면, 어휘사전에 있는 각 단어는 16차원 벡터에 할당된다.   \n",
        "훈련 데이터의 입력과 레이블을 매핑하기 위해 신경망이 훈련될 때 **역전파**를 통해 벡터가 학습된다. cf) RNN   \n",
        "<br>\n",
        "풀링의 경우, 평균풀링을 이용한다(GlobalAveragePolling1D)   "
      ]
    },
    {
      "cell_type": "code",
      "execution_count": 8,
      "metadata": {
        "id": "Ie6mYqzJgBNH"
      },
      "outputs": [],
      "source": [
        "# vocab_size = 10000\n",
        "# embedding_dim = 16\n",
        "\n",
        "# ▼ 모델 생성하기\n",
        "model = tf.keras.Sequential([\n",
        "    tf.keras.layers.Embedding(vocab_size, embedding_dim),\n",
        "    tf.keras.layers.GlobalAveragePooling1D(),\n",
        "    tf.keras.layers.Dense(24, activation='relu'),\n",
        "    tf.keras.layers.Dense(1, activation='sigmoid')\n",
        "])\n",
        "model.compile(loss='binary_crossentropy',\n",
        "              optimizer='adam',metrics=['accuracy'])"
      ]
    },
    {
      "cell_type": "code",
      "execution_count": 9,
      "metadata": {
        "colab": {
          "base_uri": "https://localhost:8080/"
        },
        "id": "9Kfvepz4gBNI",
        "outputId": "6cb10bdb-5836-4d37-aba1-986f2a192a88"
      },
      "outputs": [
        {
          "name": "stdout",
          "output_type": "stream",
          "text": [
            "Model: \"sequential\"\n",
            "_________________________________________________________________\n",
            " Layer (type)                Output Shape              Param #   \n",
            "=================================================================\n",
            " embedding (Embedding)       (None, None, 16)          160000    \n",
            "                                                                 \n",
            " global_average_pooling1d (G  (None, 16)               0         \n",
            " lobalAveragePooling1D)                                          \n",
            "                                                                 \n",
            " dense (Dense)               (None, 24)                408       \n",
            "                                                                 \n",
            " dense_1 (Dense)             (None, 1)                 25        \n",
            "                                                                 \n",
            "=================================================================\n",
            "Total params: 160,433\n",
            "Trainable params: 160,433\n",
            "Non-trainable params: 0\n",
            "_________________________________________________________________\n"
          ]
        }
      ],
      "source": [
        "model.summary()"
      ]
    },
    {
      "attachments": {},
      "cell_type": "markdown",
      "metadata": {},
      "source": [
        "임베딩층 - 훈련 가능한 파라미터 수 160000개 = 어휘사전 크기 10000 x 벡터 16차원   \n",
        "풀링층 - 단순히 평균하여 16차원 벡터를 만들기 때문에 훈련가능한 파라미터는 0   \n",
        "밀집층 - (가중치 24 x 16차원) + (절편 16) = 408개 파라미터 학습   \n",
        "마지막층 - (1 x 24) + 1 = 25개 파라미터"
      ]
    },
    {
      "cell_type": "code",
      "execution_count": 13,
      "metadata": {
        "colab": {
          "base_uri": "https://localhost:8080/"
        },
        "id": "CfKHYQnGgBNJ",
        "outputId": "204f569f-86ff-4284-e197-cbef0df90607",
        "scrolled": true
      },
      "outputs": [
        {
          "name": "stdout",
          "output_type": "stream",
          "text": [
            "Epoch 1/30\n",
            "719/719 [==============================] - 3s 3ms/step - loss: 0.6816 - accuracy: 0.5601 - val_loss: 0.6605 - val_accuracy: 0.5840\n",
            "Epoch 2/30\n",
            "719/719 [==============================] - 2s 2ms/step - loss: 0.5564 - accuracy: 0.7229 - val_loss: 0.4830 - val_accuracy: 0.7838\n",
            "Epoch 3/30\n",
            "719/719 [==============================] - 2s 3ms/step - loss: 0.3978 - accuracy: 0.8294 - val_loss: 0.4496 - val_accuracy: 0.7873\n",
            "Epoch 4/30\n",
            "719/719 [==============================] - 2s 2ms/step - loss: 0.3289 - accuracy: 0.8617 - val_loss: 0.4215 - val_accuracy: 0.8072\n",
            "Epoch 5/30\n",
            "719/719 [==============================] - 2s 2ms/step - loss: 0.2908 - accuracy: 0.8793 - val_loss: 0.4261 - val_accuracy: 0.8088\n",
            "Epoch 6/30\n",
            "719/719 [==============================] - 2s 2ms/step - loss: 0.2627 - accuracy: 0.8929 - val_loss: 0.4365 - val_accuracy: 0.8053\n",
            "Epoch 7/30\n",
            "719/719 [==============================] - 2s 2ms/step - loss: 0.2415 - accuracy: 0.9026 - val_loss: 0.4480 - val_accuracy: 0.8032\n",
            "Epoch 8/30\n",
            "719/719 [==============================] - 2s 2ms/step - loss: 0.2226 - accuracy: 0.9103 - val_loss: 0.4636 - val_accuracy: 0.8035\n",
            "Epoch 9/30\n",
            "719/719 [==============================] - 2s 2ms/step - loss: 0.2086 - accuracy: 0.9152 - val_loss: 0.4903 - val_accuracy: 0.7956\n",
            "Epoch 10/30\n",
            "719/719 [==============================] - 1s 2ms/step - loss: 0.1983 - accuracy: 0.9217 - val_loss: 0.5034 - val_accuracy: 0.8026\n",
            "Epoch 11/30\n",
            "719/719 [==============================] - 2s 2ms/step - loss: 0.1859 - accuracy: 0.9252 - val_loss: 0.5262 - val_accuracy: 0.8013\n",
            "Epoch 12/30\n",
            "719/719 [==============================] - 2s 2ms/step - loss: 0.1750 - accuracy: 0.9315 - val_loss: 0.5758 - val_accuracy: 0.7846\n",
            "Epoch 13/30\n",
            "719/719 [==============================] - 2s 2ms/step - loss: 0.1670 - accuracy: 0.9353 - val_loss: 0.5726 - val_accuracy: 0.7956\n",
            "Epoch 14/30\n",
            "719/719 [==============================] - 2s 2ms/step - loss: 0.1588 - accuracy: 0.9392 - val_loss: 0.5988 - val_accuracy: 0.7946\n",
            "Epoch 15/30\n",
            "719/719 [==============================] - 2s 2ms/step - loss: 0.1532 - accuracy: 0.9416 - val_loss: 0.6270 - val_accuracy: 0.7927\n",
            "Epoch 16/30\n",
            "719/719 [==============================] - 2s 2ms/step - loss: 0.1461 - accuracy: 0.9452 - val_loss: 0.6583 - val_accuracy: 0.7854\n",
            "Epoch 17/30\n",
            "719/719 [==============================] - 2s 2ms/step - loss: 0.1409 - accuracy: 0.9465 - val_loss: 0.6864 - val_accuracy: 0.7816\n",
            "Epoch 18/30\n",
            "719/719 [==============================] - 2s 3ms/step - loss: 0.1349 - accuracy: 0.9503 - val_loss: 0.7172 - val_accuracy: 0.7894\n",
            "Epoch 19/30\n",
            "719/719 [==============================] - 2s 3ms/step - loss: 0.1307 - accuracy: 0.9501 - val_loss: 0.7572 - val_accuracy: 0.7789\n",
            "Epoch 20/30\n",
            "719/719 [==============================] - 2s 2ms/step - loss: 0.1268 - accuracy: 0.9526 - val_loss: 0.7858 - val_accuracy: 0.7873\n",
            "Epoch 21/30\n",
            "719/719 [==============================] - 2s 2ms/step - loss: 0.1226 - accuracy: 0.9543 - val_loss: 0.7993 - val_accuracy: 0.7838\n",
            "Epoch 22/30\n",
            "719/719 [==============================] - 2s 2ms/step - loss: 0.1163 - accuracy: 0.9570 - val_loss: 0.8246 - val_accuracy: 0.7773\n",
            "Epoch 23/30\n",
            "719/719 [==============================] - 2s 2ms/step - loss: 0.1119 - accuracy: 0.9601 - val_loss: 0.8535 - val_accuracy: 0.7768\n",
            "Epoch 24/30\n",
            "719/719 [==============================] - 2s 2ms/step - loss: 0.1102 - accuracy: 0.9601 - val_loss: 0.9082 - val_accuracy: 0.7827\n",
            "Epoch 25/30\n",
            "719/719 [==============================] - 2s 2ms/step - loss: 0.1074 - accuracy: 0.9607 - val_loss: 0.9308 - val_accuracy: 0.7811\n",
            "Epoch 26/30\n",
            "719/719 [==============================] - 2s 2ms/step - loss: 0.1036 - accuracy: 0.9626 - val_loss: 1.0397 - val_accuracy: 0.7797\n",
            "Epoch 27/30\n",
            "719/719 [==============================] - 2s 2ms/step - loss: 0.0997 - accuracy: 0.9631 - val_loss: 0.9857 - val_accuracy: 0.7789\n",
            "Epoch 28/30\n",
            "719/719 [==============================] - 2s 2ms/step - loss: 0.0964 - accuracy: 0.9662 - val_loss: 1.0748 - val_accuracy: 0.7762\n",
            "Epoch 29/30\n",
            "719/719 [==============================] - 2s 2ms/step - loss: 0.0956 - accuracy: 0.9669 - val_loss: 1.0784 - val_accuracy: 0.7765\n",
            "Epoch 30/30\n",
            "719/719 [==============================] - 1s 2ms/step - loss: 0.0926 - accuracy: 0.9668 - val_loss: 1.0754 - val_accuracy: 0.7778\n"
          ]
        }
      ],
      "source": [
        "# ▼ 모델 훈련시키기\n",
        "num_epochs = 30\n",
        "history = model.fit(training_padded, training_labels, epochs=num_epochs,\n",
        "                    validation_data=(testing_padded, testing_labels))"
      ]
    },
    {
      "cell_type": "code",
      "execution_count": 14,
      "metadata": {
        "colab": {
          "base_uri": "https://localhost:8080/",
          "height": 279
        },
        "id": "euOKD1lagBNJ",
        "outputId": "6e0d710f-93ef-44fe-ef6d-9d3ea1bbf4cb"
      },
      "outputs": [
        {
          "data": {
            "image/png": "[encoded data removed]",
            "text/plain": [
              "<Figure size 640x480 with 1 Axes>"
            ]
          },
          "metadata": {},
          "output_type": "display_data"
        }
      ],
      "source": [
        "import matplotlib.pyplot as plt\n",
        "\n",
        "# ▼ 정확도 시각화\n",
        "plt.plot(history.history['accuracy'])       # 훈련세트\n",
        "plt.plot(history.history['val_accuracy'])   # 검증세트\n",
        "plt.xlabel('epochs')\n",
        "plt.ylabel('accuracy')\n",
        "plt.legend(['accuracy', 'val_accuracy'])\n",
        "plt.show()"
      ]
    },
    {
      "cell_type": "code",
      "execution_count": 13,
      "metadata": {
        "colab": {
          "base_uri": "https://localhost:8080/",
          "height": 279
        },
        "id": "nl07--uzgBNP",
        "outputId": "0ee0c68f-faaf-41f9-a9bd-acf085e20287"
      },
      "outputs": [
        {
          "data": {
            "image/png": "[encoded data removed]",
            "text/plain": [
              "<Figure size 432x288 with 1 Axes>"
            ]
          },
          "metadata": {
            "needs_background": "light"
          },
          "output_type": "display_data"
        }
      ],
      "source": [
        "# ▼ 손실값 시각화\n",
        "plt.plot(history.history['loss'])       # 훈련세트\n",
        "plt.plot(history.history['val_loss'])   # 검증세트\n",
        "plt.xlabel('epochs')\n",
        "plt.ylabel('loss')\n",
        "plt.legend(['loss', 'val_loss'])\n",
        "plt.show()"
      ]
    },
    {
      "attachments": {},
      "cell_type": "markdown",
      "metadata": {},
      "source": [
        "과대적합이 나타난 것을 확인할 수 있다."
      ]
    },
    {
      "attachments": {},
      "cell_type": "markdown",
      "metadata": {
        "id": "1J8ozOTJgBNQ"
      },
      "source": [
        "### 2-2. 언어 모델의 과대적합 줄이기\n",
        "\n",
        "#### 2-2-1. 학습률 조정하기\n",
        "과대적합을 일으키는 가장 큰 요소: 옵티마이저의 학습률(learning rate)이 너무 높은 경우 = 신경망이 너무 빠르게 학습한다   \n",
        "learning_rate의 기본값은 0.001 -> 0.0001로 변경   \n",
        "beta_1과 beta_2(0~1사이, 둘 다 1에 가까운 값 사용), amsgrad는 기본값 그대로 사용   \n",
        "\n",
        "<과대적합 해결방향>\n",
        "1. 학습률 낮추기\n",
        "2. 에포크 늘리기\n",
        "3. 드롭아웃 추가"
      ]
    },
    {
      "cell_type": "code",
      "execution_count": 15,
      "metadata": {
        "colab": {
          "base_uri": "https://localhost:8080/"
        },
        "id": "iv6Azv_1gBNQ",
        "outputId": "f8f95f17-c632-4242-f516-bcec649a25a2"
      },
      "outputs": [
        {
          "name": "stdout",
          "output_type": "stream",
          "text": [
            "Epoch 1/100\n",
            "719/719 [==============================] - 2s 2ms/step - loss: 0.6878 - accuracy: 0.5596 - val_loss: 0.6837 - val_accuracy: 0.5700\n",
            "Epoch 2/100\n",
            "719/719 [==============================] - 2s 2ms/step - loss: 0.6852 - accuracy: 0.5596 - val_loss: 0.6823 - val_accuracy: 0.5700\n",
            "Epoch 3/100\n",
            "719/719 [==============================] - 2s 2ms/step - loss: 0.6843 - accuracy: 0.5596 - val_loss: 0.6813 - val_accuracy: 0.5700\n",
            "Epoch 4/100\n",
            "719/719 [==============================] - 2s 3ms/step - loss: 0.6830 - accuracy: 0.5596 - val_loss: 0.6800 - val_accuracy: 0.5700\n",
            "Epoch 5/100\n",
            "719/719 [==============================] - 2s 2ms/step - loss: 0.6812 - accuracy: 0.5596 - val_loss: 0.6779 - val_accuracy: 0.5700\n",
            "Epoch 6/100\n",
            "719/719 [==============================] - 2s 2ms/step - loss: 0.6786 - accuracy: 0.5596 - val_loss: 0.6754 - val_accuracy: 0.5700\n",
            "Epoch 7/100\n",
            "719/719 [==============================] - 2s 2ms/step - loss: 0.6750 - accuracy: 0.5597 - val_loss: 0.6713 - val_accuracy: 0.5700\n",
            "Epoch 8/100\n",
            "719/719 [==============================] - 2s 2ms/step - loss: 0.6699 - accuracy: 0.5600 - val_loss: 0.6662 - val_accuracy: 0.5713\n",
            "Epoch 9/100\n",
            "719/719 [==============================] - 2s 2ms/step - loss: 0.6629 - accuracy: 0.5657 - val_loss: 0.6594 - val_accuracy: 0.5864\n",
            "Epoch 10/100\n",
            "719/719 [==============================] - 2s 2ms/step - loss: 0.6533 - accuracy: 0.5830 - val_loss: 0.6496 - val_accuracy: 0.6266\n",
            "Epoch 11/100\n",
            "719/719 [==============================] - 1s 2ms/step - loss: 0.6406 - accuracy: 0.6276 - val_loss: 0.6366 - val_accuracy: 0.6317\n",
            "Epoch 12/100\n",
            "719/719 [==============================] - 1s 2ms/step - loss: 0.6246 - accuracy: 0.6643 - val_loss: 0.6227 - val_accuracy: 0.7026\n",
            "Epoch 13/100\n",
            "719/719 [==============================] - 2s 2ms/step - loss: 0.6062 - accuracy: 0.7052 - val_loss: 0.6071 - val_accuracy: 0.7296\n",
            "Epoch 14/100\n",
            "719/719 [==============================] - 1s 2ms/step - loss: 0.5864 - accuracy: 0.7320 - val_loss: 0.5894 - val_accuracy: 0.7355\n",
            "Epoch 15/100\n",
            "719/719 [==============================] - 2s 2ms/step - loss: 0.5660 - accuracy: 0.7521 - val_loss: 0.5741 - val_accuracy: 0.7517\n",
            "Epoch 16/100\n",
            "719/719 [==============================] - 1s 2ms/step - loss: 0.5453 - accuracy: 0.7686 - val_loss: 0.5574 - val_accuracy: 0.7598\n",
            "Epoch 17/100\n",
            "719/719 [==============================] - 2s 2ms/step - loss: 0.5250 - accuracy: 0.7806 - val_loss: 0.5415 - val_accuracy: 0.7644\n",
            "Epoch 18/100\n",
            "719/719 [==============================] - 1s 2ms/step - loss: 0.5054 - accuracy: 0.7909 - val_loss: 0.5257 - val_accuracy: 0.7638\n",
            "Epoch 19/100\n",
            "719/719 [==============================] - 1s 2ms/step - loss: 0.4866 - accuracy: 0.7999 - val_loss: 0.5172 - val_accuracy: 0.7714\n",
            "Epoch 20/100\n",
            "719/719 [==============================] - 2s 2ms/step - loss: 0.4690 - accuracy: 0.8099 - val_loss: 0.4992 - val_accuracy: 0.7730\n",
            "Epoch 21/100\n",
            "719/719 [==============================] - 2s 2ms/step - loss: 0.4523 - accuracy: 0.8170 - val_loss: 0.4883 - val_accuracy: 0.7795\n",
            "Epoch 22/100\n",
            "719/719 [==============================] - 2s 2ms/step - loss: 0.4368 - accuracy: 0.8256 - val_loss: 0.4784 - val_accuracy: 0.7832\n",
            "Epoch 23/100\n",
            "719/719 [==============================] - 2s 2ms/step - loss: 0.4224 - accuracy: 0.8299 - val_loss: 0.4701 - val_accuracy: 0.7884\n",
            "Epoch 24/100\n",
            "719/719 [==============================] - 2s 3ms/step - loss: 0.4090 - accuracy: 0.8366 - val_loss: 0.4633 - val_accuracy: 0.7902\n",
            "Epoch 25/100\n",
            "719/719 [==============================] - 2s 2ms/step - loss: 0.3968 - accuracy: 0.8393 - val_loss: 0.4544 - val_accuracy: 0.7935\n",
            "Epoch 26/100\n",
            "719/719 [==============================] - 2s 2ms/step - loss: 0.3856 - accuracy: 0.8440 - val_loss: 0.4477 - val_accuracy: 0.7908\n",
            "Epoch 27/100\n",
            "719/719 [==============================] - 2s 2ms/step - loss: 0.3751 - accuracy: 0.8479 - val_loss: 0.4473 - val_accuracy: 0.7940\n",
            "Epoch 28/100\n",
            "719/719 [==============================] - 1s 2ms/step - loss: 0.3658 - accuracy: 0.8518 - val_loss: 0.4381 - val_accuracy: 0.7940\n",
            "Epoch 29/100\n",
            "719/719 [==============================] - 2s 2ms/step - loss: 0.3564 - accuracy: 0.8556 - val_loss: 0.4343 - val_accuracy: 0.7954\n",
            "Epoch 30/100\n",
            "719/719 [==============================] - 1s 2ms/step - loss: 0.3482 - accuracy: 0.8578 - val_loss: 0.4311 - val_accuracy: 0.7986\n",
            "Epoch 31/100\n",
            "719/719 [==============================] - 2s 2ms/step - loss: 0.3404 - accuracy: 0.8619 - val_loss: 0.4285 - val_accuracy: 0.8002\n",
            "Epoch 32/100\n",
            "719/719 [==============================] - 2s 2ms/step - loss: 0.3329 - accuracy: 0.8646 - val_loss: 0.4264 - val_accuracy: 0.8008\n",
            "Epoch 33/100\n",
            "719/719 [==============================] - 2s 2ms/step - loss: 0.3263 - accuracy: 0.8676 - val_loss: 0.4242 - val_accuracy: 0.7999\n",
            "Epoch 34/100\n",
            "719/719 [==============================] - 2s 2ms/step - loss: 0.3197 - accuracy: 0.8706 - val_loss: 0.4241 - val_accuracy: 0.8024\n",
            "Epoch 35/100\n",
            "719/719 [==============================] - 2s 2ms/step - loss: 0.3134 - accuracy: 0.8717 - val_loss: 0.4211 - val_accuracy: 0.8024\n",
            "Epoch 36/100\n",
            "719/719 [==============================] - 2s 2ms/step - loss: 0.3078 - accuracy: 0.8741 - val_loss: 0.4222 - val_accuracy: 0.8053\n",
            "Epoch 37/100\n",
            "719/719 [==============================] - 2s 2ms/step - loss: 0.3020 - accuracy: 0.8767 - val_loss: 0.4194 - val_accuracy: 0.8035\n",
            "Epoch 38/100\n",
            "719/719 [==============================] - 2s 2ms/step - loss: 0.2969 - accuracy: 0.8797 - val_loss: 0.4186 - val_accuracy: 0.8059\n",
            "Epoch 39/100\n",
            "719/719 [==============================] - 2s 2ms/step - loss: 0.2919 - accuracy: 0.8814 - val_loss: 0.4183 - val_accuracy: 0.8056\n",
            "Epoch 40/100\n",
            "719/719 [==============================] - 2s 2ms/step - loss: 0.2869 - accuracy: 0.8837 - val_loss: 0.4182 - val_accuracy: 0.8075\n",
            "Epoch 41/100\n",
            "719/719 [==============================] - 2s 2ms/step - loss: 0.2821 - accuracy: 0.8866 - val_loss: 0.4180 - val_accuracy: 0.8086\n",
            "Epoch 42/100\n",
            "719/719 [==============================] - 2s 2ms/step - loss: 0.2774 - accuracy: 0.8889 - val_loss: 0.4195 - val_accuracy: 0.8075\n",
            "Epoch 43/100\n",
            "719/719 [==============================] - 2s 2ms/step - loss: 0.2735 - accuracy: 0.8900 - val_loss: 0.4186 - val_accuracy: 0.8097\n",
            "Epoch 44/100\n",
            "719/719 [==============================] - 2s 2ms/step - loss: 0.2692 - accuracy: 0.8919 - val_loss: 0.4188 - val_accuracy: 0.8094\n",
            "Epoch 45/100\n",
            "719/719 [==============================] - 2s 2ms/step - loss: 0.2651 - accuracy: 0.8944 - val_loss: 0.4201 - val_accuracy: 0.8091\n",
            "Epoch 46/100\n",
            "719/719 [==============================] - 2s 2ms/step - loss: 0.2616 - accuracy: 0.8962 - val_loss: 0.4206 - val_accuracy: 0.8097\n",
            "Epoch 47/100\n",
            "719/719 [==============================] - 2s 2ms/step - loss: 0.2578 - accuracy: 0.8963 - val_loss: 0.4209 - val_accuracy: 0.8102\n",
            "Epoch 48/100\n",
            "719/719 [==============================] - 2s 2ms/step - loss: 0.2540 - accuracy: 0.8998 - val_loss: 0.4220 - val_accuracy: 0.8097\n",
            "Epoch 49/100\n",
            "719/719 [==============================] - 2s 2ms/step - loss: 0.2506 - accuracy: 0.8996 - val_loss: 0.4230 - val_accuracy: 0.8105\n",
            "Epoch 50/100\n",
            "719/719 [==============================] - 2s 2ms/step - loss: 0.2473 - accuracy: 0.9019 - val_loss: 0.4249 - val_accuracy: 0.8083\n",
            "Epoch 51/100\n",
            "719/719 [==============================] - 2s 3ms/step - loss: 0.2439 - accuracy: 0.9026 - val_loss: 0.4254 - val_accuracy: 0.8107\n",
            "Epoch 52/100\n",
            "719/719 [==============================] - 2s 3ms/step - loss: 0.2408 - accuracy: 0.9044 - val_loss: 0.4333 - val_accuracy: 0.8040\n",
            "Epoch 53/100\n",
            "719/719 [==============================] - 2s 3ms/step - loss: 0.2377 - accuracy: 0.9058 - val_loss: 0.4290 - val_accuracy: 0.8070\n",
            "Epoch 54/100\n",
            "719/719 [==============================] - 3s 4ms/step - loss: 0.2345 - accuracy: 0.9072 - val_loss: 0.4303 - val_accuracy: 0.8067\n",
            "Epoch 55/100\n",
            "719/719 [==============================] - 3s 5ms/step - loss: 0.2318 - accuracy: 0.9087 - val_loss: 0.4322 - val_accuracy: 0.8067\n",
            "Epoch 56/100\n",
            "719/719 [==============================] - 3s 5ms/step - loss: 0.2290 - accuracy: 0.9095 - val_loss: 0.4329 - val_accuracy: 0.8086\n",
            "Epoch 57/100\n",
            "719/719 [==============================] - 4s 5ms/step - loss: 0.2261 - accuracy: 0.9100 - val_loss: 0.4352 - val_accuracy: 0.8059\n",
            "Epoch 58/100\n",
            "719/719 [==============================] - 4s 5ms/step - loss: 0.2237 - accuracy: 0.9113 - val_loss: 0.4374 - val_accuracy: 0.8059\n",
            "Epoch 59/100\n",
            "719/719 [==============================] - 4s 5ms/step - loss: 0.2208 - accuracy: 0.9128 - val_loss: 0.4387 - val_accuracy: 0.8080\n",
            "Epoch 60/100\n",
            "719/719 [==============================] - 4s 5ms/step - loss: 0.2186 - accuracy: 0.9134 - val_loss: 0.4406 - val_accuracy: 0.8061\n",
            "Epoch 61/100\n",
            "719/719 [==============================] - 4s 5ms/step - loss: 0.2158 - accuracy: 0.9153 - val_loss: 0.4427 - val_accuracy: 0.8067\n",
            "Epoch 62/100\n",
            "719/719 [==============================] - 4s 5ms/step - loss: 0.2135 - accuracy: 0.9156 - val_loss: 0.4445 - val_accuracy: 0.8051\n",
            "Epoch 63/100\n",
            "719/719 [==============================] - 4s 5ms/step - loss: 0.2111 - accuracy: 0.9171 - val_loss: 0.4474 - val_accuracy: 0.8053\n",
            "Epoch 64/100\n",
            "719/719 [==============================] - 4s 5ms/step - loss: 0.2090 - accuracy: 0.9179 - val_loss: 0.4490 - val_accuracy: 0.8056\n",
            "Epoch 65/100\n",
            "719/719 [==============================] - 4s 6ms/step - loss: 0.2064 - accuracy: 0.9183 - val_loss: 0.4514 - val_accuracy: 0.8051\n",
            "Epoch 66/100\n",
            "719/719 [==============================] - 3s 4ms/step - loss: 0.2044 - accuracy: 0.9200 - val_loss: 0.4540 - val_accuracy: 0.8051\n",
            "Epoch 67/100\n",
            "719/719 [==============================] - 3s 4ms/step - loss: 0.2022 - accuracy: 0.9215 - val_loss: 0.4564 - val_accuracy: 0.8056\n",
            "Epoch 68/100\n",
            "719/719 [==============================] - 2s 3ms/step - loss: 0.2000 - accuracy: 0.9229 - val_loss: 0.4622 - val_accuracy: 0.8045\n",
            "Epoch 69/100\n",
            "719/719 [==============================] - 2s 2ms/step - loss: 0.1981 - accuracy: 0.9224 - val_loss: 0.4618 - val_accuracy: 0.8053\n",
            "Epoch 70/100\n",
            "719/719 [==============================] - 2s 2ms/step - loss: 0.1958 - accuracy: 0.9245 - val_loss: 0.4668 - val_accuracy: 0.8024\n",
            "Epoch 71/100\n",
            "719/719 [==============================] - 2s 2ms/step - loss: 0.1942 - accuracy: 0.9247 - val_loss: 0.4671 - val_accuracy: 0.8016\n",
            "Epoch 72/100\n",
            "719/719 [==============================] - 2s 2ms/step - loss: 0.1918 - accuracy: 0.9252 - val_loss: 0.4702 - val_accuracy: 0.8051\n",
            "Epoch 73/100\n",
            "719/719 [==============================] - 1s 2ms/step - loss: 0.1902 - accuracy: 0.9258 - val_loss: 0.4726 - val_accuracy: 0.8018\n",
            "Epoch 74/100\n",
            "719/719 [==============================] - 2s 2ms/step - loss: 0.1883 - accuracy: 0.9272 - val_loss: 0.4768 - val_accuracy: 0.8021\n",
            "Epoch 75/100\n",
            "719/719 [==============================] - 2s 2ms/step - loss: 0.1865 - accuracy: 0.9281 - val_loss: 0.4789 - val_accuracy: 0.8045\n",
            "Epoch 76/100\n",
            "719/719 [==============================] - 2s 2ms/step - loss: 0.1847 - accuracy: 0.9290 - val_loss: 0.4828 - val_accuracy: 0.8045\n",
            "Epoch 77/100\n",
            "719/719 [==============================] - 2s 2ms/step - loss: 0.1828 - accuracy: 0.9293 - val_loss: 0.4855 - val_accuracy: 0.8037\n",
            "Epoch 78/100\n",
            "719/719 [==============================] - 2s 3ms/step - loss: 0.1810 - accuracy: 0.9306 - val_loss: 0.4899 - val_accuracy: 0.8002\n",
            "Epoch 79/100\n",
            "719/719 [==============================] - 2s 2ms/step - loss: 0.1794 - accuracy: 0.9312 - val_loss: 0.4907 - val_accuracy: 0.8005\n",
            "Epoch 80/100\n",
            "719/719 [==============================] - 2s 2ms/step - loss: 0.1777 - accuracy: 0.9323 - val_loss: 0.4940 - val_accuracy: 0.8005\n",
            "Epoch 81/100\n",
            "719/719 [==============================] - 2s 2ms/step - loss: 0.1759 - accuracy: 0.9331 - val_loss: 0.4980 - val_accuracy: 0.8021\n",
            "Epoch 82/100\n",
            "719/719 [==============================] - 2s 2ms/step - loss: 0.1744 - accuracy: 0.9337 - val_loss: 0.5021 - val_accuracy: 0.8005\n",
            "Epoch 83/100\n",
            "719/719 [==============================] - 2s 2ms/step - loss: 0.1729 - accuracy: 0.9336 - val_loss: 0.5090 - val_accuracy: 0.8008\n",
            "Epoch 84/100\n",
            "719/719 [==============================] - 2s 2ms/step - loss: 0.1711 - accuracy: 0.9354 - val_loss: 0.5075 - val_accuracy: 0.7972\n",
            "Epoch 85/100\n",
            "719/719 [==============================] - 2s 2ms/step - loss: 0.1697 - accuracy: 0.9356 - val_loss: 0.5117 - val_accuracy: 0.7999\n",
            "Epoch 86/100\n",
            "719/719 [==============================] - 2s 2ms/step - loss: 0.1684 - accuracy: 0.9371 - val_loss: 0.5146 - val_accuracy: 0.7986\n",
            "Epoch 87/100\n",
            "719/719 [==============================] - 2s 2ms/step - loss: 0.1668 - accuracy: 0.9370 - val_loss: 0.5183 - val_accuracy: 0.7986\n",
            "Epoch 88/100\n",
            "719/719 [==============================] - 2s 2ms/step - loss: 0.1656 - accuracy: 0.9378 - val_loss: 0.5217 - val_accuracy: 0.7981\n",
            "Epoch 89/100\n",
            "719/719 [==============================] - 2s 2ms/step - loss: 0.1639 - accuracy: 0.9388 - val_loss: 0.5254 - val_accuracy: 0.7978\n",
            "Epoch 90/100\n",
            "719/719 [==============================] - 2s 2ms/step - loss: 0.1622 - accuracy: 0.9386 - val_loss: 0.5296 - val_accuracy: 0.7972\n",
            "Epoch 91/100\n",
            "719/719 [==============================] - 2s 2ms/step - loss: 0.1611 - accuracy: 0.9384 - val_loss: 0.5334 - val_accuracy: 0.7975\n",
            "Epoch 92/100\n",
            "719/719 [==============================] - 2s 2ms/step - loss: 0.1597 - accuracy: 0.9404 - val_loss: 0.5368 - val_accuracy: 0.7962\n",
            "Epoch 93/100\n",
            "719/719 [==============================] - 2s 2ms/step - loss: 0.1580 - accuracy: 0.9410 - val_loss: 0.5407 - val_accuracy: 0.7967\n",
            "Epoch 94/100\n",
            "719/719 [==============================] - 2s 2ms/step - loss: 0.1569 - accuracy: 0.9417 - val_loss: 0.5449 - val_accuracy: 0.7959\n",
            "Epoch 95/100\n",
            "719/719 [==============================] - 2s 2ms/step - loss: 0.1561 - accuracy: 0.9417 - val_loss: 0.5492 - val_accuracy: 0.7962\n",
            "Epoch 96/100\n",
            "719/719 [==============================] - 2s 2ms/step - loss: 0.1540 - accuracy: 0.9438 - val_loss: 0.5527 - val_accuracy: 0.7964\n",
            "Epoch 97/100\n",
            "719/719 [==============================] - 2s 2ms/step - loss: 0.1529 - accuracy: 0.9437 - val_loss: 0.5587 - val_accuracy: 0.7986\n",
            "Epoch 98/100\n",
            "719/719 [==============================] - 2s 2ms/step - loss: 0.1520 - accuracy: 0.9436 - val_loss: 0.5607 - val_accuracy: 0.7964\n",
            "Epoch 99/100\n",
            "719/719 [==============================] - 2s 2ms/step - loss: 0.1507 - accuracy: 0.9444 - val_loss: 0.5649 - val_accuracy: 0.7948\n",
            "Epoch 100/100\n",
            "719/719 [==============================] - 2s 2ms/step - loss: 0.1491 - accuracy: 0.9448 - val_loss: 0.5706 - val_accuracy: 0.7975\n"
          ]
        }
      ],
      "source": [
        "model = tf.keras.Sequential([\n",
        "    tf.keras.layers.Embedding(vocab_size, embedding_dim),\n",
        "    tf.keras.layers.GlobalAveragePooling1D(),\n",
        "    tf.keras.layers.Dense(24, activation='relu'),\n",
        "    tf.keras.layers.Dense(1, activation='sigmoid')\n",
        "])\n",
        "\n",
        "adam = tf.keras.optimizers.Adam(learning_rate=0.0001, \n",
        "                               beta_1=0.9, beta_2=0.999, amsgrad=False)\n",
        "model.compile(loss='binary_crossentropy',\n",
        "              optimizer=adam, metrics=['accuracy'])\n",
        "\n",
        "# 낮은 학습률이 신경망에 큰 영향을 미치므로, 100번으로 늘려본다.\n",
        "history = model.fit(training_padded, training_labels, epochs=100,\n",
        "                    validation_data=(testing_padded, testing_labels))"
      ]
    },
    {
      "cell_type": "code",
      "execution_count": 15,
      "metadata": {
        "colab": {
          "base_uri": "https://localhost:8080/",
          "height": 279
        },
        "id": "kYFAAwy5gBNR",
        "outputId": "3eb66b13-7e05-4dec-998d-c61c087c6c2e"
      },
      "outputs": [
        {
          "data": {
            "image/png": "[encoded data removed]",
            "text/plain": [
              "<Figure size 432x288 with 1 Axes>"
            ]
          },
          "metadata": {
            "needs_background": "light"
          },
          "output_type": "display_data"
        }
      ],
      "source": [
        "plt.plot(history.history['accuracy'])\n",
        "plt.plot(history.history['val_accuracy'])\n",
        "plt.xlabel('epochs')\n",
        "plt.ylabel('accuracy')\n",
        "plt.legend(['accuracy', 'val_accuracy'])\n",
        "plt.show()"
      ]
    },
    {
      "cell_type": "code",
      "execution_count": 16,
      "metadata": {
        "colab": {
          "base_uri": "https://localhost:8080/",
          "height": 279
        },
        "id": "ZWL3on-jgBNR",
        "outputId": "67d0b038-e66e-40d7-ef29-530bbd1900ff"
      },
      "outputs": [
        {
          "data": {
            "image/png": "[encoded data removed]",
            "text/plain": [
              "<Figure size 432x288 with 1 Axes>"
            ]
          },
          "metadata": {
            "needs_background": "light"
          },
          "output_type": "display_data"
        }
      ],
      "source": [
        "plt.plot(history.history['loss'])\n",
        "plt.plot(history.history['val_loss'])\n",
        "plt.xlabel('epochs')\n",
        "plt.ylabel('loss')\n",
        "plt.legend(['loss', 'val_loss'])\n",
        "plt.show()"
      ]
    },
    {
      "attachments": {},
      "cell_type": "markdown",
      "metadata": {},
      "source": [
        "더 오래 걸리지만 손실은 낮아짐 loss: 0.1491 - accuracy: 0.9448   \n",
        "기본 Adam 옵티마이저 사용했으나, 이후 변경해보자."
      ]
    },
    {
      "attachments": {},
      "cell_type": "markdown",
      "metadata": {
        "id": "DjSNkgrfgBNR"
      },
      "source": [
        "#### 2-2-2. 어휘 사전 크기 바꾸기"
      ]
    },
    {
      "attachments": {},
      "cell_type": "markdown",
      "metadata": {},
      "source": [
        "단어의 빈도 확인: tokenizer.word_counts"
      ]
    },
    {
      "cell_type": "code",
      "execution_count": 20,
      "metadata": {
        "id": "C8YSmQ4dgBNS"
      },
      "outputs": [
        {
          "name": "stdout",
          "output_type": "stream",
          "text": [
            "[('former', 90), ('versace', 1), ('store', 44), ('clerk', 9), ('sues', 13), ('secret', 78)]\n"
          ]
        }
      ],
      "source": [
        "# ▼ orderedDict - 단어별 빈도 확인할 수 있는 딕셔너리\n",
        "wc=tokenizer.word_counts\n",
        "print(list(wc.items())[:6])"
      ]
    },
    {
      "cell_type": "code",
      "execution_count": 21,
      "metadata": {
        "id": "J93xnfI0gBNS"
      },
      "outputs": [
        {
          "name": "stdout",
          "output_type": "stream",
          "text": [
            "[('new', 1318), ('trump', 1117), ('man', 1075), ('not', 634), ('just', 501), ('will', 484)]\n"
          ]
        }
      ],
      "source": [
        "from collections import OrderedDict\n",
        "\n",
        "# ▼ 카운트가 높은 순으로 정렬\n",
        "newlist = (OrderedDict(sorted(wc.items(), key=lambda t: t[1], reverse=True)))\n",
        "\n",
        "print(list(newlist.items())[:6])"
      ]
    },
    {
      "cell_type": "code",
      "execution_count": 22,
      "metadata": {
        "colab": {
          "base_uri": "https://localhost:8080/",
          "height": 265
        },
        "id": "zoun09otgBNS",
        "outputId": "2c4b19a3-27ed-4180-a3f8-ef0ae6493a97"
      },
      "outputs": [
        {
          "data": {
            "image/png": "[encoded data removed]",
            "text/plain": [
              "<Figure size 640x480 with 1 Axes>"
            ]
          },
          "metadata": {},
          "output_type": "display_data"
        }
      ],
      "source": [
        "xs=[]\n",
        "ys=[]\n",
        "curr_x = 1\n",
        "for item in newlist:\n",
        "  xs.append(curr_x)\n",
        "  curr_x=curr_x+1\n",
        "  ys.append(newlist[item])\n",
        "\n",
        "plt.plot(xs,ys)\n",
        "plt.show()"
      ]
    },
    {
      "attachments": {},
      "cell_type": "markdown",
      "metadata": {},
      "source": [
        "많이 사용되는 단어는 소수이고, 대부분의 단어는 매우 적게 사용되지만, 중요도는 모두 동일하다.    \n",
        "즉, 검증세트보다 큰 훈련세트를 사용한다면 훈련 세트에 있는 단어가 검증 세트에는 없는 경우가 많을 것."
      ]
    },
    {
      "cell_type": "code",
      "execution_count": 23,
      "metadata": {
        "colab": {
          "base_uri": "https://localhost:8080/",
          "height": 269
        },
        "id": "9Vqch1llgBNT",
        "outputId": "0f976d0b-862f-48a3-82c5-c824d1226ab9",
        "scrolled": true
      },
      "outputs": [
        {
          "data": {
            "image/png": "[encoded data removed]",
            "text/plain": [
              "<Figure size 640x480 with 1 Axes>"
            ]
          },
          "metadata": {},
          "output_type": "display_data"
        }
      ],
      "source": [
        "plt.plot(xs,ys)\n",
        "plt.axis([300,10000,0,100])     # x축을 300~10000, y축을 0~100으로 범위 조정\n",
        "plt.show()                      # 확인"
      ]
    },
    {
      "attachments": {},
      "cell_type": "markdown",
      "metadata": {},
      "source": [
        "말뭉치에 20000개 이상의 단어를 10000개만 사용해 훈련하였는데,   \n",
        "위 그래프를 보면 2000~10000 사이에 있는 단어도 20번 이하로 사용된다.   \n",
        "따라서 어휘사전 크기를 2000으로 바꿔보자."
      ]
    },
    {
      "cell_type": "code",
      "execution_count": 24,
      "metadata": {
        "id": "dKbPZRNigBNT"
      },
      "outputs": [],
      "source": [
        "vocab_size = 2000"
      ]
    },
    {
      "cell_type": "code",
      "execution_count": 25,
      "metadata": {
        "id": "-WO_CH0MgBNT"
      },
      "outputs": [],
      "source": [
        "# ▼ 새로 지정한 사이즈를 기준으로 tokenizer 다시 저장, 단어 개수 다시 계산(fit_on_texts)\n",
        "tokenizer = Tokenizer(num_words=vocab_size, oov_token=oov_tok)\n",
        "tokenizer.fit_on_texts(training_sentences)\n",
        "\n",
        "word_index = tokenizer.word_index\n",
        "\n",
        "# ▼ 훈련세트와 테스트세트를 시퀀스로 변경하고 패딩 적용\n",
        "training_sequences = tokenizer.texts_to_sequences(training_sentences)\n",
        "training_padded = pad_sequences(training_sequences, maxlen=max_length, padding=padding_type, truncating=trunc_type)\n",
        "\n",
        "testing_sequences = tokenizer.texts_to_sequences(testing_sentences)\n",
        "testing_padded = pad_sequences(testing_sequences, maxlen=max_length, padding=padding_type, truncating=trunc_type)"
      ]
    },
    {
      "cell_type": "code",
      "execution_count": 26,
      "metadata": {
        "id": "c5T1qrDwgBNT"
      },
      "outputs": [],
      "source": [
        "# ▼ 시퀀스 리스트를 np.array로\n",
        "training_padded = np.array(training_padded)\n",
        "training_labels = np.array(training_labels)\n",
        "testing_padded = np.array(testing_padded)\n",
        "testing_labels = np.array(testing_labels)"
      ]
    },
    {
      "cell_type": "code",
      "execution_count": 27,
      "metadata": {
        "id": "1D6wKPDWgBNU"
      },
      "outputs": [],
      "source": [
        "# ▼ 모델 재생성\n",
        "model = tf.keras.Sequential([\n",
        "    tf.keras.layers.Embedding(vocab_size, embedding_dim),\n",
        "    tf.keras.layers.GlobalAveragePooling1D(),\n",
        "    tf.keras.layers.Dense(24, activation='relu'),\n",
        "    tf.keras.layers.Dense(1, activation='sigmoid')\n",
        "])\n",
        "model.compile(loss='binary_crossentropy',\n",
        "              optimizer='adam',metrics=['accuracy'])"
      ]
    },
    {
      "cell_type": "code",
      "execution_count": 29,
      "metadata": {
        "colab": {
          "base_uri": "https://localhost:8080/"
        },
        "id": "l1PMAQ-jgBNU",
        "outputId": "ab1e7f29-2eec-491a-e066-a2032942b8ac",
        "scrolled": true
      },
      "outputs": [
        {
          "name": "stdout",
          "output_type": "stream",
          "text": [
            "Epoch 1/30\n",
            "719/719 [==============================] - 1s 2ms/step - loss: 0.3882 - accuracy: 0.8132 - val_loss: 0.4879 - val_accuracy: 0.7730\n",
            "Epoch 2/30\n",
            "719/719 [==============================] - 1s 2ms/step - loss: 0.3893 - accuracy: 0.8156 - val_loss: 0.4824 - val_accuracy: 0.7703\n",
            "Epoch 3/30\n",
            "719/719 [==============================] - 1s 2ms/step - loss: 0.3887 - accuracy: 0.8149 - val_loss: 0.4798 - val_accuracy: 0.7697\n",
            "Epoch 4/30\n",
            "719/719 [==============================] - 1s 2ms/step - loss: 0.3879 - accuracy: 0.8166 - val_loss: 0.4808 - val_accuracy: 0.7692\n",
            "Epoch 5/30\n",
            "719/719 [==============================] - 1s 2ms/step - loss: 0.3882 - accuracy: 0.8149 - val_loss: 0.4875 - val_accuracy: 0.7644\n",
            "Epoch 6/30\n",
            "719/719 [==============================] - 1s 2ms/step - loss: 0.3880 - accuracy: 0.8143 - val_loss: 0.4810 - val_accuracy: 0.7684\n",
            "Epoch 7/30\n",
            "719/719 [==============================] - 1s 2ms/step - loss: 0.3868 - accuracy: 0.8156 - val_loss: 0.4924 - val_accuracy: 0.7603\n",
            "Epoch 8/30\n",
            "719/719 [==============================] - 1s 2ms/step - loss: 0.3882 - accuracy: 0.8152 - val_loss: 0.4900 - val_accuracy: 0.7614\n",
            "Epoch 9/30\n",
            "719/719 [==============================] - 1s 2ms/step - loss: 0.3868 - accuracy: 0.8171 - val_loss: 0.4825 - val_accuracy: 0.7681\n",
            "Epoch 10/30\n",
            "719/719 [==============================] - 1s 2ms/step - loss: 0.3887 - accuracy: 0.8148 - val_loss: 0.4822 - val_accuracy: 0.7751\n",
            "Epoch 11/30\n",
            "719/719 [==============================] - 1s 2ms/step - loss: 0.3869 - accuracy: 0.8145 - val_loss: 0.4818 - val_accuracy: 0.7746\n",
            "Epoch 12/30\n",
            "719/719 [==============================] - 1s 2ms/step - loss: 0.3880 - accuracy: 0.8153 - val_loss: 0.4935 - val_accuracy: 0.7595\n",
            "Epoch 13/30\n",
            "719/719 [==============================] - 1s 2ms/step - loss: 0.3864 - accuracy: 0.8156 - val_loss: 0.4821 - val_accuracy: 0.7733\n",
            "Epoch 14/30\n",
            "719/719 [==============================] - 1s 2ms/step - loss: 0.3869 - accuracy: 0.8151 - val_loss: 0.4965 - val_accuracy: 0.7706\n",
            "Epoch 15/30\n",
            "719/719 [==============================] - 1s 2ms/step - loss: 0.3868 - accuracy: 0.8153 - val_loss: 0.4820 - val_accuracy: 0.7727\n",
            "Epoch 16/30\n",
            "719/719 [==============================] - 1s 2ms/step - loss: 0.3875 - accuracy: 0.8147 - val_loss: 0.4909 - val_accuracy: 0.7617\n",
            "Epoch 17/30\n",
            "719/719 [==============================] - 1s 2ms/step - loss: 0.3865 - accuracy: 0.8154 - val_loss: 0.4864 - val_accuracy: 0.7662\n",
            "Epoch 18/30\n",
            "719/719 [==============================] - 1s 2ms/step - loss: 0.3872 - accuracy: 0.8147 - val_loss: 0.4899 - val_accuracy: 0.7630\n",
            "Epoch 19/30\n",
            "719/719 [==============================] - 1s 2ms/step - loss: 0.3876 - accuracy: 0.8136 - val_loss: 0.4851 - val_accuracy: 0.7681\n",
            "Epoch 20/30\n",
            "719/719 [==============================] - 1s 2ms/step - loss: 0.3861 - accuracy: 0.8157 - val_loss: 0.4851 - val_accuracy: 0.7676\n",
            "Epoch 21/30\n",
            "719/719 [==============================] - 1s 2ms/step - loss: 0.3870 - accuracy: 0.8148 - val_loss: 0.4881 - val_accuracy: 0.7662\n",
            "Epoch 22/30\n",
            "719/719 [==============================] - 1s 1ms/step - loss: 0.3861 - accuracy: 0.8152 - val_loss: 0.4919 - val_accuracy: 0.7627\n",
            "Epoch 23/30\n",
            "719/719 [==============================] - 1s 2ms/step - loss: 0.3878 - accuracy: 0.8160 - val_loss: 0.4839 - val_accuracy: 0.7746\n",
            "Epoch 24/30\n",
            "719/719 [==============================] - 1s 2ms/step - loss: 0.3860 - accuracy: 0.8157 - val_loss: 0.5049 - val_accuracy: 0.7498\n",
            "Epoch 25/30\n",
            "719/719 [==============================] - 1s 2ms/step - loss: 0.3867 - accuracy: 0.8138 - val_loss: 0.4841 - val_accuracy: 0.7757\n",
            "Epoch 26/30\n",
            "719/719 [==============================] - 1s 2ms/step - loss: 0.3860 - accuracy: 0.8154 - val_loss: 0.4836 - val_accuracy: 0.7714\n",
            "Epoch 27/30\n",
            "719/719 [==============================] - 1s 1ms/step - loss: 0.3867 - accuracy: 0.8157 - val_loss: 0.4836 - val_accuracy: 0.7687\n",
            "Epoch 28/30\n",
            "719/719 [==============================] - 1s 2ms/step - loss: 0.3858 - accuracy: 0.8163 - val_loss: 0.4837 - val_accuracy: 0.7743\n",
            "Epoch 29/30\n",
            "719/719 [==============================] - 1s 1ms/step - loss: 0.3864 - accuracy: 0.8169 - val_loss: 0.4978 - val_accuracy: 0.7590\n",
            "Epoch 30/30\n",
            "719/719 [==============================] - 1s 2ms/step - loss: 0.3872 - accuracy: 0.8146 - val_loss: 0.4874 - val_accuracy: 0.7730\n"
          ]
        }
      ],
      "source": [
        "# ▼ 에포크를 30으로 훈련 시작\n",
        "num_epochs = 30\n",
        "history = model.fit(training_padded, training_labels, epochs=num_epochs,\n",
        "                    validation_data=(testing_padded, testing_labels))"
      ]
    },
    {
      "cell_type": "code",
      "execution_count": 26,
      "metadata": {
        "colab": {
          "base_uri": "https://localhost:8080/",
          "height": 279
        },
        "id": "Ak4S_2RagBNU",
        "outputId": "55a322a5-f556-4251-9a95-5b4dea362203"
      },
      "outputs": [
        {
          "data": {
            "image/png": "[encoded data removed]",
            "text/plain": [
              "<Figure size 432x288 with 1 Axes>"
            ]
          },
          "metadata": {
            "needs_background": "light"
          },
          "output_type": "display_data"
        }
      ],
      "source": [
        "plt.plot(history.history['accuracy'])\n",
        "plt.plot(history.history['val_accuracy'])\n",
        "plt.xlabel('epochs')\n",
        "plt.ylabel('accuracy')\n",
        "plt.legend(['accuracy', 'val_accuracy'])\n",
        "plt.show()"
      ]
    },
    {
      "attachments": {},
      "cell_type": "markdown",
      "metadata": {},
      "source": [
        "▲ 정확도는 많이 줄어든 것이 보인다.   \n",
        "그러나 훈련 세트 정확도와 검증 세트 정확도가 가까워진 것을 보아 과대적합이 해결되었다.   \n",
        "\n",
        "▼ 검증 세트 손실이 증가하기는 하지만, 이전보다 느리게 증가한다."
      ]
    },
    {
      "cell_type": "code",
      "execution_count": 27,
      "metadata": {
        "colab": {
          "base_uri": "https://localhost:8080/",
          "height": 279
        },
        "id": "LH8NdWpegBNV",
        "outputId": "9890387a-6957-4b67-fd70-e6a4f2a8bad7",
        "scrolled": true
      },
      "outputs": [
        {
          "data": {
            "image/png": "[encoded data removed]",
            "text/plain": [
              "<Figure size 432x288 with 1 Axes>"
            ]
          },
          "metadata": {
            "needs_background": "light"
          },
          "output_type": "display_data"
        }
      ],
      "source": [
        "plt.plot(history.history['loss'])\n",
        "plt.plot(history.history['val_loss'])\n",
        "plt.xlabel('epochs')\n",
        "plt.ylabel('loss')\n",
        "plt.legend(['loss', 'val_loss'])\n",
        "plt.show()"
      ]
    },
    {
      "attachments": {},
      "cell_type": "markdown",
      "metadata": {
        "id": "ttcUYXWqgBNV"
      },
      "source": [
        "#### 2-2-3. 임베딩 차원 바꾸기"
      ]
    },
    {
      "cell_type": "markdown",
      "metadata": {},
      "source": [
        "이전에는 임베딩 차원을 16으로 지정했다.   \n",
        "하지만 어휘 사전이 줄어들면서 벡터의 일부 원소가 비거나 작은 값이 될 수 있다.   \n",
        "* 임베딩 크기를 결정할 때, 어휘 사전의 네제곱근을 사용하는 것이 좋다.\n",
        "* 2000의 네제곱근은 6.687   ->      임베딩 차원을 7로"
      ]
    },
    {
      "cell_type": "code",
      "execution_count": 30,
      "metadata": {
        "id": "q3XgahVrgBNV"
      },
      "outputs": [],
      "source": [
        "embedding_dim = 7"
      ]
    },
    {
      "cell_type": "code",
      "execution_count": 31,
      "metadata": {
        "id": "2Xt_bIGzgBNV"
      },
      "outputs": [],
      "source": [
        "model = tf.keras.Sequential([\n",
        "    tf.keras.layers.Embedding(vocab_size, embedding_dim),\n",
        "    tf.keras.layers.GlobalAveragePooling1D(),\n",
        "    tf.keras.layers.Dense(24, activation='relu'),\n",
        "    tf.keras.layers.Dense(1, activation='sigmoid')\n",
        "])\n",
        "model.compile(loss='binary_crossentropy',\n",
        "              optimizer='adam',metrics=['accuracy'])"
      ]
    },
    {
      "cell_type": "code",
      "execution_count": 32,
      "metadata": {
        "colab": {
          "base_uri": "https://localhost:8080/"
        },
        "id": "4ieuavm0gBNW",
        "outputId": "5dbb1b0c-a2e3-4059-d428-a574f3f24ca3",
        "scrolled": true
      },
      "outputs": [
        {
          "name": "stdout",
          "output_type": "stream",
          "text": [
            "Epoch 1/100\n",
            "719/719 [==============================] - 2s 2ms/step - loss: 0.6845 - accuracy: 0.5577 - val_loss: 0.6769 - val_accuracy: 0.5700\n",
            "Epoch 2/100\n",
            "719/719 [==============================] - 1s 2ms/step - loss: 0.6220 - accuracy: 0.6459 - val_loss: 0.5542 - val_accuracy: 0.7247\n",
            "Epoch 3/100\n",
            "719/719 [==============================] - 1s 1ms/step - loss: 0.5001 - accuracy: 0.7590 - val_loss: 0.4930 - val_accuracy: 0.7530\n",
            "Epoch 4/100\n",
            "719/719 [==============================] - 1s 1ms/step - loss: 0.4504 - accuracy: 0.7828 - val_loss: 0.4735 - val_accuracy: 0.7641\n",
            "Epoch 5/100\n",
            "719/719 [==============================] - 1s 2ms/step - loss: 0.4288 - accuracy: 0.7941 - val_loss: 0.4776 - val_accuracy: 0.7584\n",
            "Epoch 6/100\n",
            "719/719 [==============================] - 1s 2ms/step - loss: 0.4184 - accuracy: 0.7992 - val_loss: 0.4635 - val_accuracy: 0.7706\n",
            "Epoch 7/100\n",
            "719/719 [==============================] - 1s 2ms/step - loss: 0.4108 - accuracy: 0.8036 - val_loss: 0.4621 - val_accuracy: 0.7743\n",
            "Epoch 8/100\n",
            "719/719 [==============================] - 1s 2ms/step - loss: 0.4050 - accuracy: 0.8056 - val_loss: 0.4630 - val_accuracy: 0.7751\n",
            "Epoch 9/100\n",
            "719/719 [==============================] - 1s 2ms/step - loss: 0.4014 - accuracy: 0.8099 - val_loss: 0.4649 - val_accuracy: 0.7765\n",
            "Epoch 10/100\n",
            "719/719 [==============================] - 1s 1ms/step - loss: 0.3986 - accuracy: 0.8093 - val_loss: 0.4867 - val_accuracy: 0.7571\n",
            "Epoch 11/100\n",
            "719/719 [==============================] - 1s 1ms/step - loss: 0.3968 - accuracy: 0.8120 - val_loss: 0.4675 - val_accuracy: 0.7754\n",
            "Epoch 12/100\n",
            "719/719 [==============================] - 1s 1ms/step - loss: 0.3959 - accuracy: 0.8121 - val_loss: 0.4677 - val_accuracy: 0.7765\n",
            "Epoch 13/100\n",
            "719/719 [==============================] - 1s 1ms/step - loss: 0.3929 - accuracy: 0.8126 - val_loss: 0.4685 - val_accuracy: 0.7792\n",
            "Epoch 14/100\n",
            "719/719 [==============================] - 1s 1ms/step - loss: 0.3921 - accuracy: 0.8132 - val_loss: 0.4692 - val_accuracy: 0.7781\n",
            "Epoch 15/100\n",
            "719/719 [==============================] - 1s 2ms/step - loss: 0.3921 - accuracy: 0.8137 - val_loss: 0.4709 - val_accuracy: 0.7746\n",
            "Epoch 16/100\n",
            "719/719 [==============================] - 1s 2ms/step - loss: 0.3911 - accuracy: 0.8138 - val_loss: 0.4885 - val_accuracy: 0.7609\n",
            "Epoch 17/100\n",
            "719/719 [==============================] - 1s 1ms/step - loss: 0.3905 - accuracy: 0.8144 - val_loss: 0.4714 - val_accuracy: 0.7800\n",
            "Epoch 18/100\n",
            "719/719 [==============================] - 1s 2ms/step - loss: 0.3905 - accuracy: 0.8133 - val_loss: 0.4751 - val_accuracy: 0.7706\n",
            "Epoch 19/100\n",
            "719/719 [==============================] - 1s 1ms/step - loss: 0.3893 - accuracy: 0.8137 - val_loss: 0.4774 - val_accuracy: 0.7700\n",
            "Epoch 20/100\n",
            "719/719 [==============================] - 1s 2ms/step - loss: 0.3880 - accuracy: 0.8151 - val_loss: 0.4878 - val_accuracy: 0.7609\n",
            "Epoch 21/100\n",
            "719/719 [==============================] - 1s 1ms/step - loss: 0.3875 - accuracy: 0.8155 - val_loss: 0.4754 - val_accuracy: 0.7730\n",
            "Epoch 22/100\n",
            "719/719 [==============================] - 1s 2ms/step - loss: 0.3882 - accuracy: 0.8148 - val_loss: 0.4798 - val_accuracy: 0.7765\n",
            "Epoch 23/100\n",
            "719/719 [==============================] - 1s 2ms/step - loss: 0.3876 - accuracy: 0.8146 - val_loss: 0.4777 - val_accuracy: 0.7719\n",
            "Epoch 24/100\n",
            "719/719 [==============================] - 1s 2ms/step - loss: 0.3889 - accuracy: 0.8143 - val_loss: 0.4765 - val_accuracy: 0.7754\n",
            "Epoch 25/100\n",
            "719/719 [==============================] - 1s 1ms/step - loss: 0.3885 - accuracy: 0.8158 - val_loss: 0.4783 - val_accuracy: 0.7711\n",
            "Epoch 26/100\n",
            "719/719 [==============================] - 1s 1ms/step - loss: 0.3886 - accuracy: 0.8150 - val_loss: 0.4776 - val_accuracy: 0.7703\n",
            "Epoch 27/100\n",
            "719/719 [==============================] - 1s 1ms/step - loss: 0.3886 - accuracy: 0.8144 - val_loss: 0.4878 - val_accuracy: 0.7633\n",
            "Epoch 28/100\n",
            "719/719 [==============================] - 1s 2ms/step - loss: 0.3869 - accuracy: 0.8137 - val_loss: 0.4793 - val_accuracy: 0.7706\n",
            "Epoch 29/100\n",
            "719/719 [==============================] - 1s 1ms/step - loss: 0.3872 - accuracy: 0.8164 - val_loss: 0.4784 - val_accuracy: 0.7714\n",
            "Epoch 30/100\n",
            "719/719 [==============================] - 1s 1ms/step - loss: 0.3870 - accuracy: 0.8145 - val_loss: 0.4843 - val_accuracy: 0.7762\n",
            "Epoch 31/100\n",
            "719/719 [==============================] - 1s 1ms/step - loss: 0.3869 - accuracy: 0.8160 - val_loss: 0.4789 - val_accuracy: 0.7765\n",
            "Epoch 32/100\n",
            "719/719 [==============================] - 1s 2ms/step - loss: 0.3875 - accuracy: 0.8152 - val_loss: 0.4900 - val_accuracy: 0.7611\n",
            "Epoch 33/100\n",
            "719/719 [==============================] - 1s 2ms/step - loss: 0.3873 - accuracy: 0.8154 - val_loss: 0.4835 - val_accuracy: 0.7679\n",
            "Epoch 34/100\n",
            "719/719 [==============================] - 1s 2ms/step - loss: 0.3865 - accuracy: 0.8166 - val_loss: 0.4916 - val_accuracy: 0.7611\n",
            "Epoch 35/100\n",
            "719/719 [==============================] - 1s 2ms/step - loss: 0.3862 - accuracy: 0.8164 - val_loss: 0.4803 - val_accuracy: 0.7770\n",
            "Epoch 36/100\n",
            "719/719 [==============================] - 1s 2ms/step - loss: 0.3870 - accuracy: 0.8154 - val_loss: 0.4795 - val_accuracy: 0.7760\n",
            "Epoch 37/100\n",
            "719/719 [==============================] - 1s 2ms/step - loss: 0.3877 - accuracy: 0.8154 - val_loss: 0.4819 - val_accuracy: 0.7692\n",
            "Epoch 38/100\n",
            "719/719 [==============================] - 1s 2ms/step - loss: 0.3860 - accuracy: 0.8157 - val_loss: 0.4813 - val_accuracy: 0.7692\n",
            "Epoch 39/100\n",
            "719/719 [==============================] - 1s 1ms/step - loss: 0.3866 - accuracy: 0.8170 - val_loss: 0.4803 - val_accuracy: 0.7754\n",
            "Epoch 40/100\n",
            "719/719 [==============================] - 1s 1ms/step - loss: 0.3854 - accuracy: 0.8157 - val_loss: 0.4852 - val_accuracy: 0.7662\n",
            "Epoch 41/100\n",
            "719/719 [==============================] - 1s 2ms/step - loss: 0.3862 - accuracy: 0.8138 - val_loss: 0.4817 - val_accuracy: 0.7757\n",
            "Epoch 42/100\n",
            "719/719 [==============================] - 1s 2ms/step - loss: 0.3861 - accuracy: 0.8157 - val_loss: 0.4950 - val_accuracy: 0.7576\n",
            "Epoch 43/100\n",
            "719/719 [==============================] - 1s 1ms/step - loss: 0.3868 - accuracy: 0.8161 - val_loss: 0.4821 - val_accuracy: 0.7749\n",
            "Epoch 44/100\n",
            "719/719 [==============================] - 1s 1ms/step - loss: 0.3862 - accuracy: 0.8153 - val_loss: 0.4936 - val_accuracy: 0.7603\n",
            "Epoch 45/100\n",
            "719/719 [==============================] - 1s 1ms/step - loss: 0.3862 - accuracy: 0.8147 - val_loss: 0.4849 - val_accuracy: 0.7679\n",
            "Epoch 46/100\n",
            "719/719 [==============================] - 1s 2ms/step - loss: 0.3854 - accuracy: 0.8158 - val_loss: 0.4842 - val_accuracy: 0.7679\n",
            "Epoch 47/100\n",
            "719/719 [==============================] - 2s 3ms/step - loss: 0.3858 - accuracy: 0.8173 - val_loss: 0.5016 - val_accuracy: 0.7520\n",
            "Epoch 48/100\n",
            "719/719 [==============================] - 1s 2ms/step - loss: 0.3860 - accuracy: 0.8167 - val_loss: 0.4838 - val_accuracy: 0.7695\n",
            "Epoch 49/100\n",
            "719/719 [==============================] - 1s 2ms/step - loss: 0.3860 - accuracy: 0.8156 - val_loss: 0.4818 - val_accuracy: 0.7741\n",
            "Epoch 50/100\n",
            "719/719 [==============================] - 2s 2ms/step - loss: 0.3861 - accuracy: 0.8153 - val_loss: 0.4864 - val_accuracy: 0.7641\n",
            "Epoch 51/100\n",
            "719/719 [==============================] - 2s 2ms/step - loss: 0.3861 - accuracy: 0.8157 - val_loss: 0.4814 - val_accuracy: 0.7711\n",
            "Epoch 52/100\n",
            "719/719 [==============================] - 1s 2ms/step - loss: 0.3854 - accuracy: 0.8163 - val_loss: 0.4953 - val_accuracy: 0.7711\n",
            "Epoch 53/100\n",
            "719/719 [==============================] - 1s 2ms/step - loss: 0.3855 - accuracy: 0.8160 - val_loss: 0.4820 - val_accuracy: 0.7743\n",
            "Epoch 54/100\n",
            "719/719 [==============================] - 1s 2ms/step - loss: 0.3856 - accuracy: 0.8143 - val_loss: 0.4828 - val_accuracy: 0.7749\n",
            "Epoch 55/100\n",
            "719/719 [==============================] - 1s 2ms/step - loss: 0.3846 - accuracy: 0.8157 - val_loss: 0.4852 - val_accuracy: 0.7746\n",
            "Epoch 56/100\n",
            "719/719 [==============================] - 1s 2ms/step - loss: 0.3854 - accuracy: 0.8175 - val_loss: 0.4834 - val_accuracy: 0.7751\n",
            "Epoch 57/100\n",
            "719/719 [==============================] - 1s 2ms/step - loss: 0.3862 - accuracy: 0.8155 - val_loss: 0.5042 - val_accuracy: 0.7503\n",
            "Epoch 58/100\n",
            "719/719 [==============================] - 2s 2ms/step - loss: 0.3864 - accuracy: 0.8141 - val_loss: 0.4816 - val_accuracy: 0.7727\n",
            "Epoch 59/100\n",
            "719/719 [==============================] - 1s 2ms/step - loss: 0.3853 - accuracy: 0.8156 - val_loss: 0.4856 - val_accuracy: 0.7746\n",
            "Epoch 60/100\n",
            "719/719 [==============================] - 2s 2ms/step - loss: 0.3862 - accuracy: 0.8158 - val_loss: 0.4821 - val_accuracy: 0.7722\n",
            "Epoch 61/100\n",
            "719/719 [==============================] - 1s 2ms/step - loss: 0.3851 - accuracy: 0.8152 - val_loss: 0.4872 - val_accuracy: 0.7735\n",
            "Epoch 62/100\n",
            "719/719 [==============================] - 1s 2ms/step - loss: 0.3856 - accuracy: 0.8163 - val_loss: 0.4932 - val_accuracy: 0.7600\n",
            "Epoch 63/100\n",
            "719/719 [==============================] - 2s 2ms/step - loss: 0.3852 - accuracy: 0.8160 - val_loss: 0.4832 - val_accuracy: 0.7749\n",
            "Epoch 64/100\n",
            "719/719 [==============================] - 2s 2ms/step - loss: 0.3851 - accuracy: 0.8160 - val_loss: 0.4879 - val_accuracy: 0.7738\n",
            "Epoch 65/100\n",
            "719/719 [==============================] - 1s 2ms/step - loss: 0.3864 - accuracy: 0.8158 - val_loss: 0.4832 - val_accuracy: 0.7684\n",
            "Epoch 66/100\n",
            "719/719 [==============================] - 1s 2ms/step - loss: 0.3851 - accuracy: 0.8180 - val_loss: 0.4857 - val_accuracy: 0.7652\n",
            "Epoch 67/100\n",
            "719/719 [==============================] - 2s 2ms/step - loss: 0.3843 - accuracy: 0.8171 - val_loss: 0.4915 - val_accuracy: 0.7622\n",
            "Epoch 68/100\n",
            "719/719 [==============================] - 2s 2ms/step - loss: 0.3853 - accuracy: 0.8165 - val_loss: 0.4834 - val_accuracy: 0.7741\n",
            "Epoch 69/100\n",
            "719/719 [==============================] - 1s 2ms/step - loss: 0.3848 - accuracy: 0.8149 - val_loss: 0.5062 - val_accuracy: 0.7501\n",
            "Epoch 70/100\n",
            "719/719 [==============================] - 1s 2ms/step - loss: 0.3856 - accuracy: 0.8168 - val_loss: 0.4836 - val_accuracy: 0.7695\n",
            "Epoch 71/100\n",
            "719/719 [==============================] - 2s 2ms/step - loss: 0.3846 - accuracy: 0.8167 - val_loss: 0.4898 - val_accuracy: 0.7652\n",
            "Epoch 72/100\n",
            "719/719 [==============================] - 2s 2ms/step - loss: 0.3847 - accuracy: 0.8151 - val_loss: 0.4894 - val_accuracy: 0.7735\n",
            "Epoch 73/100\n",
            "719/719 [==============================] - 1s 1ms/step - loss: 0.3851 - accuracy: 0.8173 - val_loss: 0.4851 - val_accuracy: 0.7738\n",
            "Epoch 74/100\n",
            "719/719 [==============================] - 1s 2ms/step - loss: 0.3852 - accuracy: 0.8169 - val_loss: 0.4833 - val_accuracy: 0.7724\n",
            "Epoch 75/100\n",
            "719/719 [==============================] - 1s 1ms/step - loss: 0.3849 - accuracy: 0.8158 - val_loss: 0.4852 - val_accuracy: 0.7743\n",
            "Epoch 76/100\n",
            "719/719 [==============================] - 1s 2ms/step - loss: 0.3850 - accuracy: 0.8175 - val_loss: 0.4832 - val_accuracy: 0.7719\n",
            "Epoch 77/100\n",
            "719/719 [==============================] - 1s 1ms/step - loss: 0.3854 - accuracy: 0.8177 - val_loss: 0.4829 - val_accuracy: 0.7727\n",
            "Epoch 78/100\n",
            "719/719 [==============================] - 1s 2ms/step - loss: 0.3843 - accuracy: 0.8181 - val_loss: 0.4832 - val_accuracy: 0.7719\n",
            "Epoch 79/100\n",
            "719/719 [==============================] - 1s 2ms/step - loss: 0.3851 - accuracy: 0.8170 - val_loss: 0.4848 - val_accuracy: 0.7703\n",
            "Epoch 80/100\n",
            "719/719 [==============================] - 1s 1ms/step - loss: 0.3843 - accuracy: 0.8162 - val_loss: 0.4841 - val_accuracy: 0.7687\n",
            "Epoch 81/100\n",
            "719/719 [==============================] - 1s 2ms/step - loss: 0.3843 - accuracy: 0.8175 - val_loss: 0.4872 - val_accuracy: 0.7660\n",
            "Epoch 82/100\n",
            "719/719 [==============================] - 1s 2ms/step - loss: 0.3836 - accuracy: 0.8157 - val_loss: 0.4864 - val_accuracy: 0.7727\n",
            "Epoch 83/100\n",
            "719/719 [==============================] - 1s 2ms/step - loss: 0.3851 - accuracy: 0.8163 - val_loss: 0.4835 - val_accuracy: 0.7727\n",
            "Epoch 84/100\n",
            "719/719 [==============================] - 1s 1ms/step - loss: 0.3858 - accuracy: 0.8164 - val_loss: 0.4834 - val_accuracy: 0.7749\n",
            "Epoch 85/100\n",
            "719/719 [==============================] - 1s 2ms/step - loss: 0.3844 - accuracy: 0.8188 - val_loss: 0.4873 - val_accuracy: 0.7733\n",
            "Epoch 86/100\n",
            "719/719 [==============================] - 1s 1ms/step - loss: 0.3844 - accuracy: 0.8177 - val_loss: 0.4881 - val_accuracy: 0.7646\n",
            "Epoch 87/100\n",
            "719/719 [==============================] - 1s 2ms/step - loss: 0.3841 - accuracy: 0.8150 - val_loss: 0.4845 - val_accuracy: 0.7687\n",
            "Epoch 88/100\n",
            "719/719 [==============================] - 1s 1ms/step - loss: 0.3837 - accuracy: 0.8172 - val_loss: 0.4880 - val_accuracy: 0.7646\n",
            "Epoch 89/100\n",
            "719/719 [==============================] - 1s 1ms/step - loss: 0.3844 - accuracy: 0.8188 - val_loss: 0.4857 - val_accuracy: 0.7743\n",
            "Epoch 90/100\n",
            "719/719 [==============================] - 1s 1ms/step - loss: 0.3852 - accuracy: 0.8157 - val_loss: 0.4837 - val_accuracy: 0.7741\n",
            "Epoch 91/100\n",
            "719/719 [==============================] - 1s 1ms/step - loss: 0.3837 - accuracy: 0.8181 - val_loss: 0.4852 - val_accuracy: 0.7692\n",
            "Epoch 92/100\n",
            "719/719 [==============================] - 1s 1ms/step - loss: 0.3837 - accuracy: 0.8179 - val_loss: 0.4847 - val_accuracy: 0.7697\n",
            "Epoch 93/100\n",
            "719/719 [==============================] - 1s 1ms/step - loss: 0.3840 - accuracy: 0.8176 - val_loss: 0.4889 - val_accuracy: 0.7738\n",
            "Epoch 94/100\n",
            "719/719 [==============================] - 1s 1ms/step - loss: 0.3836 - accuracy: 0.8166 - val_loss: 0.4935 - val_accuracy: 0.7617\n",
            "Epoch 95/100\n",
            "719/719 [==============================] - 1s 1ms/step - loss: 0.3841 - accuracy: 0.8161 - val_loss: 0.4843 - val_accuracy: 0.7708\n",
            "Epoch 96/100\n",
            "719/719 [==============================] - 1s 2ms/step - loss: 0.3845 - accuracy: 0.8170 - val_loss: 0.5006 - val_accuracy: 0.7560\n",
            "Epoch 97/100\n",
            "719/719 [==============================] - 1s 1ms/step - loss: 0.3840 - accuracy: 0.8174 - val_loss: 0.4839 - val_accuracy: 0.7735\n",
            "Epoch 98/100\n",
            "719/719 [==============================] - 1s 1ms/step - loss: 0.3839 - accuracy: 0.8182 - val_loss: 0.4858 - val_accuracy: 0.7684\n",
            "Epoch 99/100\n",
            "719/719 [==============================] - 1s 1ms/step - loss: 0.3840 - accuracy: 0.8166 - val_loss: 0.4854 - val_accuracy: 0.7703\n",
            "Epoch 100/100\n",
            "719/719 [==============================] - 1s 1ms/step - loss: 0.3830 - accuracy: 0.8187 - val_loss: 0.4870 - val_accuracy: 0.7684\n"
          ]
        }
      ],
      "source": [
        "num_epochs = 100\n",
        "history = model.fit(training_padded, training_labels, epochs=num_epochs,\n",
        "                    validation_data=(testing_padded, testing_labels))"
      ]
    },
    {
      "attachments": {},
      "cell_type": "markdown",
      "metadata": {},
      "source": [
        "임베딩 차원을 줄여서 모델 훈련속도가 30% 이상 빨라졌다.   "
      ]
    },
    {
      "cell_type": "code",
      "execution_count": 33,
      "metadata": {
        "colab": {
          "base_uri": "https://localhost:8080/",
          "height": 279
        },
        "id": "feGjmc1ygBNW",
        "outputId": "c167ebbb-e89a-4414-f655-d328e5821879"
      },
      "outputs": [
        {
          "data": {
            "image/png": "[encoded data removed]",
            "text/plain": [
              "<Figure size 640x480 with 1 Axes>"
            ]
          },
          "metadata": {},
          "output_type": "display_data"
        }
      ],
      "source": [
        "plt.plot(history.history['accuracy'])\n",
        "plt.plot(history.history['val_accuracy'])\n",
        "plt.xlabel('epochs')\n",
        "plt.ylabel('accuracy')\n",
        "plt.legend(['accuracy', 'val_accuracy'])\n",
        "plt.show()"
      ]
    },
    {
      "cell_type": "code",
      "execution_count": 34,
      "metadata": {
        "colab": {
          "base_uri": "https://localhost:8080/",
          "height": 279
        },
        "id": "ysd-fqwegBNW",
        "outputId": "559f4aad-b866-460c-a502-4414708ac626",
        "scrolled": true
      },
      "outputs": [
        {
          "data": {
            "image/png": "[encoded data removed]",
            "text/plain": [
              "<Figure size 640x480 with 1 Axes>"
            ]
          },
          "metadata": {},
          "output_type": "display_data"
        }
      ],
      "source": [
        "plt.plot(history.history['loss'])\n",
        "plt.plot(history.history['val_loss'])\n",
        "plt.xlabel('epochs')\n",
        "plt.ylabel('loss')\n",
        "plt.legend(['loss', 'val_loss'])\n",
        "plt.show()"
      ]
    },
    {
      "attachments": {},
      "cell_type": "markdown",
      "metadata": {},
      "source": [
        "그래프 변동이 있기는 하지만, 시간이 갈수록 평평해진다.   \n",
        "* 참고) 변동이 큰 경우도 나쁜 결과이다. 모델이 어느정도 수렴해야 한다."
      ]
    },
    {
      "attachments": {},
      "cell_type": "markdown",
      "metadata": {
        "id": "4sWL6aiTgBNW"
      },
      "source": [
        "#### 2-2-4. 모델 구조 변경하기"
      ]
    },
    {
      "cell_type": "code",
      "execution_count": 35,
      "metadata": {
        "id": "2x9Etg9sgBNX"
      },
      "outputs": [],
      "source": [
        "model = tf.keras.Sequential([\n",
        "    tf.keras.layers.Embedding(vocab_size, embedding_dim),\n",
        "    tf.keras.layers.GlobalAveragePooling1D(),\n",
        "    tf.keras.layers.Dense(8, activation='relu'),        # 밀집층의 뉴런을 8개로 줄이기\n",
        "    tf.keras.layers.Dense(1, activation='sigmoid')\n",
        "])\n",
        "model.compile(loss='binary_crossentropy',\n",
        "              optimizer='adam',metrics=['accuracy'])"
      ]
    },
    {
      "cell_type": "code",
      "execution_count": 36,
      "metadata": {
        "colab": {
          "base_uri": "https://localhost:8080/"
        },
        "id": "-7opF2x1gBNX",
        "outputId": "70a552cd-187c-4b94-9fc7-cae69c0db75f",
        "scrolled": true
      },
      "outputs": [
        {
          "name": "stdout",
          "output_type": "stream",
          "text": [
            "Epoch 1/100\n",
            "719/719 [==============================] - 2s 2ms/step - loss: 0.6832 - accuracy: 0.5596 - val_loss: 0.6752 - val_accuracy: 0.5700\n",
            "Epoch 2/100\n",
            "719/719 [==============================] - 1s 1ms/step - loss: 0.6555 - accuracy: 0.5903 - val_loss: 0.6239 - val_accuracy: 0.6544\n",
            "Epoch 3/100\n",
            "719/719 [==============================] - 1s 2ms/step - loss: 0.5706 - accuracy: 0.7173 - val_loss: 0.5394 - val_accuracy: 0.7374\n",
            "Epoch 4/100\n",
            "719/719 [==============================] - 1s 1ms/step - loss: 0.4910 - accuracy: 0.7713 - val_loss: 0.4907 - val_accuracy: 0.7576\n",
            "Epoch 5/100\n",
            "719/719 [==============================] - 1s 1ms/step - loss: 0.4499 - accuracy: 0.7883 - val_loss: 0.4870 - val_accuracy: 0.7549\n",
            "Epoch 6/100\n",
            "719/719 [==============================] - 1s 1ms/step - loss: 0.4307 - accuracy: 0.7943 - val_loss: 0.4680 - val_accuracy: 0.7679\n",
            "Epoch 7/100\n",
            "719/719 [==============================] - 1s 1ms/step - loss: 0.4179 - accuracy: 0.8025 - val_loss: 0.4648 - val_accuracy: 0.7765\n",
            "Epoch 8/100\n",
            "719/719 [==============================] - 1s 1ms/step - loss: 0.4110 - accuracy: 0.8037 - val_loss: 0.4649 - val_accuracy: 0.7778\n",
            "Epoch 9/100\n",
            "719/719 [==============================] - 1s 2ms/step - loss: 0.4055 - accuracy: 0.8078 - val_loss: 0.4690 - val_accuracy: 0.7695\n",
            "Epoch 10/100\n",
            "719/719 [==============================] - 1s 1ms/step - loss: 0.4022 - accuracy: 0.8093 - val_loss: 0.4639 - val_accuracy: 0.7770\n",
            "Epoch 11/100\n",
            "719/719 [==============================] - 1s 2ms/step - loss: 0.3995 - accuracy: 0.8114 - val_loss: 0.4639 - val_accuracy: 0.7805\n",
            "Epoch 12/100\n",
            "719/719 [==============================] - 1s 2ms/step - loss: 0.3964 - accuracy: 0.8115 - val_loss: 0.4651 - val_accuracy: 0.7789\n",
            "Epoch 13/100\n",
            "719/719 [==============================] - 1s 2ms/step - loss: 0.3955 - accuracy: 0.8107 - val_loss: 0.4699 - val_accuracy: 0.7808\n",
            "Epoch 14/100\n",
            "719/719 [==============================] - 1s 2ms/step - loss: 0.3953 - accuracy: 0.8120 - val_loss: 0.4682 - val_accuracy: 0.7773\n",
            "Epoch 15/100\n",
            "719/719 [==============================] - 1s 1ms/step - loss: 0.3921 - accuracy: 0.8142 - val_loss: 0.4683 - val_accuracy: 0.7789\n",
            "Epoch 16/100\n",
            "719/719 [==============================] - 1s 1ms/step - loss: 0.3910 - accuracy: 0.8139 - val_loss: 0.4737 - val_accuracy: 0.7703\n",
            "Epoch 17/100\n",
            "719/719 [==============================] - 1s 1ms/step - loss: 0.3914 - accuracy: 0.8136 - val_loss: 0.4801 - val_accuracy: 0.7784\n",
            "Epoch 18/100\n",
            "719/719 [==============================] - 1s 1ms/step - loss: 0.3906 - accuracy: 0.8138 - val_loss: 0.4706 - val_accuracy: 0.7795\n",
            "Epoch 19/100\n",
            "719/719 [==============================] - 1s 1ms/step - loss: 0.3892 - accuracy: 0.8153 - val_loss: 0.4720 - val_accuracy: 0.7784\n",
            "Epoch 20/100\n",
            "719/719 [==============================] - 1s 1ms/step - loss: 0.3886 - accuracy: 0.8166 - val_loss: 0.4748 - val_accuracy: 0.7786\n",
            "Epoch 21/100\n",
            "719/719 [==============================] - 1s 1ms/step - loss: 0.3889 - accuracy: 0.8155 - val_loss: 0.4741 - val_accuracy: 0.7786\n",
            "Epoch 22/100\n",
            "719/719 [==============================] - 1s 2ms/step - loss: 0.3879 - accuracy: 0.8148 - val_loss: 0.4739 - val_accuracy: 0.7778\n",
            "Epoch 23/100\n",
            "719/719 [==============================] - 1s 2ms/step - loss: 0.3891 - accuracy: 0.8150 - val_loss: 0.4756 - val_accuracy: 0.7781\n",
            "Epoch 24/100\n",
            "719/719 [==============================] - 1s 1ms/step - loss: 0.3892 - accuracy: 0.8133 - val_loss: 0.4751 - val_accuracy: 0.7722\n",
            "Epoch 25/100\n",
            "719/719 [==============================] - 1s 1ms/step - loss: 0.3867 - accuracy: 0.8157 - val_loss: 0.4758 - val_accuracy: 0.7733\n",
            "Epoch 26/100\n",
            "719/719 [==============================] - 1s 1ms/step - loss: 0.3871 - accuracy: 0.8154 - val_loss: 0.4779 - val_accuracy: 0.7778\n",
            "Epoch 27/100\n",
            "719/719 [==============================] - 1s 2ms/step - loss: 0.3866 - accuracy: 0.8153 - val_loss: 0.4794 - val_accuracy: 0.7708\n",
            "Epoch 28/100\n",
            "719/719 [==============================] - 1s 2ms/step - loss: 0.3865 - accuracy: 0.8160 - val_loss: 0.4816 - val_accuracy: 0.7765\n",
            "Epoch 29/100\n",
            "719/719 [==============================] - 1s 2ms/step - loss: 0.3868 - accuracy: 0.8160 - val_loss: 0.4799 - val_accuracy: 0.7706\n",
            "Epoch 30/100\n",
            "719/719 [==============================] - 1s 2ms/step - loss: 0.3866 - accuracy: 0.8149 - val_loss: 0.4785 - val_accuracy: 0.7716\n",
            "Epoch 31/100\n",
            "719/719 [==============================] - 1s 2ms/step - loss: 0.3874 - accuracy: 0.8157 - val_loss: 0.4781 - val_accuracy: 0.7773\n",
            "Epoch 32/100\n",
            "719/719 [==============================] - 1s 2ms/step - loss: 0.3868 - accuracy: 0.8167 - val_loss: 0.4830 - val_accuracy: 0.7695\n",
            "Epoch 33/100\n",
            "719/719 [==============================] - 1s 2ms/step - loss: 0.3860 - accuracy: 0.8160 - val_loss: 0.4792 - val_accuracy: 0.7735\n",
            "Epoch 34/100\n",
            "719/719 [==============================] - 1s 2ms/step - loss: 0.3858 - accuracy: 0.8146 - val_loss: 0.4802 - val_accuracy: 0.7692\n",
            "Epoch 35/100\n",
            "719/719 [==============================] - 1s 2ms/step - loss: 0.3866 - accuracy: 0.8153 - val_loss: 0.4818 - val_accuracy: 0.7711\n",
            "Epoch 36/100\n",
            "719/719 [==============================] - 1s 2ms/step - loss: 0.3855 - accuracy: 0.8166 - val_loss: 0.4848 - val_accuracy: 0.7660\n",
            "Epoch 37/100\n",
            "719/719 [==============================] - 1s 1ms/step - loss: 0.3858 - accuracy: 0.8171 - val_loss: 0.4902 - val_accuracy: 0.7633\n",
            "Epoch 38/100\n",
            "719/719 [==============================] - 1s 2ms/step - loss: 0.3861 - accuracy: 0.8140 - val_loss: 0.4799 - val_accuracy: 0.7741\n",
            "Epoch 39/100\n",
            "719/719 [==============================] - 1s 2ms/step - loss: 0.3857 - accuracy: 0.8161 - val_loss: 0.4877 - val_accuracy: 0.7635\n",
            "Epoch 40/100\n",
            "719/719 [==============================] - 1s 2ms/step - loss: 0.3865 - accuracy: 0.8164 - val_loss: 0.4925 - val_accuracy: 0.7611\n",
            "Epoch 41/100\n",
            "719/719 [==============================] - 1s 2ms/step - loss: 0.3849 - accuracy: 0.8166 - val_loss: 0.4818 - val_accuracy: 0.7776\n",
            "Epoch 42/100\n",
            "719/719 [==============================] - 1s 1ms/step - loss: 0.3851 - accuracy: 0.8156 - val_loss: 0.4809 - val_accuracy: 0.7719\n",
            "Epoch 43/100\n",
            "719/719 [==============================] - 1s 1ms/step - loss: 0.3857 - accuracy: 0.8151 - val_loss: 0.4822 - val_accuracy: 0.7684\n",
            "Epoch 44/100\n",
            "719/719 [==============================] - 1s 2ms/step - loss: 0.3853 - accuracy: 0.8180 - val_loss: 0.4834 - val_accuracy: 0.7681\n",
            "Epoch 45/100\n",
            "719/719 [==============================] - 1s 1ms/step - loss: 0.3857 - accuracy: 0.8154 - val_loss: 0.4817 - val_accuracy: 0.7733\n",
            "Epoch 46/100\n",
            "719/719 [==============================] - 1s 1ms/step - loss: 0.3855 - accuracy: 0.8157 - val_loss: 0.4827 - val_accuracy: 0.7689\n",
            "Epoch 47/100\n",
            "719/719 [==============================] - 1s 2ms/step - loss: 0.3848 - accuracy: 0.8176 - val_loss: 0.4832 - val_accuracy: 0.7689\n",
            "Epoch 48/100\n",
            "719/719 [==============================] - 1s 2ms/step - loss: 0.3856 - accuracy: 0.8153 - val_loss: 0.4816 - val_accuracy: 0.7749\n",
            "Epoch 49/100\n",
            "719/719 [==============================] - 1s 2ms/step - loss: 0.3859 - accuracy: 0.8166 - val_loss: 0.4830 - val_accuracy: 0.7765\n",
            "Epoch 50/100\n",
            "719/719 [==============================] - 1s 2ms/step - loss: 0.3848 - accuracy: 0.8157 - val_loss: 0.4882 - val_accuracy: 0.7733\n",
            "Epoch 51/100\n",
            "719/719 [==============================] - 1s 1ms/step - loss: 0.3849 - accuracy: 0.8149 - val_loss: 0.4861 - val_accuracy: 0.7684\n",
            "Epoch 52/100\n",
            "719/719 [==============================] - 1s 1ms/step - loss: 0.3861 - accuracy: 0.8152 - val_loss: 0.4823 - val_accuracy: 0.7727\n",
            "Epoch 53/100\n",
            "719/719 [==============================] - 1s 2ms/step - loss: 0.3854 - accuracy: 0.8146 - val_loss: 0.4846 - val_accuracy: 0.7708\n",
            "Epoch 54/100\n",
            "719/719 [==============================] - 1s 1ms/step - loss: 0.3854 - accuracy: 0.8160 - val_loss: 0.4868 - val_accuracy: 0.7757\n",
            "Epoch 55/100\n",
            "719/719 [==============================] - 1s 1ms/step - loss: 0.3853 - accuracy: 0.8166 - val_loss: 0.4901 - val_accuracy: 0.7630\n",
            "Epoch 56/100\n",
            "719/719 [==============================] - 1s 2ms/step - loss: 0.3849 - accuracy: 0.8169 - val_loss: 0.4818 - val_accuracy: 0.7735\n",
            "Epoch 57/100\n",
            "719/719 [==============================] - 1s 2ms/step - loss: 0.3865 - accuracy: 0.8164 - val_loss: 0.4854 - val_accuracy: 0.7735\n",
            "Epoch 58/100\n",
            "719/719 [==============================] - 1s 1ms/step - loss: 0.3847 - accuracy: 0.8165 - val_loss: 0.4823 - val_accuracy: 0.7716\n",
            "Epoch 59/100\n",
            "719/719 [==============================] - 1s 2ms/step - loss: 0.3850 - accuracy: 0.8178 - val_loss: 0.4834 - val_accuracy: 0.7700\n",
            "Epoch 60/100\n",
            "719/719 [==============================] - 1s 1ms/step - loss: 0.3841 - accuracy: 0.8177 - val_loss: 0.4836 - val_accuracy: 0.7703\n",
            "Epoch 61/100\n",
            "719/719 [==============================] - 1s 1ms/step - loss: 0.3843 - accuracy: 0.8172 - val_loss: 0.4866 - val_accuracy: 0.7760\n",
            "Epoch 62/100\n",
            "719/719 [==============================] - 1s 1ms/step - loss: 0.3848 - accuracy: 0.8174 - val_loss: 0.4843 - val_accuracy: 0.7687\n",
            "Epoch 63/100\n",
            "719/719 [==============================] - 1s 1ms/step - loss: 0.3845 - accuracy: 0.8173 - val_loss: 0.4838 - val_accuracy: 0.7711\n",
            "Epoch 64/100\n",
            "719/719 [==============================] - 1s 1ms/step - loss: 0.3848 - accuracy: 0.8162 - val_loss: 0.4843 - val_accuracy: 0.7700\n",
            "Epoch 65/100\n",
            "719/719 [==============================] - 1s 2ms/step - loss: 0.3846 - accuracy: 0.8166 - val_loss: 0.4843 - val_accuracy: 0.7719\n",
            "Epoch 66/100\n",
            "719/719 [==============================] - 1s 2ms/step - loss: 0.3849 - accuracy: 0.8162 - val_loss: 0.4841 - val_accuracy: 0.7700\n",
            "Epoch 67/100\n",
            "719/719 [==============================] - 1s 1ms/step - loss: 0.3843 - accuracy: 0.8163 - val_loss: 0.4838 - val_accuracy: 0.7716\n",
            "Epoch 68/100\n",
            "719/719 [==============================] - 1s 2ms/step - loss: 0.3840 - accuracy: 0.8177 - val_loss: 0.4870 - val_accuracy: 0.7687\n",
            "Epoch 69/100\n",
            "719/719 [==============================] - 1s 1ms/step - loss: 0.3843 - accuracy: 0.8163 - val_loss: 0.4886 - val_accuracy: 0.7646\n",
            "Epoch 70/100\n",
            "719/719 [==============================] - 1s 1ms/step - loss: 0.3849 - accuracy: 0.8151 - val_loss: 0.4858 - val_accuracy: 0.7692\n",
            "Epoch 71/100\n",
            "719/719 [==============================] - 1s 1ms/step - loss: 0.3848 - accuracy: 0.8177 - val_loss: 0.4868 - val_accuracy: 0.7687\n",
            "Epoch 72/100\n",
            "719/719 [==============================] - 1s 1ms/step - loss: 0.3848 - accuracy: 0.8167 - val_loss: 0.4839 - val_accuracy: 0.7730\n",
            "Epoch 73/100\n",
            "719/719 [==============================] - 1s 1ms/step - loss: 0.3846 - accuracy: 0.8167 - val_loss: 0.4967 - val_accuracy: 0.7692\n",
            "Epoch 74/100\n",
            "719/719 [==============================] - 1s 2ms/step - loss: 0.3848 - accuracy: 0.8166 - val_loss: 0.4871 - val_accuracy: 0.7695\n",
            "Epoch 75/100\n",
            "719/719 [==============================] - 1s 1ms/step - loss: 0.3840 - accuracy: 0.8174 - val_loss: 0.4846 - val_accuracy: 0.7727\n",
            "Epoch 76/100\n",
            "719/719 [==============================] - 1s 1ms/step - loss: 0.3837 - accuracy: 0.8173 - val_loss: 0.4848 - val_accuracy: 0.7722\n",
            "Epoch 77/100\n",
            "719/719 [==============================] - 1s 2ms/step - loss: 0.3837 - accuracy: 0.8171 - val_loss: 0.4852 - val_accuracy: 0.7708\n",
            "Epoch 78/100\n",
            "719/719 [==============================] - 1s 1ms/step - loss: 0.3834 - accuracy: 0.8174 - val_loss: 0.4891 - val_accuracy: 0.7671\n",
            "Epoch 79/100\n",
            "719/719 [==============================] - 1s 2ms/step - loss: 0.3848 - accuracy: 0.8150 - val_loss: 0.4860 - val_accuracy: 0.7754\n",
            "Epoch 80/100\n",
            "719/719 [==============================] - 1s 2ms/step - loss: 0.3842 - accuracy: 0.8167 - val_loss: 0.4849 - val_accuracy: 0.7735\n",
            "Epoch 81/100\n",
            "719/719 [==============================] - 1s 1ms/step - loss: 0.3845 - accuracy: 0.8167 - val_loss: 0.4844 - val_accuracy: 0.7735\n",
            "Epoch 82/100\n",
            "719/719 [==============================] - 1s 1ms/step - loss: 0.3840 - accuracy: 0.8153 - val_loss: 0.4883 - val_accuracy: 0.7676\n",
            "Epoch 83/100\n",
            "719/719 [==============================] - 1s 2ms/step - loss: 0.3834 - accuracy: 0.8186 - val_loss: 0.4856 - val_accuracy: 0.7746\n",
            "Epoch 84/100\n",
            "719/719 [==============================] - 1s 1ms/step - loss: 0.3847 - accuracy: 0.8169 - val_loss: 0.4849 - val_accuracy: 0.7741\n",
            "Epoch 85/100\n",
            "719/719 [==============================] - 1s 2ms/step - loss: 0.3832 - accuracy: 0.8164 - val_loss: 0.4870 - val_accuracy: 0.7754\n",
            "Epoch 86/100\n",
            "719/719 [==============================] - 1s 2ms/step - loss: 0.3847 - accuracy: 0.8169 - val_loss: 0.4846 - val_accuracy: 0.7730\n",
            "Epoch 87/100\n",
            "719/719 [==============================] - 1s 2ms/step - loss: 0.3837 - accuracy: 0.8173 - val_loss: 0.4848 - val_accuracy: 0.7714\n",
            "Epoch 88/100\n",
            "719/719 [==============================] - 1s 1ms/step - loss: 0.3834 - accuracy: 0.8173 - val_loss: 0.4865 - val_accuracy: 0.7684\n",
            "Epoch 89/100\n",
            "719/719 [==============================] - 1s 2ms/step - loss: 0.3839 - accuracy: 0.8157 - val_loss: 0.4860 - val_accuracy: 0.7757\n",
            "Epoch 90/100\n",
            "719/719 [==============================] - 1s 2ms/step - loss: 0.3827 - accuracy: 0.8181 - val_loss: 0.4922 - val_accuracy: 0.7654\n",
            "Epoch 91/100\n",
            "719/719 [==============================] - 1s 1ms/step - loss: 0.3844 - accuracy: 0.8174 - val_loss: 0.4861 - val_accuracy: 0.7757\n",
            "Epoch 92/100\n",
            "719/719 [==============================] - 1s 1ms/step - loss: 0.3831 - accuracy: 0.8167 - val_loss: 0.4864 - val_accuracy: 0.7676\n",
            "Epoch 93/100\n",
            "719/719 [==============================] - 1s 1ms/step - loss: 0.3834 - accuracy: 0.8181 - val_loss: 0.4932 - val_accuracy: 0.7638\n",
            "Epoch 94/100\n",
            "719/719 [==============================] - 1s 1ms/step - loss: 0.3830 - accuracy: 0.8189 - val_loss: 0.4864 - val_accuracy: 0.7722\n",
            "Epoch 95/100\n",
            "719/719 [==============================] - 1s 1ms/step - loss: 0.3837 - accuracy: 0.8178 - val_loss: 0.4885 - val_accuracy: 0.7735\n",
            "Epoch 96/100\n",
            "719/719 [==============================] - 1s 1ms/step - loss: 0.3839 - accuracy: 0.8177 - val_loss: 0.4994 - val_accuracy: 0.7582\n",
            "Epoch 97/100\n",
            "719/719 [==============================] - 1s 1ms/step - loss: 0.3841 - accuracy: 0.8177 - val_loss: 0.4874 - val_accuracy: 0.7676\n",
            "Epoch 98/100\n",
            "719/719 [==============================] - 1s 2ms/step - loss: 0.3842 - accuracy: 0.8162 - val_loss: 0.4893 - val_accuracy: 0.7662\n",
            "Epoch 99/100\n",
            "719/719 [==============================] - 1s 1ms/step - loss: 0.3831 - accuracy: 0.8178 - val_loss: 0.4875 - val_accuracy: 0.7689\n",
            "Epoch 100/100\n",
            "719/719 [==============================] - 1s 2ms/step - loss: 0.3840 - accuracy: 0.8152 - val_loss: 0.4886 - val_accuracy: 0.7738\n"
          ]
        }
      ],
      "source": [
        "num_epochs = 100    # 100번 훈련\n",
        "history = model.fit(training_padded, training_labels, epochs=num_epochs,\n",
        "                    validation_data=(testing_padded, testing_labels))"
      ]
    },
    {
      "cell_type": "code",
      "execution_count": 37,
      "metadata": {
        "colab": {
          "base_uri": "https://localhost:8080/",
          "height": 279
        },
        "id": "UiHiAhU7gBNX",
        "outputId": "160c6ab4-1705-4408-8fa4-2ab267e060e1"
      },
      "outputs": [
        {
          "data": {
            "image/png": "[encoded data removed]",
            "text/plain": [
              "<Figure size 640x480 with 1 Axes>"
            ]
          },
          "metadata": {},
          "output_type": "display_data"
        }
      ],
      "source": [
        "plt.plot(history.history['accuracy'])\n",
        "plt.plot(history.history['val_accuracy'])\n",
        "plt.xlabel('epochs')\n",
        "plt.ylabel('accuracy')\n",
        "plt.legend(['accuracy', 'val_accuracy'])\n",
        "plt.show()"
      ]
    },
    {
      "cell_type": "code",
      "execution_count": 38,
      "metadata": {
        "colab": {
          "base_uri": "https://localhost:8080/",
          "height": 279
        },
        "id": "4RZ3ElWIgBNX",
        "outputId": "f9232cdd-924c-4dfa-e178-7529d4b60d60",
        "scrolled": true
      },
      "outputs": [
        {
          "data": {
            "image/png": "[encoded data removed]",
            "text/plain": [
              "<Figure size 640x480 with 1 Axes>"
            ]
          },
          "metadata": {},
          "output_type": "display_data"
        }
      ],
      "source": [
        "plt.plot(history.history['loss'])\n",
        "plt.plot(history.history['val_loss'])\n",
        "plt.xlabel('epochs')\n",
        "plt.ylabel('loss')\n",
        "plt.legend(['loss', 'val_loss'])\n",
        "plt.show()"
      ]
    },
    {
      "attachments": {},
      "cell_type": "markdown",
      "metadata": {},
      "source": [
        "24개 뉴런을 사용한 결과와 비교해서 전체적인 결과는 비슷하지만, 그래프의 요동이 줄어들었다. + 훈련 속도도 조금 더 빨라졌다.   "
      ]
    },
    {
      "attachments": {},
      "cell_type": "markdown",
      "metadata": {
        "id": "nYNaNDnsgBNY"
      },
      "source": [
        "#### 2-2-5. 드롭아웃 사용하기"
      ]
    },
    {
      "cell_type": "code",
      "execution_count": 39,
      "metadata": {
        "id": "G8J5_ceMgBNY"
      },
      "outputs": [],
      "source": [
        "model = tf.keras.Sequential([\n",
        "    tf.keras.layers.Embedding(vocab_size, embedding_dim),\n",
        "    tf.keras.layers.GlobalAveragePooling1D(),\n",
        "    tf.keras.layers.Dense(8, activation='relu'),\n",
        "    tf.keras.layers.Dropout(.25),                   # 25% 드롭아웃\n",
        "    tf.keras.layers.Dense(1, activation='sigmoid')\n",
        "])\n",
        "model.compile(loss='binary_crossentropy',\n",
        "              optimizer='adam',metrics=['accuracy'])"
      ]
    },
    {
      "cell_type": "code",
      "execution_count": 40,
      "metadata": {
        "colab": {
          "base_uri": "https://localhost:8080/"
        },
        "id": "ZRD9BVZRgBNY",
        "outputId": "90d42d5d-ff74-4553-a87f-5643b30d75dd",
        "scrolled": true
      },
      "outputs": [
        {
          "name": "stdout",
          "output_type": "stream",
          "text": [
            "Epoch 1/100\n",
            "719/719 [==============================] - 2s 2ms/step - loss: 0.6860 - accuracy: 0.5583 - val_loss: 0.6793 - val_accuracy: 0.5700\n",
            "Epoch 2/100\n",
            "719/719 [==============================] - 1s 2ms/step - loss: 0.6677 - accuracy: 0.5877 - val_loss: 0.6448 - val_accuracy: 0.6972\n",
            "Epoch 3/100\n",
            "719/719 [==============================] - 1s 2ms/step - loss: 0.6041 - accuracy: 0.6865 - val_loss: 0.5608 - val_accuracy: 0.7374\n",
            "Epoch 4/100\n",
            "719/719 [==============================] - 1s 1ms/step - loss: 0.5386 - accuracy: 0.7329 - val_loss: 0.5102 - val_accuracy: 0.7579\n",
            "Epoch 5/100\n",
            "719/719 [==============================] - 1s 1ms/step - loss: 0.4979 - accuracy: 0.7633 - val_loss: 0.4903 - val_accuracy: 0.7584\n",
            "Epoch 6/100\n",
            "719/719 [==============================] - 1s 2ms/step - loss: 0.4781 - accuracy: 0.7693 - val_loss: 0.4741 - val_accuracy: 0.7711\n",
            "Epoch 7/100\n",
            "719/719 [==============================] - 1s 2ms/step - loss: 0.4642 - accuracy: 0.7768 - val_loss: 0.4703 - val_accuracy: 0.7687\n",
            "Epoch 8/100\n",
            "719/719 [==============================] - 1s 1ms/step - loss: 0.4569 - accuracy: 0.7803 - val_loss: 0.4664 - val_accuracy: 0.7751\n",
            "Epoch 9/100\n",
            "719/719 [==============================] - 1s 1ms/step - loss: 0.4459 - accuracy: 0.7882 - val_loss: 0.4643 - val_accuracy: 0.7784\n",
            "Epoch 10/100\n",
            "719/719 [==============================] - 1s 2ms/step - loss: 0.4409 - accuracy: 0.7917 - val_loss: 0.4632 - val_accuracy: 0.7754\n",
            "Epoch 11/100\n",
            "719/719 [==============================] - 1s 1ms/step - loss: 0.4392 - accuracy: 0.7940 - val_loss: 0.4662 - val_accuracy: 0.7697\n",
            "Epoch 12/100\n",
            "719/719 [==============================] - 1s 2ms/step - loss: 0.4342 - accuracy: 0.7962 - val_loss: 0.4653 - val_accuracy: 0.7727\n",
            "Epoch 13/100\n",
            "719/719 [==============================] - 1s 2ms/step - loss: 0.4291 - accuracy: 0.8017 - val_loss: 0.4626 - val_accuracy: 0.7811\n",
            "Epoch 14/100\n",
            "719/719 [==============================] - 1s 1ms/step - loss: 0.4314 - accuracy: 0.7999 - val_loss: 0.4644 - val_accuracy: 0.7722\n",
            "Epoch 15/100\n",
            "719/719 [==============================] - 1s 1ms/step - loss: 0.4240 - accuracy: 0.8041 - val_loss: 0.4671 - val_accuracy: 0.7773\n",
            "Epoch 16/100\n",
            "719/719 [==============================] - 1s 1ms/step - loss: 0.4274 - accuracy: 0.8018 - val_loss: 0.4784 - val_accuracy: 0.7547\n",
            "Epoch 17/100\n",
            "719/719 [==============================] - 1s 2ms/step - loss: 0.4242 - accuracy: 0.8028 - val_loss: 0.4628 - val_accuracy: 0.7746\n",
            "Epoch 18/100\n",
            "719/719 [==============================] - 1s 1ms/step - loss: 0.4220 - accuracy: 0.8058 - val_loss: 0.4628 - val_accuracy: 0.7751\n",
            "Epoch 19/100\n",
            "719/719 [==============================] - 1s 1ms/step - loss: 0.4197 - accuracy: 0.8043 - val_loss: 0.4619 - val_accuracy: 0.7778\n",
            "Epoch 20/100\n",
            "719/719 [==============================] - 1s 2ms/step - loss: 0.4219 - accuracy: 0.8067 - val_loss: 0.4819 - val_accuracy: 0.7522\n",
            "Epoch 21/100\n",
            "719/719 [==============================] - 1s 2ms/step - loss: 0.4175 - accuracy: 0.8065 - val_loss: 0.4649 - val_accuracy: 0.7741\n",
            "Epoch 22/100\n",
            "719/719 [==============================] - 1s 1ms/step - loss: 0.4178 - accuracy: 0.8072 - val_loss: 0.4642 - val_accuracy: 0.7786\n",
            "Epoch 23/100\n",
            "719/719 [==============================] - 1s 2ms/step - loss: 0.4165 - accuracy: 0.8100 - val_loss: 0.4663 - val_accuracy: 0.7765\n",
            "Epoch 24/100\n",
            "719/719 [==============================] - 1s 1ms/step - loss: 0.4133 - accuracy: 0.8120 - val_loss: 0.4677 - val_accuracy: 0.7792\n",
            "Epoch 25/100\n",
            "719/719 [==============================] - 1s 2ms/step - loss: 0.4148 - accuracy: 0.8076 - val_loss: 0.4721 - val_accuracy: 0.7671\n",
            "Epoch 26/100\n",
            "719/719 [==============================] - 1s 2ms/step - loss: 0.4131 - accuracy: 0.8085 - val_loss: 0.4694 - val_accuracy: 0.7716\n",
            "Epoch 27/100\n",
            "719/719 [==============================] - 1s 1ms/step - loss: 0.4126 - accuracy: 0.8093 - val_loss: 0.4750 - val_accuracy: 0.7649\n",
            "Epoch 28/100\n",
            "719/719 [==============================] - 1s 1ms/step - loss: 0.4108 - accuracy: 0.8088 - val_loss: 0.4774 - val_accuracy: 0.7590\n",
            "Epoch 29/100\n",
            "719/719 [==============================] - 1s 1ms/step - loss: 0.4115 - accuracy: 0.8091 - val_loss: 0.4742 - val_accuracy: 0.7662\n",
            "Epoch 30/100\n",
            "719/719 [==============================] - 1s 1ms/step - loss: 0.4073 - accuracy: 0.8098 - val_loss: 0.4765 - val_accuracy: 0.7676\n",
            "Epoch 31/100\n",
            "719/719 [==============================] - 1s 1ms/step - loss: 0.4086 - accuracy: 0.8103 - val_loss: 0.4823 - val_accuracy: 0.7600\n",
            "Epoch 32/100\n",
            "719/719 [==============================] - 1s 2ms/step - loss: 0.4062 - accuracy: 0.8101 - val_loss: 0.4722 - val_accuracy: 0.7706\n",
            "Epoch 33/100\n",
            "719/719 [==============================] - 1s 1ms/step - loss: 0.4019 - accuracy: 0.8144 - val_loss: 0.4789 - val_accuracy: 0.7716\n",
            "Epoch 34/100\n",
            "719/719 [==============================] - 1s 1ms/step - loss: 0.4038 - accuracy: 0.8096 - val_loss: 0.4801 - val_accuracy: 0.7630\n",
            "Epoch 35/100\n",
            "719/719 [==============================] - 1s 1ms/step - loss: 0.4037 - accuracy: 0.8087 - val_loss: 0.4884 - val_accuracy: 0.7619\n",
            "Epoch 36/100\n",
            "719/719 [==============================] - 1s 1ms/step - loss: 0.3979 - accuracy: 0.8123 - val_loss: 0.4851 - val_accuracy: 0.7679\n",
            "Epoch 37/100\n",
            "719/719 [==============================] - 1s 1ms/step - loss: 0.3977 - accuracy: 0.8104 - val_loss: 0.4849 - val_accuracy: 0.7668\n",
            "Epoch 38/100\n",
            "719/719 [==============================] - 1s 1ms/step - loss: 0.3986 - accuracy: 0.8104 - val_loss: 0.4818 - val_accuracy: 0.7660\n",
            "Epoch 39/100\n",
            "719/719 [==============================] - 1s 1ms/step - loss: 0.3968 - accuracy: 0.8101 - val_loss: 0.4800 - val_accuracy: 0.7676\n",
            "Epoch 40/100\n",
            "719/719 [==============================] - 1s 1ms/step - loss: 0.3928 - accuracy: 0.8119 - val_loss: 0.4907 - val_accuracy: 0.7641\n",
            "Epoch 41/100\n",
            "719/719 [==============================] - 1s 1ms/step - loss: 0.3899 - accuracy: 0.8134 - val_loss: 0.4895 - val_accuracy: 0.7606\n",
            "Epoch 42/100\n",
            "719/719 [==============================] - 1s 1ms/step - loss: 0.3880 - accuracy: 0.8131 - val_loss: 0.4866 - val_accuracy: 0.7671\n",
            "Epoch 43/100\n",
            "719/719 [==============================] - 1s 2ms/step - loss: 0.3867 - accuracy: 0.8125 - val_loss: 0.4968 - val_accuracy: 0.7703\n",
            "Epoch 44/100\n",
            "719/719 [==============================] - 1s 2ms/step - loss: 0.3844 - accuracy: 0.8137 - val_loss: 0.4904 - val_accuracy: 0.7660\n",
            "Epoch 45/100\n",
            "719/719 [==============================] - 1s 1ms/step - loss: 0.3831 - accuracy: 0.8146 - val_loss: 0.4923 - val_accuracy: 0.7679\n",
            "Epoch 46/100\n",
            "719/719 [==============================] - 1s 2ms/step - loss: 0.3819 - accuracy: 0.8147 - val_loss: 0.4990 - val_accuracy: 0.7692\n",
            "Epoch 47/100\n",
            "719/719 [==============================] - 1s 2ms/step - loss: 0.3798 - accuracy: 0.8143 - val_loss: 0.4903 - val_accuracy: 0.7609\n",
            "Epoch 48/100\n",
            "719/719 [==============================] - 1s 2ms/step - loss: 0.3754 - accuracy: 0.8130 - val_loss: 0.4979 - val_accuracy: 0.7649\n",
            "Epoch 49/100\n",
            "719/719 [==============================] - 1s 2ms/step - loss: 0.3779 - accuracy: 0.8145 - val_loss: 0.5101 - val_accuracy: 0.7671\n",
            "Epoch 50/100\n",
            "719/719 [==============================] - 1s 1ms/step - loss: 0.3757 - accuracy: 0.8138 - val_loss: 0.5081 - val_accuracy: 0.7652\n",
            "Epoch 51/100\n",
            "719/719 [==============================] - 1s 1ms/step - loss: 0.3759 - accuracy: 0.8136 - val_loss: 0.5176 - val_accuracy: 0.7676\n",
            "Epoch 52/100\n",
            "719/719 [==============================] - 1s 2ms/step - loss: 0.3740 - accuracy: 0.8147 - val_loss: 0.5136 - val_accuracy: 0.7641\n",
            "Epoch 53/100\n",
            "719/719 [==============================] - 1s 1ms/step - loss: 0.3722 - accuracy: 0.8141 - val_loss: 0.5007 - val_accuracy: 0.7587\n",
            "Epoch 54/100\n",
            "719/719 [==============================] - 1s 2ms/step - loss: 0.3699 - accuracy: 0.8136 - val_loss: 0.5223 - val_accuracy: 0.7622\n",
            "Epoch 55/100\n",
            "719/719 [==============================] - 1s 1ms/step - loss: 0.3695 - accuracy: 0.8158 - val_loss: 0.5297 - val_accuracy: 0.7652\n",
            "Epoch 56/100\n",
            "719/719 [==============================] - 1s 2ms/step - loss: 0.3688 - accuracy: 0.8122 - val_loss: 0.5167 - val_accuracy: 0.7603\n",
            "Epoch 57/100\n",
            "719/719 [==============================] - 1s 1ms/step - loss: 0.3680 - accuracy: 0.8132 - val_loss: 0.5114 - val_accuracy: 0.7582\n",
            "Epoch 58/100\n",
            "719/719 [==============================] - 1s 2ms/step - loss: 0.3677 - accuracy: 0.8123 - val_loss: 0.5216 - val_accuracy: 0.7560\n",
            "Epoch 59/100\n",
            "719/719 [==============================] - 1s 1ms/step - loss: 0.3683 - accuracy: 0.8126 - val_loss: 0.5264 - val_accuracy: 0.7627\n",
            "Epoch 60/100\n",
            "719/719 [==============================] - 1s 1ms/step - loss: 0.3637 - accuracy: 0.8147 - val_loss: 0.5337 - val_accuracy: 0.7584\n",
            "Epoch 61/100\n",
            "719/719 [==============================] - 1s 1ms/step - loss: 0.3654 - accuracy: 0.8147 - val_loss: 0.5404 - val_accuracy: 0.7630\n",
            "Epoch 62/100\n",
            "719/719 [==============================] - 1s 1ms/step - loss: 0.3640 - accuracy: 0.8153 - val_loss: 0.5237 - val_accuracy: 0.7592\n",
            "Epoch 63/100\n",
            "719/719 [==============================] - 1s 2ms/step - loss: 0.3631 - accuracy: 0.8149 - val_loss: 0.5294 - val_accuracy: 0.7611\n",
            "Epoch 64/100\n",
            "719/719 [==============================] - 1s 2ms/step - loss: 0.3650 - accuracy: 0.8137 - val_loss: 0.5394 - val_accuracy: 0.7600\n",
            "Epoch 65/100\n",
            "719/719 [==============================] - 1s 2ms/step - loss: 0.3621 - accuracy: 0.8157 - val_loss: 0.5508 - val_accuracy: 0.7609\n",
            "Epoch 66/100\n",
            "719/719 [==============================] - 1s 2ms/step - loss: 0.3599 - accuracy: 0.8142 - val_loss: 0.5590 - val_accuracy: 0.7627\n",
            "Epoch 67/100\n",
            "719/719 [==============================] - 1s 2ms/step - loss: 0.3628 - accuracy: 0.8148 - val_loss: 0.5461 - val_accuracy: 0.7611\n",
            "Epoch 68/100\n",
            "719/719 [==============================] - 1s 2ms/step - loss: 0.3592 - accuracy: 0.8146 - val_loss: 0.5473 - val_accuracy: 0.7625\n",
            "Epoch 69/100\n",
            "719/719 [==============================] - 1s 1ms/step - loss: 0.3563 - accuracy: 0.8165 - val_loss: 0.5565 - val_accuracy: 0.7633\n",
            "Epoch 70/100\n",
            "719/719 [==============================] - 1s 2ms/step - loss: 0.3569 - accuracy: 0.8158 - val_loss: 0.5561 - val_accuracy: 0.7598\n",
            "Epoch 71/100\n",
            "719/719 [==============================] - 1s 2ms/step - loss: 0.3596 - accuracy: 0.8158 - val_loss: 0.5536 - val_accuracy: 0.7565\n",
            "Epoch 72/100\n",
            "719/719 [==============================] - 1s 2ms/step - loss: 0.3581 - accuracy: 0.8157 - val_loss: 0.5522 - val_accuracy: 0.7603\n",
            "Epoch 73/100\n",
            "719/719 [==============================] - 1s 2ms/step - loss: 0.3553 - accuracy: 0.8153 - val_loss: 0.5371 - val_accuracy: 0.7541\n",
            "Epoch 74/100\n",
            "719/719 [==============================] - 1s 2ms/step - loss: 0.3557 - accuracy: 0.8153 - val_loss: 0.5514 - val_accuracy: 0.7617\n",
            "Epoch 75/100\n",
            "719/719 [==============================] - 1s 2ms/step - loss: 0.3555 - accuracy: 0.8151 - val_loss: 0.5623 - val_accuracy: 0.7619\n",
            "Epoch 76/100\n",
            "719/719 [==============================] - 1s 2ms/step - loss: 0.3542 - accuracy: 0.8140 - val_loss: 0.5663 - val_accuracy: 0.7622\n",
            "Epoch 77/100\n",
            "719/719 [==============================] - 1s 2ms/step - loss: 0.3538 - accuracy: 0.8152 - val_loss: 0.5612 - val_accuracy: 0.7625\n",
            "Epoch 78/100\n",
            "719/719 [==============================] - 1s 2ms/step - loss: 0.3535 - accuracy: 0.8168 - val_loss: 0.5732 - val_accuracy: 0.7633\n",
            "Epoch 79/100\n",
            "719/719 [==============================] - 1s 1ms/step - loss: 0.3509 - accuracy: 0.8166 - val_loss: 0.5763 - val_accuracy: 0.7617\n",
            "Epoch 80/100\n",
            "719/719 [==============================] - 1s 2ms/step - loss: 0.3531 - accuracy: 0.8164 - val_loss: 0.5698 - val_accuracy: 0.7644\n",
            "Epoch 81/100\n",
            "719/719 [==============================] - 1s 2ms/step - loss: 0.3505 - accuracy: 0.8167 - val_loss: 0.5722 - val_accuracy: 0.7582\n",
            "Epoch 82/100\n",
            "719/719 [==============================] - 1s 2ms/step - loss: 0.3514 - accuracy: 0.8163 - val_loss: 0.5901 - val_accuracy: 0.7611\n",
            "Epoch 83/100\n",
            "719/719 [==============================] - 1s 2ms/step - loss: 0.3481 - accuracy: 0.8181 - val_loss: 0.5838 - val_accuracy: 0.7633\n",
            "Epoch 84/100\n",
            "719/719 [==============================] - 1s 1ms/step - loss: 0.3476 - accuracy: 0.8174 - val_loss: 0.5789 - val_accuracy: 0.7603\n",
            "Epoch 85/100\n",
            "719/719 [==============================] - 1s 2ms/step - loss: 0.3473 - accuracy: 0.8170 - val_loss: 0.5993 - val_accuracy: 0.7652\n",
            "Epoch 86/100\n",
            "719/719 [==============================] - 1s 2ms/step - loss: 0.3508 - accuracy: 0.8157 - val_loss: 0.5919 - val_accuracy: 0.7563\n",
            "Epoch 87/100\n",
            "719/719 [==============================] - 1s 2ms/step - loss: 0.3518 - accuracy: 0.8138 - val_loss: 0.6025 - val_accuracy: 0.7619\n",
            "Epoch 88/100\n",
            "719/719 [==============================] - 1s 1ms/step - loss: 0.3491 - accuracy: 0.8158 - val_loss: 0.5878 - val_accuracy: 0.7635\n",
            "Epoch 89/100\n",
            "719/719 [==============================] - 1s 1ms/step - loss: 0.3471 - accuracy: 0.8163 - val_loss: 0.5929 - val_accuracy: 0.7571\n",
            "Epoch 90/100\n",
            "719/719 [==============================] - 1s 2ms/step - loss: 0.3475 - accuracy: 0.8162 - val_loss: 0.5878 - val_accuracy: 0.7598\n",
            "Epoch 91/100\n",
            "719/719 [==============================] - 1s 2ms/step - loss: 0.3473 - accuracy: 0.8166 - val_loss: 0.5980 - val_accuracy: 0.7598\n",
            "Epoch 92/100\n",
            "719/719 [==============================] - 1s 2ms/step - loss: 0.3468 - accuracy: 0.8164 - val_loss: 0.5890 - val_accuracy: 0.7533\n",
            "Epoch 93/100\n",
            "719/719 [==============================] - 1s 1ms/step - loss: 0.3445 - accuracy: 0.8184 - val_loss: 0.6156 - val_accuracy: 0.7641\n",
            "Epoch 94/100\n",
            "719/719 [==============================] - 1s 2ms/step - loss: 0.3447 - accuracy: 0.8143 - val_loss: 0.5965 - val_accuracy: 0.7617\n",
            "Epoch 95/100\n",
            "719/719 [==============================] - 1s 2ms/step - loss: 0.3421 - accuracy: 0.8163 - val_loss: 0.6195 - val_accuracy: 0.7622\n",
            "Epoch 96/100\n",
            "719/719 [==============================] - 1s 1ms/step - loss: 0.3449 - accuracy: 0.8150 - val_loss: 0.6212 - val_accuracy: 0.7641\n",
            "Epoch 97/100\n",
            "719/719 [==============================] - 1s 1ms/step - loss: 0.3428 - accuracy: 0.8141 - val_loss: 0.6146 - val_accuracy: 0.7635\n",
            "Epoch 98/100\n",
            "719/719 [==============================] - 1s 2ms/step - loss: 0.3441 - accuracy: 0.8160 - val_loss: 0.6028 - val_accuracy: 0.7544\n",
            "Epoch 99/100\n",
            "719/719 [==============================] - 1s 2ms/step - loss: 0.3437 - accuracy: 0.8159 - val_loss: 0.6172 - val_accuracy: 0.7587\n",
            "Epoch 100/100\n",
            "719/719 [==============================] - 1s 2ms/step - loss: 0.3422 - accuracy: 0.8146 - val_loss: 0.6220 - val_accuracy: 0.7630\n"
          ]
        }
      ],
      "source": [
        "num_epochs = 100\n",
        "history = model.fit(training_padded, training_labels, epochs=num_epochs,\n",
        "                    validation_data=(testing_padded, testing_labels))"
      ]
    },
    {
      "cell_type": "code",
      "execution_count": 41,
      "metadata": {
        "colab": {
          "base_uri": "https://localhost:8080/",
          "height": 279
        },
        "id": "f1pkZDaRgBNY",
        "outputId": "886a7e34-78d3-4c8e-cdc4-c1e59eb40586"
      },
      "outputs": [
        {
          "data": {
            "image/png": "[encoded data removed]",
            "text/plain": [
              "<Figure size 640x480 with 1 Axes>"
            ]
          },
          "metadata": {},
          "output_type": "display_data"
        }
      ],
      "source": [
        "plt.plot(history.history['accuracy'])\n",
        "plt.plot(history.history['val_accuracy'])\n",
        "plt.xlabel('epochs')\n",
        "plt.ylabel('accuracy')\n",
        "plt.legend(['accuracy', 'val_accuracy'])\n",
        "plt.show()"
      ]
    },
    {
      "cell_type": "code",
      "execution_count": 40,
      "metadata": {
        "colab": {
          "base_uri": "https://localhost:8080/",
          "height": 281
        },
        "id": "duUoqjk1gBNY",
        "outputId": "5fa389a6-8e33-435c-c5d9-cc538c5e9e3d",
        "scrolled": true
      },
      "outputs": [
        {
          "data": {
            "image/png": "[encoded data removed]",
            "text/plain": [
              "<Figure size 432x288 with 1 Axes>"
            ]
          },
          "metadata": {
            "needs_background": "light"
          },
          "output_type": "display_data"
        }
      ],
      "source": [
        "plt.plot(history.history['loss'])\n",
        "plt.plot(history.history['val_loss'])\n",
        "plt.xlabel('epochs')\n",
        "plt.ylabel('loss')\n",
        "plt.legend(['loss', 'val_loss'])\n",
        "plt.show()"
      ]
    },
    {
      "attachments": {},
      "cell_type": "markdown",
      "metadata": {},
      "source": [
        "▲ 훈련 정확도가 올라가지만, 검증 정확도는 감소,   \n",
        "검증 손실이 증가하는 패턴 ===> 과대적합이 다시 나타났다.   \n",
        "* 적은 뉴런을 사용할 때 드롭아웃을 적용하는 것은 좋은 방법이 아니다."
      ]
    },
    {
      "attachments": {},
      "cell_type": "markdown",
      "metadata": {
        "id": "I2dWCw6YgBNZ"
      },
      "source": [
        "#### 2-2-6. 규제 사용하기"
      ]
    },
    {
      "attachments": {},
      "cell_type": "markdown",
      "metadata": {},
      "source": [
        "L1 규제: 라쏘(Lasso) = 층의 가중치를 0 또는 0에 가까운 값으로 만듦   \n",
        "L2 규제: 리지(ridge) = 가중치 제곱을 패널티로 사용, 0에서 먼 값과 0에 가까운 값으로 만든다.   \n",
        "==> 이 두 방식을 모두 사용할 수 있고, 이를 일래스틱넷(elastic net) 규제라고 한다."
      ]
    },
    {
      "cell_type": "code",
      "execution_count": 48,
      "metadata": {
        "id": "aVpJV95jgBNZ"
      },
      "outputs": [],
      "source": [
        "model = tf.keras.Sequential([\n",
        "    tf.keras.layers.Embedding(vocab_size, embedding_dim),\n",
        "    tf.keras.layers.GlobalAveragePooling1D(),\n",
        "    tf.keras.layers.Dense(8, activation='relu', \n",
        "                          kernel_regularizer = tf.keras.regularizers.l2(0.01)),     # regularization(규제) 사용: 가중치의 크기를 감소시켜 과대적합 방지\n",
        "    tf.keras.layers.Dense(1, activation='sigmoid')\n",
        "])\n",
        "model.compile(loss='binary_crossentropy',\n",
        "              optimizer='adam',metrics=['accuracy'])"
      ]
    },
    {
      "cell_type": "code",
      "execution_count": 49,
      "metadata": {
        "colab": {
          "base_uri": "https://localhost:8080/"
        },
        "id": "DtPG52_0gBNZ",
        "outputId": "62388b48-3a05-4f51-f3a5-d53590e8f7e0",
        "scrolled": true
      },
      "outputs": [
        {
          "name": "stdout",
          "output_type": "stream",
          "text": [
            "Epoch 1/100\n",
            "719/719 [==============================] - 2s 2ms/step - loss: 0.7099 - accuracy: 0.5596 - val_loss: 0.6846 - val_accuracy: 0.5700\n",
            "Epoch 2/100\n",
            "719/719 [==============================] - 1s 1ms/step - loss: 0.6861 - accuracy: 0.5596 - val_loss: 0.6830 - val_accuracy: 0.5700\n",
            "Epoch 3/100\n",
            "719/719 [==============================] - 1s 1ms/step - loss: 0.6851 - accuracy: 0.5596 - val_loss: 0.6816 - val_accuracy: 0.5700\n",
            "Epoch 4/100\n",
            "719/719 [==============================] - 1s 1ms/step - loss: 0.6812 - accuracy: 0.5596 - val_loss: 0.6744 - val_accuracy: 0.5700\n",
            "Epoch 5/100\n",
            "719/719 [==============================] - 1s 1ms/step - loss: 0.6654 - accuracy: 0.5875 - val_loss: 0.6532 - val_accuracy: 0.6468\n",
            "Epoch 6/100\n",
            "719/719 [==============================] - 1s 2ms/step - loss: 0.6370 - accuracy: 0.6639 - val_loss: 0.6259 - val_accuracy: 0.7032\n",
            "Epoch 7/100\n",
            "719/719 [==============================] - 1s 1ms/step - loss: 0.6054 - accuracy: 0.7141 - val_loss: 0.5983 - val_accuracy: 0.7147\n",
            "Epoch 8/100\n",
            "719/719 [==============================] - 1s 1ms/step - loss: 0.5770 - accuracy: 0.7451 - val_loss: 0.5752 - val_accuracy: 0.7436\n",
            "Epoch 9/100\n",
            "719/719 [==============================] - 1s 1ms/step - loss: 0.5524 - accuracy: 0.7623 - val_loss: 0.5578 - val_accuracy: 0.7530\n",
            "Epoch 10/100\n",
            "719/719 [==============================] - 1s 1ms/step - loss: 0.5324 - accuracy: 0.7745 - val_loss: 0.5448 - val_accuracy: 0.7528\n",
            "Epoch 11/100\n",
            "719/719 [==============================] - 1s 1ms/step - loss: 0.5164 - accuracy: 0.7813 - val_loss: 0.5321 - val_accuracy: 0.7609\n",
            "Epoch 12/100\n",
            "719/719 [==============================] - 1s 1ms/step - loss: 0.5034 - accuracy: 0.7874 - val_loss: 0.5270 - val_accuracy: 0.7622\n",
            "Epoch 13/100\n",
            "719/719 [==============================] - 1s 1ms/step - loss: 0.4920 - accuracy: 0.7922 - val_loss: 0.5167 - val_accuracy: 0.7673\n",
            "Epoch 14/100\n",
            "719/719 [==============================] - 1s 1ms/step - loss: 0.4828 - accuracy: 0.7943 - val_loss: 0.5104 - val_accuracy: 0.7706\n",
            "Epoch 15/100\n",
            "719/719 [==============================] - 1s 2ms/step - loss: 0.4747 - accuracy: 0.7958 - val_loss: 0.5065 - val_accuracy: 0.7668\n",
            "Epoch 16/100\n",
            "719/719 [==============================] - 1s 2ms/step - loss: 0.4679 - accuracy: 0.7987 - val_loss: 0.5039 - val_accuracy: 0.7665\n",
            "Epoch 17/100\n",
            "719/719 [==============================] - 1s 2ms/step - loss: 0.4617 - accuracy: 0.7988 - val_loss: 0.4980 - val_accuracy: 0.7716\n",
            "Epoch 18/100\n",
            "719/719 [==============================] - 1s 2ms/step - loss: 0.4563 - accuracy: 0.8003 - val_loss: 0.4954 - val_accuracy: 0.7708\n",
            "Epoch 19/100\n",
            "719/719 [==============================] - 1s 2ms/step - loss: 0.4516 - accuracy: 0.8036 - val_loss: 0.4932 - val_accuracy: 0.7743\n",
            "Epoch 20/100\n",
            "719/719 [==============================] - 1s 2ms/step - loss: 0.4477 - accuracy: 0.8037 - val_loss: 0.4908 - val_accuracy: 0.7754\n",
            "Epoch 21/100\n",
            "719/719 [==============================] - 1s 2ms/step - loss: 0.4442 - accuracy: 0.8048 - val_loss: 0.4892 - val_accuracy: 0.7754\n",
            "Epoch 22/100\n",
            "719/719 [==============================] - 1s 1ms/step - loss: 0.4405 - accuracy: 0.8053 - val_loss: 0.4863 - val_accuracy: 0.7760\n",
            "Epoch 23/100\n",
            "719/719 [==============================] - 1s 1ms/step - loss: 0.4379 - accuracy: 0.8083 - val_loss: 0.4869 - val_accuracy: 0.7719\n",
            "Epoch 24/100\n",
            "719/719 [==============================] - 1s 1ms/step - loss: 0.4350 - accuracy: 0.8068 - val_loss: 0.4832 - val_accuracy: 0.7757\n",
            "Epoch 25/100\n",
            "719/719 [==============================] - 1s 1ms/step - loss: 0.4324 - accuracy: 0.8081 - val_loss: 0.4891 - val_accuracy: 0.7695\n",
            "Epoch 26/100\n",
            "719/719 [==============================] - 1s 1ms/step - loss: 0.4296 - accuracy: 0.8092 - val_loss: 0.4830 - val_accuracy: 0.7727\n",
            "Epoch 27/100\n",
            "719/719 [==============================] - 1s 1ms/step - loss: 0.4275 - accuracy: 0.8099 - val_loss: 0.4826 - val_accuracy: 0.7754\n",
            "Epoch 28/100\n",
            "719/719 [==============================] - 1s 2ms/step - loss: 0.4262 - accuracy: 0.8109 - val_loss: 0.4812 - val_accuracy: 0.7773\n",
            "Epoch 29/100\n",
            "719/719 [==============================] - 1s 2ms/step - loss: 0.4243 - accuracy: 0.8103 - val_loss: 0.4837 - val_accuracy: 0.7792\n",
            "Epoch 30/100\n",
            "719/719 [==============================] - 1s 2ms/step - loss: 0.4222 - accuracy: 0.8115 - val_loss: 0.4808 - val_accuracy: 0.7765\n",
            "Epoch 31/100\n",
            "719/719 [==============================] - 1s 2ms/step - loss: 0.4205 - accuracy: 0.8111 - val_loss: 0.4787 - val_accuracy: 0.7797\n",
            "Epoch 32/100\n",
            "719/719 [==============================] - 1s 2ms/step - loss: 0.4191 - accuracy: 0.8108 - val_loss: 0.4784 - val_accuracy: 0.7770\n",
            "Epoch 33/100\n",
            "719/719 [==============================] - 1s 2ms/step - loss: 0.4180 - accuracy: 0.8105 - val_loss: 0.4794 - val_accuracy: 0.7800\n",
            "Epoch 34/100\n",
            "719/719 [==============================] - 1s 2ms/step - loss: 0.4168 - accuracy: 0.8132 - val_loss: 0.4822 - val_accuracy: 0.7803\n",
            "Epoch 35/100\n",
            "719/719 [==============================] - 1s 1ms/step - loss: 0.4158 - accuracy: 0.8115 - val_loss: 0.4784 - val_accuracy: 0.7760\n",
            "Epoch 36/100\n",
            "719/719 [==============================] - 1s 2ms/step - loss: 0.4145 - accuracy: 0.8151 - val_loss: 0.4785 - val_accuracy: 0.7803\n",
            "Epoch 37/100\n",
            "719/719 [==============================] - 1s 2ms/step - loss: 0.4137 - accuracy: 0.8125 - val_loss: 0.4771 - val_accuracy: 0.7762\n",
            "Epoch 38/100\n",
            "719/719 [==============================] - 1s 2ms/step - loss: 0.4121 - accuracy: 0.8146 - val_loss: 0.4786 - val_accuracy: 0.7792\n",
            "Epoch 39/100\n",
            "719/719 [==============================] - 1s 1ms/step - loss: 0.4111 - accuracy: 0.8147 - val_loss: 0.4767 - val_accuracy: 0.7800\n",
            "Epoch 40/100\n",
            "719/719 [==============================] - 1s 2ms/step - loss: 0.4099 - accuracy: 0.8157 - val_loss: 0.4833 - val_accuracy: 0.7805\n",
            "Epoch 41/100\n",
            "719/719 [==============================] - 1s 2ms/step - loss: 0.4096 - accuracy: 0.8147 - val_loss: 0.4778 - val_accuracy: 0.7765\n",
            "Epoch 42/100\n",
            "719/719 [==============================] - 1s 2ms/step - loss: 0.4083 - accuracy: 0.8153 - val_loss: 0.4784 - val_accuracy: 0.7770\n",
            "Epoch 43/100\n",
            "719/719 [==============================] - 1s 2ms/step - loss: 0.4079 - accuracy: 0.8146 - val_loss: 0.4782 - val_accuracy: 0.7786\n",
            "Epoch 44/100\n",
            "719/719 [==============================] - 1s 1ms/step - loss: 0.4070 - accuracy: 0.8135 - val_loss: 0.4775 - val_accuracy: 0.7749\n",
            "Epoch 45/100\n",
            "719/719 [==============================] - 1s 1ms/step - loss: 0.4064 - accuracy: 0.8154 - val_loss: 0.4827 - val_accuracy: 0.7795\n",
            "Epoch 46/100\n",
            "719/719 [==============================] - 1s 2ms/step - loss: 0.4060 - accuracy: 0.8145 - val_loss: 0.4787 - val_accuracy: 0.7730\n",
            "Epoch 47/100\n",
            "719/719 [==============================] - 1s 1ms/step - loss: 0.4047 - accuracy: 0.8158 - val_loss: 0.4768 - val_accuracy: 0.7770\n",
            "Epoch 48/100\n",
            "719/719 [==============================] - 1s 2ms/step - loss: 0.4047 - accuracy: 0.8153 - val_loss: 0.4764 - val_accuracy: 0.7778\n",
            "Epoch 49/100\n",
            "719/719 [==============================] - 1s 1ms/step - loss: 0.4038 - accuracy: 0.8162 - val_loss: 0.4768 - val_accuracy: 0.7770\n",
            "Epoch 50/100\n",
            "719/719 [==============================] - 1s 1ms/step - loss: 0.4033 - accuracy: 0.8151 - val_loss: 0.4784 - val_accuracy: 0.7743\n",
            "Epoch 51/100\n",
            "719/719 [==============================] - 1s 1ms/step - loss: 0.4028 - accuracy: 0.8171 - val_loss: 0.4770 - val_accuracy: 0.7808\n",
            "Epoch 52/100\n",
            "719/719 [==============================] - 1s 1ms/step - loss: 0.4025 - accuracy: 0.8163 - val_loss: 0.4849 - val_accuracy: 0.7676\n",
            "Epoch 53/100\n",
            "719/719 [==============================] - 1s 1ms/step - loss: 0.4014 - accuracy: 0.8177 - val_loss: 0.4780 - val_accuracy: 0.7741\n",
            "Epoch 54/100\n",
            "719/719 [==============================] - 1s 1ms/step - loss: 0.4015 - accuracy: 0.8158 - val_loss: 0.4761 - val_accuracy: 0.7786\n",
            "Epoch 55/100\n",
            "719/719 [==============================] - 1s 1ms/step - loss: 0.4009 - accuracy: 0.8167 - val_loss: 0.4769 - val_accuracy: 0.7754\n",
            "Epoch 56/100\n",
            "719/719 [==============================] - 1s 1ms/step - loss: 0.4011 - accuracy: 0.8167 - val_loss: 0.4797 - val_accuracy: 0.7757\n",
            "Epoch 57/100\n",
            "719/719 [==============================] - 1s 1ms/step - loss: 0.4009 - accuracy: 0.8158 - val_loss: 0.4858 - val_accuracy: 0.7687\n",
            "Epoch 58/100\n",
            "719/719 [==============================] - 1s 1ms/step - loss: 0.3999 - accuracy: 0.8170 - val_loss: 0.4777 - val_accuracy: 0.7733\n",
            "Epoch 59/100\n",
            "719/719 [==============================] - 1s 1ms/step - loss: 0.3992 - accuracy: 0.8167 - val_loss: 0.4796 - val_accuracy: 0.7722\n",
            "Epoch 60/100\n",
            "719/719 [==============================] - 1s 1ms/step - loss: 0.3999 - accuracy: 0.8167 - val_loss: 0.4796 - val_accuracy: 0.7754\n",
            "Epoch 61/100\n",
            "719/719 [==============================] - 1s 1ms/step - loss: 0.3979 - accuracy: 0.8169 - val_loss: 0.4744 - val_accuracy: 0.7776\n",
            "Epoch 62/100\n",
            "719/719 [==============================] - 1s 1ms/step - loss: 0.3987 - accuracy: 0.8156 - val_loss: 0.4768 - val_accuracy: 0.7770\n",
            "Epoch 63/100\n",
            "719/719 [==============================] - 1s 1ms/step - loss: 0.3979 - accuracy: 0.8170 - val_loss: 0.4790 - val_accuracy: 0.7749\n",
            "Epoch 64/100\n",
            "719/719 [==============================] - 1s 1ms/step - loss: 0.3973 - accuracy: 0.8170 - val_loss: 0.4763 - val_accuracy: 0.7773\n",
            "Epoch 65/100\n",
            "719/719 [==============================] - 1s 1ms/step - loss: 0.3978 - accuracy: 0.8169 - val_loss: 0.4788 - val_accuracy: 0.7746\n",
            "Epoch 66/100\n",
            "719/719 [==============================] - 1s 1ms/step - loss: 0.3966 - accuracy: 0.8176 - val_loss: 0.4799 - val_accuracy: 0.7803\n",
            "Epoch 67/100\n",
            "719/719 [==============================] - 1s 1ms/step - loss: 0.3966 - accuracy: 0.8174 - val_loss: 0.4813 - val_accuracy: 0.7743\n",
            "Epoch 68/100\n",
            "719/719 [==============================] - 1s 1ms/step - loss: 0.3968 - accuracy: 0.8153 - val_loss: 0.4815 - val_accuracy: 0.7738\n",
            "Epoch 69/100\n",
            "719/719 [==============================] - 1s 1ms/step - loss: 0.3965 - accuracy: 0.8199 - val_loss: 0.4801 - val_accuracy: 0.7749\n",
            "Epoch 70/100\n",
            "719/719 [==============================] - 1s 1ms/step - loss: 0.3961 - accuracy: 0.8159 - val_loss: 0.4771 - val_accuracy: 0.7738\n",
            "Epoch 71/100\n",
            "719/719 [==============================] - 1s 1ms/step - loss: 0.3957 - accuracy: 0.8177 - val_loss: 0.4796 - val_accuracy: 0.7765\n",
            "Epoch 72/100\n",
            "719/719 [==============================] - 1s 1ms/step - loss: 0.3955 - accuracy: 0.8176 - val_loss: 0.4860 - val_accuracy: 0.7792\n",
            "Epoch 73/100\n",
            "719/719 [==============================] - 1s 1ms/step - loss: 0.3950 - accuracy: 0.8178 - val_loss: 0.4825 - val_accuracy: 0.7727\n",
            "Epoch 74/100\n",
            "719/719 [==============================] - 1s 1ms/step - loss: 0.3954 - accuracy: 0.8173 - val_loss: 0.4778 - val_accuracy: 0.7741\n",
            "Epoch 75/100\n",
            "719/719 [==============================] - 1s 1ms/step - loss: 0.3945 - accuracy: 0.8179 - val_loss: 0.4795 - val_accuracy: 0.7797\n",
            "Epoch 76/100\n",
            "719/719 [==============================] - 1s 1ms/step - loss: 0.3947 - accuracy: 0.8187 - val_loss: 0.4797 - val_accuracy: 0.7743\n",
            "Epoch 77/100\n",
            "719/719 [==============================] - 1s 1ms/step - loss: 0.3944 - accuracy: 0.8169 - val_loss: 0.4802 - val_accuracy: 0.7735\n",
            "Epoch 78/100\n",
            "719/719 [==============================] - 1s 2ms/step - loss: 0.3950 - accuracy: 0.8180 - val_loss: 0.4830 - val_accuracy: 0.7684\n",
            "Epoch 79/100\n",
            "719/719 [==============================] - 1s 1ms/step - loss: 0.3942 - accuracy: 0.8165 - val_loss: 0.4805 - val_accuracy: 0.7727\n",
            "Epoch 80/100\n",
            "719/719 [==============================] - 1s 1ms/step - loss: 0.3933 - accuracy: 0.8179 - val_loss: 0.4827 - val_accuracy: 0.7703\n",
            "Epoch 81/100\n",
            "719/719 [==============================] - 1s 1ms/step - loss: 0.3940 - accuracy: 0.8177 - val_loss: 0.4805 - val_accuracy: 0.7784\n",
            "Epoch 82/100\n",
            "719/719 [==============================] - 1s 1ms/step - loss: 0.3937 - accuracy: 0.8172 - val_loss: 0.4807 - val_accuracy: 0.7784\n",
            "Epoch 83/100\n",
            "719/719 [==============================] - 1s 1ms/step - loss: 0.3939 - accuracy: 0.8177 - val_loss: 0.4860 - val_accuracy: 0.7673\n",
            "Epoch 84/100\n",
            "719/719 [==============================] - 1s 1ms/step - loss: 0.3937 - accuracy: 0.8172 - val_loss: 0.4793 - val_accuracy: 0.7733\n",
            "Epoch 85/100\n",
            "719/719 [==============================] - 1s 1ms/step - loss: 0.3941 - accuracy: 0.8153 - val_loss: 0.4873 - val_accuracy: 0.7700\n",
            "Epoch 86/100\n",
            "719/719 [==============================] - 1s 1ms/step - loss: 0.3929 - accuracy: 0.8170 - val_loss: 0.4827 - val_accuracy: 0.7789\n",
            "Epoch 87/100\n",
            "719/719 [==============================] - 1s 1ms/step - loss: 0.3930 - accuracy: 0.8177 - val_loss: 0.4815 - val_accuracy: 0.7741\n",
            "Epoch 88/100\n",
            "719/719 [==============================] - 1s 1ms/step - loss: 0.3927 - accuracy: 0.8176 - val_loss: 0.4827 - val_accuracy: 0.7778\n",
            "Epoch 89/100\n",
            "719/719 [==============================] - 1s 1ms/step - loss: 0.3924 - accuracy: 0.8177 - val_loss: 0.4840 - val_accuracy: 0.7770\n",
            "Epoch 90/100\n",
            "719/719 [==============================] - 1s 1ms/step - loss: 0.3927 - accuracy: 0.8176 - val_loss: 0.4814 - val_accuracy: 0.7786\n",
            "Epoch 91/100\n",
            "719/719 [==============================] - 1s 1ms/step - loss: 0.3919 - accuracy: 0.8181 - val_loss: 0.4781 - val_accuracy: 0.7746\n",
            "Epoch 92/100\n",
            "719/719 [==============================] - 1s 1ms/step - loss: 0.3924 - accuracy: 0.8177 - val_loss: 0.4837 - val_accuracy: 0.7697\n",
            "Epoch 93/100\n",
            "719/719 [==============================] - 1s 1ms/step - loss: 0.3919 - accuracy: 0.8190 - val_loss: 0.4804 - val_accuracy: 0.7735\n",
            "Epoch 94/100\n",
            "719/719 [==============================] - 1s 1ms/step - loss: 0.3917 - accuracy: 0.8170 - val_loss: 0.4802 - val_accuracy: 0.7724\n",
            "Epoch 95/100\n",
            "719/719 [==============================] - 1s 1ms/step - loss: 0.3914 - accuracy: 0.8189 - val_loss: 0.4793 - val_accuracy: 0.7722\n",
            "Epoch 96/100\n",
            "719/719 [==============================] - 1s 1ms/step - loss: 0.3919 - accuracy: 0.8190 - val_loss: 0.4817 - val_accuracy: 0.7770\n",
            "Epoch 97/100\n",
            "719/719 [==============================] - 1s 1ms/step - loss: 0.3908 - accuracy: 0.8191 - val_loss: 0.4846 - val_accuracy: 0.7768\n",
            "Epoch 98/100\n",
            "719/719 [==============================] - 1s 1ms/step - loss: 0.3912 - accuracy: 0.8187 - val_loss: 0.4871 - val_accuracy: 0.7733\n",
            "Epoch 99/100\n",
            "719/719 [==============================] - 1s 1ms/step - loss: 0.3914 - accuracy: 0.8196 - val_loss: 0.4822 - val_accuracy: 0.7778\n",
            "Epoch 100/100\n",
            "719/719 [==============================] - 1s 1ms/step - loss: 0.3917 - accuracy: 0.8180 - val_loss: 0.4910 - val_accuracy: 0.7646\n"
          ]
        }
      ],
      "source": [
        "num_epochs = 100\n",
        "history = model.fit(training_padded, training_labels, epochs=num_epochs,\n",
        "                    validation_data=(testing_padded, testing_labels))"
      ]
    },
    {
      "cell_type": "code",
      "execution_count": 50,
      "metadata": {
        "colab": {
          "base_uri": "https://localhost:8080/",
          "height": 279
        },
        "id": "nr6wB6CsgBNZ",
        "outputId": "f77a4ea9-8ca3-41cd-fd63-9f7af077df2b"
      },
      "outputs": [
        {
          "data": {
            "image/png": "[encoded data removed]",
            "text/plain": [
              "<Figure size 640x480 with 1 Axes>"
            ]
          },
          "metadata": {},
          "output_type": "display_data"
        }
      ],
      "source": [
        "plt.plot(history.history['accuracy'])\n",
        "plt.plot(history.history['val_accuracy'])\n",
        "plt.xlabel('epochs')\n",
        "plt.ylabel('accuracy')\n",
        "plt.legend(['accuracy', 'val_accuracy'])\n",
        "plt.show()"
      ]
    },
    {
      "cell_type": "code",
      "execution_count": 51,
      "metadata": {
        "colab": {
          "base_uri": "https://localhost:8080/",
          "height": 279
        },
        "id": "IKXMSMipgBNZ",
        "outputId": "9cc0b29b-c6f8-480a-9cf2-36d1191c195e",
        "scrolled": true
      },
      "outputs": [
        {
          "data": {
            "image/png": "[encoded data removed]",
            "text/plain": [
              "<Figure size 640x480 with 1 Axes>"
            ]
          },
          "metadata": {},
          "output_type": "display_data"
        }
      ],
      "source": [
        "plt.plot(history.history['loss'])\n",
        "plt.plot(history.history['val_loss'])\n",
        "plt.xlabel('epochs')\n",
        "plt.ylabel('loss')\n",
        "plt.legend(['loss', 'val_loss'])\n",
        "plt.show()"
      ]
    },
    {
      "attachments": {},
      "cell_type": "markdown",
      "metadata": {
        "id": "SVDnN8W3gBNa"
      },
      "source": [
        "#### 2-2-7. 다른 고려 사항"
      ]
    },
    {
      "attachments": {},
      "cell_type": "markdown",
      "metadata": {},
      "source": [
        "하이퍼파라미터를 조정하여 실험   \n",
        "ex) 문장의 최대 길이 -> 문장 길이를 짧은 것에서 긴 것까지 정렬해서 문장 길이의 분포를 확인   \n",
        "100개 이상을 가진 문장은 200개 미만이므로, 불필요한 패딩을 많이 추가하게 되어 모델 성능에 영향을 미친다.   \n",
        "--> 최대 길이를 줄이자."
      ]
    },
    {
      "cell_type": "code",
      "execution_count": 52,
      "metadata": {
        "colab": {
          "base_uri": "https://localhost:8080/",
          "height": 265
        },
        "id": "wuiGmlqsgBNa",
        "outputId": "a974beda-5955-4b0e-834a-ca7584a13594"
      },
      "outputs": [
        {
          "data": {
            "image/png": "[encoded data removed]",
            "text/plain": [
              "<Figure size 640x480 with 1 Axes>"
            ]
          },
          "metadata": {},
          "output_type": "display_data"
        }
      ],
      "source": [
        "xs=[]\n",
        "ys=[]\n",
        "current_item=1\n",
        "for item in sentences:\n",
        "    xs.append(current_item)\n",
        "    current_item=current_item+1\n",
        "    ys.append(len(item))\n",
        "newys = sorted(ys)\n",
        "\n",
        "plt.plot(xs,newys)\n",
        "plt.show()"
      ]
    },
    {
      "attachments": {},
      "cell_type": "markdown",
      "metadata": {
        "id": "e3cXRe2igBNa"
      },
      "source": [
        "### 2-3. 모델을 사용해 문장 분류하기"
      ]
    },
    {
      "cell_type": "code",
      "execution_count": 53,
      "metadata": {
        "id": "kVqC84ekgBNa"
      },
      "outputs": [],
      "source": [
        "sentences = [\"granny starting to fear spiders in the garden might be real\", \n",
        "             \"game of thrones season finale showing this sunday night\", \n",
        "             \"TensorFlow book will be a best seller\"]"
      ]
    },
    {
      "cell_type": "code",
      "execution_count": 54,
      "metadata": {
        "colab": {
          "base_uri": "https://localhost:8080/"
        },
        "id": "j61KpoTTgBNb",
        "outputId": "716f5341-ddb6-4b79-c3d3-72eff980cad3"
      },
      "outputs": [
        {
          "name": "stdout",
          "output_type": "stream",
          "text": [
            "[[1, 803, 1, 753, 1, 1, 1, 1, 312, 1, 97], [123, 1, 1183, 160, 1, 1, 1, 1543, 152], [1, 235, 7, 1, 1, 47, 1]]\n"
          ]
        }
      ],
      "source": [
        "sequences = tokenizer.texts_to_sequences(sentences)\n",
        "print(sequences)"
      ]
    },
    {
      "cell_type": "code",
      "execution_count": 55,
      "metadata": {
        "colab": {
          "base_uri": "https://localhost:8080/"
        },
        "id": "40dHBuA2gBNb",
        "outputId": "da2877c3-ccab-4a90-e69e-ae3fe885ba77"
      },
      "outputs": [
        {
          "name": "stdout",
          "output_type": "stream",
          "text": [
            "[[   1  803    1  753    1    1    1    1  312    1   97    0    0    0\n",
            "     0    0    0    0    0    0    0    0    0    0    0    0    0    0\n",
            "     0    0    0    0    0    0    0    0    0    0    0    0    0    0\n",
            "     0    0    0    0    0    0    0    0    0    0    0    0    0    0\n",
            "     0    0    0    0    0    0    0    0    0    0    0    0    0    0\n",
            "     0    0    0    0    0    0    0    0    0    0    0    0    0    0\n",
            "     0    0    0    0    0    0    0    0    0    0    0    0    0    0\n",
            "     0    0]\n",
            " [ 123    1 1183  160    1    1    1 1543  152    0    0    0    0    0\n",
            "     0    0    0    0    0    0    0    0    0    0    0    0    0    0\n",
            "     0    0    0    0    0    0    0    0    0    0    0    0    0    0\n",
            "     0    0    0    0    0    0    0    0    0    0    0    0    0    0\n",
            "     0    0    0    0    0    0    0    0    0    0    0    0    0    0\n",
            "     0    0    0    0    0    0    0    0    0    0    0    0    0    0\n",
            "     0    0    0    0    0    0    0    0    0    0    0    0    0    0\n",
            "     0    0]\n",
            " [   1  235    7    1    1   47    1    0    0    0    0    0    0    0\n",
            "     0    0    0    0    0    0    0    0    0    0    0    0    0    0\n",
            "     0    0    0    0    0    0    0    0    0    0    0    0    0    0\n",
            "     0    0    0    0    0    0    0    0    0    0    0    0    0    0\n",
            "     0    0    0    0    0    0    0    0    0    0    0    0    0    0\n",
            "     0    0    0    0    0    0    0    0    0    0    0    0    0    0\n",
            "     0    0    0    0    0    0    0    0    0    0    0    0    0    0\n",
            "     0    0]]\n"
          ]
        }
      ],
      "source": [
        "padded = pad_sequences(sequences, maxlen=max_length, \n",
        "                       padding=padding_type, truncating=trunc_type)\n",
        "print(padded)"
      ]
    },
    {
      "cell_type": "code",
      "execution_count": 56,
      "metadata": {
        "colab": {
          "base_uri": "https://localhost:8080/"
        },
        "id": "i8iME1OMgBNb",
        "outputId": "9442d9ed-1860-40f1-a36c-d6496e6dcfbf"
      },
      "outputs": [
        {
          "name": "stdout",
          "output_type": "stream",
          "text": [
            "1/1 [==============================] - 0s 93ms/step\n",
            "[[0.80145353]\n",
            " [0.03175215]\n",
            " [0.21020332]]\n"
          ]
        }
      ],
      "source": [
        "print(model.predict(padded))\n",
        "# 1번 문장: 아주 빈정대는 문장... 0.8\n",
        "# 2번, 3번 문장: 빈정대는 문장일 가능성 낮음"
      ]
    },
    {
      "attachments": {},
      "cell_type": "markdown",
      "metadata": {
        "id": "3oPj-k7xgBNb"
      },
      "source": [
        "## 3. 임베딩 시각화\n",
        "임베딩 프로젝터(EmbeddingProjector)"
      ]
    },
    {
      "cell_type": "code",
      "execution_count": 58,
      "metadata": {},
      "outputs": [
        {
          "data": {
            "text/plain": [
              "{1: '<OOV>',\n",
              " 2: 'new',\n",
              " 3: 'trump',\n",
              " 4: 'man',\n",
              " 5: 'not',\n",
              " 6: 'just',\n",
              " 7: 'will',\n",
              " 8: 'one',\n",
              " 9: 'year',\n",
              " 10: 'report',\n",
              " 11: 'area',\n",
              " 12: 'donald',\n",
              " 13: 'day',\n",
              " 14: 'u',\n",
              " 15: 's',\n",
              " 16: 'can',\n",
              " 17: 'says',\n",
              " 18: 'woman',\n",
              " 19: 'first',\n",
              " 20: 'time',\n",
              " 21: 'like',\n",
              " 22: 'no',\n",
              " 23: 'get',\n",
              " 24: 'old',\n",
              " 25: 'trumps',\n",
              " 26: 'off',\n",
              " 27: 'now',\n",
              " 28: 'life',\n",
              " 29: 'obama',\n",
              " 30: 'people',\n",
              " 31: 'house',\n",
              " 32: 'women',\n",
              " 33: 'white',\n",
              " 34: 'back',\n",
              " 35: 'still',\n",
              " 36: 'make',\n",
              " 37: 'clinton',\n",
              " 38: '5',\n",
              " 39: 'world',\n",
              " 40: 'americans',\n",
              " 41: 'years',\n",
              " 42: 'way',\n",
              " 43: 'family',\n",
              " 44: 'black',\n",
              " 45: 'study',\n",
              " 46: 'gop',\n",
              " 47: 'best',\n",
              " 48: 'bill',\n",
              " 49: 'american',\n",
              " 50: 'school',\n",
              " 51: 'police',\n",
              " 52: 'watch',\n",
              " 53: '3',\n",
              " 54: 'show',\n",
              " 55: 'really',\n",
              " 56: 'president',\n",
              " 57: 'home',\n",
              " 58: 'last',\n",
              " 59: 'video',\n",
              " 60: 'finds',\n",
              " 61: 'death',\n",
              " 62: 'cant',\n",
              " 63: 'know',\n",
              " 64: '10',\n",
              " 65: 'things',\n",
              " 66: 'good',\n",
              " 67: 'going',\n",
              " 68: 'state',\n",
              " 69: 'hillary',\n",
              " 70: 'love',\n",
              " 71: 'nation',\n",
              " 72: 'may',\n",
              " 73: '2',\n",
              " 74: 'health',\n",
              " 75: 'say',\n",
              " 76: 'parents',\n",
              " 77: 'big',\n",
              " 78: 'every',\n",
              " 79: 'right',\n",
              " 80: 'work',\n",
              " 81: '000',\n",
              " 82: 'need',\n",
              " 83: 'dead',\n",
              " 84: 'kids',\n",
              " 85: 'take',\n",
              " 86: 'gets',\n",
              " 87: 'mom',\n",
              " 88: 'campaign',\n",
              " 89: 'party',\n",
              " 90: 'little',\n",
              " 91: 'getting',\n",
              " 92: 'high',\n",
              " 93: 'america',\n",
              " 94: 'news',\n",
              " 95: 'john',\n",
              " 96: 'court',\n",
              " 97: 'real',\n",
              " 98: 'self',\n",
              " 99: 'makes',\n",
              " 100: 'dont',\n",
              " 101: 'gay',\n",
              " 102: 'child',\n",
              " 103: 'takes',\n",
              " 104: 'election',\n",
              " 105: 'go',\n",
              " 106: 'never',\n",
              " 107: 'calls',\n",
              " 108: 'see',\n",
              " 109: '7',\n",
              " 110: 'doesnt',\n",
              " 111: 'change',\n",
              " 112: '4',\n",
              " 113: 'war',\n",
              " 114: 'want',\n",
              " 115: 'local',\n",
              " 116: 'star',\n",
              " 117: 'nations',\n",
              " 118: 'next',\n",
              " 119: 'guy',\n",
              " 120: '6',\n",
              " 121: 'college',\n",
              " 122: 'stop',\n",
              " 123: 'game',\n",
              " 124: 'bush',\n",
              " 125: 'look',\n",
              " 126: 'sex',\n",
              " 127: 'baby',\n",
              " 128: 'even',\n",
              " 129: 'around',\n",
              " 130: 'plan',\n",
              " 131: 'got',\n",
              " 132: 'office',\n",
              " 133: 'another',\n",
              " 134: '1',\n",
              " 135: 'dog',\n",
              " 136: 'thing',\n",
              " 137: 'ever',\n",
              " 138: 'gun',\n",
              " 139: 'million',\n",
              " 140: 'live',\n",
              " 141: 'two',\n",
              " 142: 'made',\n",
              " 143: 'actually',\n",
              " 144: 'job',\n",
              " 145: 'week',\n",
              " 146: 'wants',\n",
              " 147: 'dad',\n",
              " 148: 'us',\n",
              " 149: 'congress',\n",
              " 150: 'students',\n",
              " 151: 'help',\n",
              " 152: 'night',\n",
              " 153: 'care',\n",
              " 154: 'long',\n",
              " 155: 'mans',\n",
              " 156: 'north',\n",
              " 157: 'friends',\n",
              " 158: 'debate',\n",
              " 159: 'national',\n",
              " 160: 'season',\n",
              " 161: 'finally',\n",
              " 162: 'free',\n",
              " 163: 'couple',\n",
              " 164: 'much',\n",
              " 165: 'wont',\n",
              " 166: '20',\n",
              " 167: 'ways',\n",
              " 168: 'climate',\n",
              " 169: 'anti',\n",
              " 170: 'sexual',\n",
              " 171: 'give',\n",
              " 172: 'god',\n",
              " 173: 'city',\n",
              " 174: '9',\n",
              " 175: 'top',\n",
              " 176: 'without',\n",
              " 177: 'shows',\n",
              " 178: '8',\n",
              " 179: 'away',\n",
              " 180: 'story',\n",
              " 181: 'making',\n",
              " 182: 'history',\n",
              " 183: 'teen',\n",
              " 184: 'bad',\n",
              " 185: 'shooting',\n",
              " 186: 'men',\n",
              " 187: 'reveals',\n",
              " 188: 'trying',\n",
              " 189: 'children',\n",
              " 190: 'face',\n",
              " 191: 'money',\n",
              " 192: 'paul',\n",
              " 193: 'media',\n",
              " 194: 'end',\n",
              " 195: 'better',\n",
              " 196: 'senate',\n",
              " 197: 'food',\n",
              " 198: 'tv',\n",
              " 199: 'everyone',\n",
              " 200: 'law',\n",
              " 201: 'facebook',\n",
              " 202: 'tell',\n",
              " 203: 'entire',\n",
              " 204: 'movie',\n",
              " 205: 'supreme',\n",
              " 206: 'fight',\n",
              " 207: 'attack',\n",
              " 208: 'business',\n",
              " 209: 'announces',\n",
              " 210: 'girl',\n",
              " 211: 'found',\n",
              " 212: 'part',\n",
              " 213: 'republican',\n",
              " 214: 'government',\n",
              " 215: 'single',\n",
              " 216: 'film',\n",
              " 217: 'deal',\n",
              " 218: 'enough',\n",
              " 219: 'fire',\n",
              " 220: 'body',\n",
              " 221: 'son',\n",
              " 222: 'car',\n",
              " 223: 'think',\n",
              " 224: 'come',\n",
              " 225: 'york',\n",
              " 226: 'introduces',\n",
              " 227: 'wedding',\n",
              " 228: 'great',\n",
              " 229: 'pope',\n",
              " 230: 'talk',\n",
              " 231: 'former',\n",
              " 232: 'friend',\n",
              " 233: '11',\n",
              " 234: 'second',\n",
              " 235: 'book',\n",
              " 236: 'power',\n",
              " 237: 'find',\n",
              " 238: 'looking',\n",
              " 239: 'must',\n",
              " 240: 'james',\n",
              " 241: 'sanders',\n",
              " 242: 'pretty',\n",
              " 243: 'morning',\n",
              " 244: 'rights',\n",
              " 245: 'christmas',\n",
              " 246: 'thinks',\n",
              " 247: 'coming',\n",
              " 248: 'run',\n",
              " 249: 'middle',\n",
              " 250: 'call',\n",
              " 251: 'didnt',\n",
              " 252: 'used',\n",
              " 253: 'public',\n",
              " 254: 'future',\n",
              " 255: 'already',\n",
              " 256: 'speech',\n",
              " 257: 'republicans',\n",
              " 258: 'line',\n",
              " 259: 'marriage',\n",
              " 260: 'race',\n",
              " 261: 'support',\n",
              " 262: 'photos',\n",
              " 263: 'violence',\n",
              " 264: 'presidential',\n",
              " 265: 'keep',\n",
              " 266: 'democrats',\n",
              " 267: 'email',\n",
              " 268: 'name',\n",
              " 269: 'behind',\n",
              " 270: 'tax',\n",
              " 271: 'fans',\n",
              " 272: 'full',\n",
              " 273: 'vote',\n",
              " 274: '2016',\n",
              " 275: 'use',\n",
              " 276: 'girls',\n",
              " 277: 'worlds',\n",
              " 278: 'asks',\n",
              " 279: 'control',\n",
              " 280: '12',\n",
              " 281: 'security',\n",
              " 282: 'department',\n",
              " 283: 'secret',\n",
              " 284: 'company',\n",
              " 285: 'voters',\n",
              " 286: 'room',\n",
              " 287: 'open',\n",
              " 288: 'case',\n",
              " 289: 'team',\n",
              " 290: 'goes',\n",
              " 291: 'group',\n",
              " 292: 'win',\n",
              " 293: 'twitter',\n",
              " 294: 'poll',\n",
              " 295: 'times',\n",
              " 296: 'human',\n",
              " 297: 'missing',\n",
              " 298: 'days',\n",
              " 299: 'states',\n",
              " 300: 'releases',\n",
              " 301: 'killed',\n",
              " 302: 'person',\n",
              " 303: 'claims',\n",
              " 304: 'teacher',\n",
              " 305: 'perfect',\n",
              " 306: 'boy',\n",
              " 307: 'judge',\n",
              " 308: 'something',\n",
              " 309: 'student',\n",
              " 310: 'inside',\n",
              " 311: 'ban',\n",
              " 312: 'might',\n",
              " 313: 'ad',\n",
              " 314: 'political',\n",
              " 315: 'wife',\n",
              " 316: 'post',\n",
              " 317: 'forced',\n",
              " 318: 'sure',\n",
              " 319: 'texas',\n",
              " 320: 'shot',\n",
              " 321: 'record',\n",
              " 322: 'mother',\n",
              " 323: 'reports',\n",
              " 324: 'living',\n",
              " 325: 'ryan',\n",
              " 326: 'everything',\n",
              " 327: 'super',\n",
              " 328: 'save',\n",
              " 329: 'always',\n",
              " 330: 'female',\n",
              " 331: 'obamacare',\n",
              " 332: 'month',\n",
              " 333: 'photo',\n",
              " 334: 'minutes',\n",
              " 335: 'art',\n",
              " 336: 'country',\n",
              " 337: 'working',\n",
              " 338: 'summer',\n",
              " 339: 'music',\n",
              " 340: 'lives',\n",
              " 341: 'scientists',\n",
              " 342: 'bernie',\n",
              " 343: 'put',\n",
              " 344: 'three',\n",
              " 345: 'meet',\n",
              " 346: 'plans',\n",
              " 347: 'many',\n",
              " 348: 'let',\n",
              " 349: 'red',\n",
              " 350: 'kim',\n",
              " 351: 'start',\n",
              " 352: 'talks',\n",
              " 353: 'hot',\n",
              " 354: 'running',\n",
              " 355: 'wall',\n",
              " 356: 'drug',\n",
              " 357: 'unveils',\n",
              " 358: 'father',\n",
              " 359: 'left',\n",
              " 360: 'warns',\n",
              " 361: 'heart',\n",
              " 362: 'korea',\n",
              " 363: 'lost',\n",
              " 364: 'pay',\n",
              " 365: 'ready',\n",
              " 366: 'breaking',\n",
              " 367: 'comes',\n",
              " 368: 'california',\n",
              " 369: 'gives',\n",
              " 370: 'water',\n",
              " 371: 'cancer',\n",
              " 372: 'place',\n",
              " 373: 'set',\n",
              " 374: 'looks',\n",
              " 375: '15',\n",
              " 376: 'mike',\n",
              " 377: 'russia',\n",
              " 378: 'word',\n",
              " 379: 'needs',\n",
              " 380: 'eating',\n",
              " 381: 'list',\n",
              " 382: 'head',\n",
              " 383: 'dies',\n",
              " 384: 'fucking',\n",
              " 385: 'secretary',\n",
              " 386: 'employee',\n",
              " 387: 'town',\n",
              " 388: 'candidate',\n",
              " 389: 'south',\n",
              " 390: 'biden',\n",
              " 391: 'rock',\n",
              " 392: 'cruz',\n",
              " 393: 'thought',\n",
              " 394: 'michael',\n",
              " 395: 'fan',\n",
              " 396: 'letter',\n",
              " 397: 'yet',\n",
              " 398: 'education',\n",
              " 399: 'social',\n",
              " 400: 'probably',\n",
              " 401: 'thousands',\n",
              " 402: 'taking',\n",
              " 403: 'hard',\n",
              " 404: 'air',\n",
              " 405: 'tells',\n",
              " 406: 'justice',\n",
              " 407: '50',\n",
              " 408: 'isis',\n",
              " 409: 'admits',\n",
              " 410: 'wrong',\n",
              " 411: 'service',\n",
              " 412: 'believe',\n",
              " 413: 'street',\n",
              " 414: 'wins',\n",
              " 415: 'dream',\n",
              " 416: 'class',\n",
              " 417: 'past',\n",
              " 418: 'stars',\n",
              " 419: 'age',\n",
              " 420: 'crisis',\n",
              " 421: 'romney',\n",
              " 422: 'owner',\n",
              " 423: 'nothing',\n",
              " 424: 'moms',\n",
              " 425: 'director',\n",
              " 426: 'leaves',\n",
              " 427: 'military',\n",
              " 428: 'assault',\n",
              " 429: 'george',\n",
              " 430: 'hollywood',\n",
              " 431: 'beautiful',\n",
              " 432: 'officials',\n",
              " 433: 'young',\n",
              " 434: '30',\n",
              " 435: 'king',\n",
              " 436: 'idea',\n",
              " 437: 'muslim',\n",
              " 438: 'earth',\n",
              " 439: 'congressman',\n",
              " 440: 'percent',\n",
              " 441: 'kill',\n",
              " 442: 'tips',\n",
              " 443: 'administration',\n",
              " 444: 'together',\n",
              " 445: 'fbi',\n",
              " 446: 'half',\n",
              " 447: 'latest',\n",
              " 448: 'nuclear',\n",
              " 449: 'questions',\n",
              " 450: 'move',\n",
              " 451: 'lot',\n",
              " 452: 'abortion',\n",
              " 453: 'guide',\n",
              " 454: 'restaurant',\n",
              " 455: 'small',\n",
              " 456: 'today',\n",
              " 457: 'chris',\n",
              " 458: 'birthday',\n",
              " 459: 'ex',\n",
              " 460: 'phone',\n",
              " 461: 'obamas',\n",
              " 462: 'march',\n",
              " 463: 'florida',\n",
              " 464: 'internet',\n",
              " 465: 'personal',\n",
              " 466: 'rules',\n",
              " 467: 'someone',\n",
              " 468: 'ceo',\n",
              " 469: 'late',\n",
              " 470: 'womens',\n",
              " 471: 'shit',\n",
              " 472: 'ask',\n",
              " 473: 'wearing',\n",
              " 474: 'washington',\n",
              " 475: 'excited',\n",
              " 476: 'tweets',\n",
              " 477: 'talking',\n",
              " 478: 'ice',\n",
              " 479: 'sleep',\n",
              " 480: 'federal',\n",
              " 481: 'daughter',\n",
              " 482: 'fox',\n",
              " 483: 'problem',\n",
              " 484: 'community',\n",
              " 485: 'special',\n",
              " 486: 'moment',\n",
              " 487: 'cover',\n",
              " 488: 'third',\n",
              " 489: 'isnt',\n",
              " 490: 'less',\n",
              " 491: 'feel',\n",
              " 492: 'giving',\n",
              " 493: 'outside',\n",
              " 494: 'celebrates',\n",
              " 495: 'system',\n",
              " 496: 'china',\n",
              " 497: 'order',\n",
              " 498: 'knows',\n",
              " 499: 'iran',\n",
              " 500: 'majority',\n",
              " 501: 'series',\n",
              " 502: 'ted',\n",
              " 503: 'bar',\n",
              " 504: 'straight',\n",
              " 505: 'box',\n",
              " 506: 'victims',\n",
              " 507: 'hours',\n",
              " 508: '2015',\n",
              " 509: 'leave',\n",
              " 510: 'using',\n",
              " 511: 'mark',\n",
              " 512: 'message',\n",
              " 513: 'buy',\n",
              " 514: 'trip',\n",
              " 515: 'birth',\n",
              " 516: 'meeting',\n",
              " 517: 'watching',\n",
              " 518: 'online',\n",
              " 519: 'cat',\n",
              " 520: 'holiday',\n",
              " 521: 'hour',\n",
              " 522: 'chief',\n",
              " 523: 'americas',\n",
              " 524: 'francis',\n",
              " 525: 'told',\n",
              " 526: 'different',\n",
              " 527: 'fun',\n",
              " 528: 'al',\n",
              " 529: 'minute',\n",
              " 530: 'mothers',\n",
              " 531: 'issues',\n",
              " 532: 'kid',\n",
              " 533: 'hell',\n",
              " 534: 'response',\n",
              " 535: 'reasons',\n",
              " 536: 'months',\n",
              " 537: 'happy',\n",
              " 538: 'play',\n",
              " 539: 'union',\n",
              " 540: 'travel',\n",
              " 541: 'interview',\n",
              " 542: 'huffpost',\n",
              " 543: 'rise',\n",
              " 544: 'read',\n",
              " 545: 'weekend',\n",
              " 546: 'reason',\n",
              " 547: 'gift',\n",
              " 548: 'sports',\n",
              " 549: 'lessons',\n",
              " 550: 'following',\n",
              " 551: 'democratic',\n",
              " 552: 'thinking',\n",
              " 553: 'favorite',\n",
              " 554: 'anything',\n",
              " 555: 'tom',\n",
              " 556: 'adorable',\n",
              " 557: 'politics',\n",
              " 558: 'russian',\n",
              " 559: 'leaders',\n",
              " 560: 'break',\n",
              " 561: 'hair',\n",
              " 562: 'scott',\n",
              " 563: 'un',\n",
              " 564: 'david',\n",
              " 565: 'workers',\n",
              " 566: 'point',\n",
              " 567: 'kind',\n",
              " 568: 'schools',\n",
              " 569: 'date',\n",
              " 570: 'career',\n",
              " 571: 'true',\n",
              " 572: 'relationship',\n",
              " 573: 'stephen',\n",
              " 574: 'protest',\n",
              " 575: 'die',\n",
              " 576: 'prison',\n",
              " 577: '100',\n",
              " 578: 'hope',\n",
              " 579: 'least',\n",
              " 580: 'c',\n",
              " 581: 'offers',\n",
              " 582: 'hate',\n",
              " 583: 'senator',\n",
              " 584: 'billion',\n",
              " 585: 'become',\n",
              " 586: 'non',\n",
              " 587: 'candidates',\n",
              " 588: 'joe',\n",
              " 589: 'attacks',\n",
              " 590: 'syrian',\n",
              " 591: 'fashion',\n",
              " 592: 'cops',\n",
              " 593: 'd',\n",
              " 594: 'reality',\n",
              " 595: 'trailer',\n",
              " 596: 'mass',\n",
              " 597: 'since',\n",
              " 598: 'employees',\n",
              " 599: 'hit',\n",
              " 600: 'stage',\n",
              " 601: 'cop',\n",
              " 602: 'immigration',\n",
              " 603: 'jimmy',\n",
              " 604: 'stand',\n",
              " 605: 'visit',\n",
              " 606: '40',\n",
              " 607: 'powerful',\n",
              " 608: 'accused',\n",
              " 609: 'bus',\n",
              " 610: 'crash',\n",
              " 611: 'taylor',\n",
              " 612: 'front',\n",
              " 613: 'global',\n",
              " 614: 'weird',\n",
              " 615: 'song',\n",
              " 616: 'opens',\n",
              " 617: 'girlfriend',\n",
              " 618: 'conversation',\n",
              " 619: 'called',\n",
              " 620: 'millions',\n",
              " 621: 'syria',\n",
              " 622: 'voice',\n",
              " 623: 'bring',\n",
              " 624: 'transgender',\n",
              " 625: 'act',\n",
              " 626: 'dating',\n",
              " 627: 'key',\n",
              " 628: 'chinese',\n",
              " 629: 'lgbt',\n",
              " 630: 'policy',\n",
              " 631: 'signs',\n",
              " 632: 'spends',\n",
              " 633: 'seen',\n",
              " 634: 'pence',\n",
              " 635: 'suicide',\n",
              " 636: 'dinner',\n",
              " 637: 'store',\n",
              " 638: 't',\n",
              " 639: 'wars',\n",
              " 640: 'queer',\n",
              " 641: 'force',\n",
              " 642: 'worried',\n",
              " 643: 'members',\n",
              " 644: 'surprise',\n",
              " 645: 'hands',\n",
              " 646: 'kills',\n",
              " 647: 'low',\n",
              " 648: 'leader',\n",
              " 649: 'lead',\n",
              " 650: 'whole',\n",
              " 651: 'feels',\n",
              " 652: 'far',\n",
              " 653: 'return',\n",
              " 654: 'teens',\n",
              " 655: 'learned',\n",
              " 656: 'cut',\n",
              " 657: 'returns',\n",
              " 658: 'totally',\n",
              " 659: 'reportedly',\n",
              " 660: 'artist',\n",
              " 661: 'hits',\n",
              " 662: 'killing',\n",
              " 663: 'massive',\n",
              " 664: 'light',\n",
              " 665: 'check',\n",
              " 666: 'fighting',\n",
              " 667: 'drunk',\n",
              " 668: 'paris',\n",
              " 669: 'number',\n",
              " 670: 'discover',\n",
              " 671: 'names',\n",
              " 672: 'oscar',\n",
              " 673: 'turns',\n",
              " 674: 'five',\n",
              " 675: 'waiting',\n",
              " 676: 'murder',\n",
              " 677: 'host',\n",
              " 678: 'prince',\n",
              " 679: 'trans',\n",
              " 680: '2017',\n",
              " 681: 'oil',\n",
              " 682: 'sick',\n",
              " 683: 'awards',\n",
              " 684: 'adds',\n",
              " 685: 'turn',\n",
              " 686: 'breaks',\n",
              " 687: 'road',\n",
              " 688: 'united',\n",
              " 689: 'struggling',\n",
              " 690: 'brings',\n",
              " 691: 'planned',\n",
              " 692: 'fall',\n",
              " 693: 'kardashian',\n",
              " 694: 'anniversary',\n",
              " 695: 'completely',\n",
              " 696: 'general',\n",
              " 697: 'jr',\n",
              " 698: 'given',\n",
              " 699: 'magazine',\n",
              " 700: 'keeps',\n",
              " 701: 'official',\n",
              " 702: 'j',\n",
              " 703: 'huge',\n",
              " 704: 'vows',\n",
              " 705: 'apple',\n",
              " 706: 'longer',\n",
              " 707: 'near',\n",
              " 708: 'eat',\n",
              " 709: 'fuck',\n",
              " 710: 'rubio',\n",
              " 711: 'iraq',\n",
              " 712: 'peace',\n",
              " 713: 'space',\n",
              " 714: 'west',\n",
              " 715: 'nfl',\n",
              " 716: 'dance',\n",
              " 717: 'style',\n",
              " 718: 'walking',\n",
              " 719: 'test',\n",
              " 720: 'puts',\n",
              " 721: 'iowa',\n",
              " 722: 'sign',\n",
              " 723: 'mind',\n",
              " 724: 'industry',\n",
              " 725: 'protesters',\n",
              " 726: 'center',\n",
              " 727: 'decision',\n",
              " 728: 'risk',\n",
              " 729: 'weight',\n",
              " 730: 'worst',\n",
              " 731: 'boys',\n",
              " 732: 'hurricane',\n",
              " 733: 'carolina',\n",
              " 734: 'final',\n",
              " 735: 'spring',\n",
              " 736: 'door',\n",
              " 737: 'pro',\n",
              " 738: 'investigation',\n",
              " 739: 'oscars',\n",
              " 740: '13',\n",
              " 741: 'important',\n",
              " 742: 'steve',\n",
              " 743: 'card',\n",
              " 744: 'success',\n",
              " 745: 'wait',\n",
              " 746: 'action',\n",
              " 747: 'close',\n",
              " 748: 'chance',\n",
              " 749: 'band',\n",
              " 750: 'early',\n",
              " 751: 'biggest',\n",
              " 752: 'side',\n",
              " 753: 'fear',\n",
              " 754: 'k',\n",
              " 755: 'lose',\n",
              " 756: 'green',\n",
              " 757: '2014',\n",
              " 758: 'major',\n",
              " 759: 'role',\n",
              " 760: 'michelle',\n",
              " 761: 'driving',\n",
              " 762: 'male',\n",
              " 763: 'google',\n",
              " 764: 'poor',\n",
              " 765: 'moving',\n",
              " 766: 'hoping',\n",
              " 767: 'university',\n",
              " 768: 'executive',\n",
              " 769: 'playing',\n",
              " 770: 'sean',\n",
              " 771: 'suspect',\n",
              " 772: 'doctor',\n",
              " 773: 'tour',\n",
              " 774: 'words',\n",
              " 775: 'program',\n",
              " 776: 'opening',\n",
              " 777: 'almost',\n",
              " 778: 'abuse',\n",
              " 779: 'asking',\n",
              " 780: 'whether',\n",
              " 781: 'building',\n",
              " 782: 'advice',\n",
              " 783: 'push',\n",
              " 784: 'moore',\n",
              " 785: 'receives',\n",
              " 786: 'repeal',\n",
              " 787: 'easy',\n",
              " 788: 'park',\n",
              " 789: 'possible',\n",
              " 790: 'planet',\n",
              " 791: 'eyes',\n",
              " 792: 'reform',\n",
              " 793: 'fails',\n",
              " 794: 'pick',\n",
              " 795: 'try',\n",
              " 796: 'spot',\n",
              " 797: 'question',\n",
              " 798: 'users',\n",
              " 799: 'hear',\n",
              " 800: 'ferguson',\n",
              " 801: 'press',\n",
              " 802: 'hall',\n",
              " 803: 'starting',\n",
              " 804: 'refugees',\n",
              " 805: 'christian',\n",
              " 806: '18',\n",
              " 807: 'ebola',\n",
              " 808: 'responds',\n",
              " 809: 'worth',\n",
              " 810: 'bathroom',\n",
              " 811: 'allegations',\n",
              " 812: 'happened',\n",
              " 813: 'audience',\n",
              " 814: 'hand',\n",
              " 815: 'harassment',\n",
              " 816: 'governor',\n",
              " 817: 'picture',\n",
              " 818: 'dark',\n",
              " 819: 'mental',\n",
              " 820: 'humans',\n",
              " 821: 'throws',\n",
              " 822: 'shares',\n",
              " 823: 'pizza',\n",
              " 824: 'feeling',\n",
              " 825: 'amazon',\n",
              " 826: 'rally',\n",
              " 827: 'amazing',\n",
              " 828: 'results',\n",
              " 829: 'urges',\n",
              " 830: 'forward',\n",
              " 831: 'mean',\n",
              " 832: 'problems',\n",
              " 833: 'emotional',\n",
              " 834: 'hotel',\n",
              " 835: 'beauty',\n",
              " 836: 'arrested',\n",
              " 837: 'healthy',\n",
              " 838: 'fake',\n",
              " 839: 'address',\n",
              " 840: 'bowl',\n",
              " 841: 'football',\n",
              " 842: 'loses',\n",
              " 843: 'begins',\n",
              " 844: 'halloween',\n",
              " 845: 'blood',\n",
              " 846: 'across',\n",
              " 847: 'weeks',\n",
              " 848: 'apartment',\n",
              " 849: 'hero',\n",
              " 850: 'families',\n",
              " 851: 'jobs',\n",
              " 852: 'voter',\n",
              " 853: 'demand',\n",
              " 854: 'older',\n",
              " 855: 'defense',\n",
              " 856: 'ben',\n",
              " 857: 'hilarious',\n",
              " 858: 'residents',\n",
              " 859: 'experience',\n",
              " 860: 'n',\n",
              " 861: 'chicken',\n",
              " 862: 'sons',\n",
              " 863: 'ideas',\n",
              " 864: 'williams',\n",
              " 865: 'reveal',\n",
              " 866: 'coffee',\n",
              " 867: 'economy',\n",
              " 868: 'celebrate',\n",
              " 869: 'racist',\n",
              " 870: 'done',\n",
              " 871: 'matter',\n",
              " 872: 'supporters',\n",
              " 873: 'fast',\n",
              " 874: 'leaving',\n",
              " 875: 'remember',\n",
              " 876: 'science',\n",
              " 877: 'chicago',\n",
              " 878: 'finding',\n",
              " 879: 'homeless',\n",
              " 880: 'uses',\n",
              " 881: 'crime',\n",
              " 882: 'israel',\n",
              " 883: 'cool',\n",
              " 884: 'coworker',\n",
              " 885: 'board',\n",
              " 886: 'deep',\n",
              " 887: 'reporter',\n",
              " 888: 'vacation',\n",
              " 889: 'historical',\n",
              " 890: 'energy',\n",
              " 891: 'olympic',\n",
              " 892: 'pregnant',\n",
              " 893: 'crowd',\n",
              " 894: 'sales',\n",
              " 895: 'apparently',\n",
              " 896: 'dads',\n",
              " 897: 'demands',\n",
              " 898: 'truth',\n",
              " 899: 'guys',\n",
              " 900: 'worse',\n",
              " 901: 'threat',\n",
              " 902: 'nearly',\n",
              " 903: 'apologizes',\n",
              " 904: 'teachers',\n",
              " 905: 'culture',\n",
              " 906: 'reminds',\n",
              " 907: 'color',\n",
              " 908: 'lgbtq',\n",
              " 909: 'queen',\n",
              " 910: 'six',\n",
              " 911: 'senators',\n",
              " 912: 'documentary',\n",
              " 913: 'four',\n",
              " 914: 'review',\n",
              " 915: 'scandal',\n",
              " 916: 'snl',\n",
              " 917: 'rest',\n",
              " 918: 'prevent',\n",
              " 919: 'album',\n",
              " 920: 'despite',\n",
              " 921: 'womans',\n",
              " 922: 'movies',\n",
              " 923: 'shop',\n",
              " 924: 'plane',\n",
              " 925: 'cnn',\n",
              " 926: 'somehow',\n",
              " 927: 'kerry',\n",
              " 928: 'funding',\n",
              " 929: 'sad',\n",
              " 930: 'quietly',\n",
              " 931: 'east',\n",
              " 932: 'telling',\n",
              " 933: 'leading',\n",
              " 934: 'event',\n",
              " 935: '60',\n",
              " 936: 'tech',\n",
              " 937: 'harvey',\n",
              " 938: 'happens',\n",
              " 939: 'activists',\n",
              " 940: 'leads',\n",
              " 941: 'dying',\n",
              " 942: 'hospital',\n",
              " 943: 'suggests',\n",
              " 944: 'avoid',\n",
              " 945: 'went',\n",
              " 946: '25',\n",
              " 947: 'wishes',\n",
              " 948: 'send',\n",
              " 949: 'market',\n",
              " 950: 'nasa',\n",
              " 951: 'simple',\n",
              " 952: 'said',\n",
              " 953: 'elizabeth',\n",
              " 954: 'jenner',\n",
              " 955: 'primary',\n",
              " 956: 'dreams',\n",
              " 957: 'loss',\n",
              " 958: 'kelly',\n",
              " 959: 'clean',\n",
              " 960: '17',\n",
              " 961: 'couples',\n",
              " 962: 'amid',\n",
              " 963: 'deadly',\n",
              " 964: 'officer',\n",
              " 965: 'netflix',\n",
              " 966: 'louis',\n",
              " 967: 'staff',\n",
              " 968: 'manager',\n",
              " 969: 'desperate',\n",
              " 970: 'gold',\n",
              " 971: 'helping',\n",
              " 972: 'museum',\n",
              " 973: 'data',\n",
              " 974: 'holding',\n",
              " 975: 'co',\n",
              " 976: 'website',\n",
              " 977: 'harry',\n",
              " 978: 'explains',\n",
              " 979: 'spend',\n",
              " 980: 'fda',\n",
              " 981: 'worker',\n",
              " 982: 'movement',\n",
              " 983: 'anyone',\n",
              " 984: 'books',\n",
              " 985: 'foreign',\n",
              " 986: 'evidence',\n",
              " 987: 'mayor',\n",
              " 988: 'colbert',\n",
              " 989: 'sweet',\n",
              " 990: 'short',\n",
              " 991: 'budget',\n",
              " 992: 'episode',\n",
              " 993: 'stay',\n",
              " 994: 'fired',\n",
              " 995: 'attempt',\n",
              " 996: 'legal',\n",
              " 997: 'nyc',\n",
              " 998: 'toward',\n",
              " 999: 'track',\n",
              " 1000: 'eric',\n",
              " ...}"
            ]
          },
          "execution_count": 58,
          "metadata": {},
          "output_type": "execute_result"
        }
      ],
      "source": [
        "# 참고) 딕셔너리 전환 방법 다시 확인해보자\n",
        "reverse_word_index = dict([(value, key) for (key, value) in word_index.items()])\n",
        "reverse_word_index"
      ]
    },
    {
      "cell_type": "code",
      "execution_count": 57,
      "metadata": {
        "colab": {
          "base_uri": "https://localhost:8080/"
        },
        "id": "HWvcAC84gBNb",
        "outputId": "6a2606f2-7f2a-4133-d974-3f71920acd39"
      },
      "outputs": [
        {
          "name": "stdout",
          "output_type": "stream",
          "text": [
            "(2000, 7)\n"
          ]
        }
      ],
      "source": [
        "# 임베딩 층의 가중치 추출 = weights\n",
        "e = model.layers[0]\n",
        "weights = e.get_weights()[0]\n",
        "print(weights.shape)\n",
        "# 단어가 2000개, 임베딩 층의 차원 7"
      ]
    },
    {
      "cell_type": "code",
      "execution_count": 59,
      "metadata": {
        "colab": {
          "base_uri": "https://localhost:8080/"
        },
        "id": "_Agw5laagBNc",
        "outputId": "c85715ba-18ad-4cdf-bb42-3b75ff40ce79"
      },
      "outputs": [
        {
          "name": "stdout",
          "output_type": "stream",
          "text": [
            "new\n",
            "[-0.46272013  1.0526321   0.6191846  -0.8298898  -0.51828533  0.77045685\n",
            "  0.51258606]\n"
          ]
        }
      ],
      "source": [
        "print(tokenizer.index_word[2])  # new에 대한\n",
        "print(weights[2])               # 7개 가중치"
      ]
    },
    {
      "cell_type": "code",
      "execution_count": 60,
      "metadata": {
        "id": "HUrpL_KUgBNc"
      },
      "outputs": [],
      "source": [
        "import io\n",
        "\n",
        "# ▼ tab으로 구분된 파일(TSV(tav-seperated value)) 생성\n",
        "out_v = io.open('vecs.tsv', 'w', encoding='utf-8')  # 벡터를 저장하는 파일\n",
        "out_m = io.open('meta.tsv', 'w', encoding='utf-8')  # 메타데이터를 저장하는 파일\n",
        "for word_num in range(1, vocab_size):\n",
        "    word = tokenizer.index_word[word_num]           # index : word 딕셔너리에서 해당 단어 뽑아옴 (word에 저장)\n",
        "    embeddings = weights[word_num]                  # 그 단어이 index에 해당하는 가중치 (embeddings에 저장)\n",
        "    out_m.write(word + \"\\n\")\n",
        "    out_v.write('\\t'.join([str(x) for x in embeddings]) + \"\\n\") # \\t(탭)으로 구분\n",
        "out_v.close()\n",
        "out_m.close()\n",
        "# 생성 완료"
      ]
    },
    {
      "attachments": {},
      "cell_type": "markdown",
      "metadata": {},
      "source": [
        "위에서 다운받은 tsv 파일을 https://projector.tensorflow.org/ 에서 임베딩 시각화를 할 수 있다."
      ]
    },
    {
      "attachments": {},
      "cell_type": "markdown",
      "metadata": {
        "id": "3LY46JahgBNc"
      },
      "source": [
        "## 4. 텐서플로 허브에서 사전 훈련된 임베딩 사용하기\n",
        "\n",
        "사전 훈련된 임베딩 가져오기: 구글 뉴스에서 훈련된 Swivel 임베딩 - **문장 단위 인코딩**이다!"
      ]
    },
    {
      "cell_type": "code",
      "execution_count": null,
      "metadata": {},
      "outputs": [],
      "source": [
        "# 파일 다시 불러오기: 이번에는 단어로 나누지 않고 문장을 그대로 쓸 거기 때문에 변수 다시 설정해야 한다.\n",
        "\n",
        "with open(\"../ch05/sarcasm.json\", 'r') as f:\n",
        "    datastore = json.load(f)\n",
        "\n",
        "sentences = [] \n",
        "labels = []\n",
        "urls = []\n",
        "for item in datastore:\n",
        "    sentence = item['headline'].lower()\n",
        "    sentence = sentence.replace(\",\", \" , \")\n",
        "    sentence = sentence.replace(\".\", \" . \")\n",
        "    sentence = sentence.replace(\"-\", \" - \")\n",
        "    sentence = sentence.replace(\"/\", \" / \")\n",
        "    soup = BeautifulSoup(sentence)\n",
        "    sentence = soup.get_text()\n",
        "    words = sentence.split()\n",
        "    filtered_sentence = \"\"\n",
        "    for word in words:\n",
        "        word = word.translate(table)\n",
        "        if word not in stopwords:\n",
        "            filtered_sentence = filtered_sentence + word + \" \"\n",
        "    sentences.append(filtered_sentence)\n",
        "    labels.append(item['is_sarcastic'])\n",
        "    urls.append(item['article_link'])"
      ]
    },
    {
      "cell_type": "code",
      "execution_count": 75,
      "metadata": {},
      "outputs": [],
      "source": [
        "# 사이즈를 24000으로 조정해서 문장 세트를 다시 나누기\n",
        "\n",
        "training_size = 24000\n",
        "training_sentences = sentences[0:training_size]\n",
        "testing_sentences = sentences[training_size:]\n",
        "training_labels = labels[0:training_size]\n",
        "testing_labels = labels[training_size:]"
      ]
    },
    {
      "cell_type": "code",
      "execution_count": 64,
      "metadata": {
        "id": "eWXruSfOgBNc"
      },
      "outputs": [],
      "source": [
        "import tensorflow_hub as hub\n",
        "\n",
        "# 주의: 임베딩 정보만 담고있는 레이어이기 때문에, 은닉층과 출력층은 추가해야한다.\n",
        "hub_layer = hub.KerasLayer(\n",
        "    \"https://tfhub.dev/google/tf2-preview/gnews-swivel-20dim/1\",        \n",
        "    output_shape=[20], input_shape=[],                                  # input 사이즈는 미정\n",
        "    dtype=tf.string, trainable=False                                    # 훈련 타입: 문자열, 이후에 추가로 훈련은 X\n",
        ")"
      ]
    },
    {
      "cell_type": "code",
      "execution_count": 86,
      "metadata": {
        "id": "vy-vB2QJgBNc"
      },
      "outputs": [],
      "source": [
        "# ▼ hub_layer를 가지고 모델 생성\n",
        "model = tf.keras.Sequential([\n",
        "    hub_layer,\n",
        "    tf.keras.layers.Dense(16, activation='relu'),           # 은닉층 추가\n",
        "    tf.keras.layers.Dense(1, activation='sigmoid')          # 출력층 추가\n",
        "])\n",
        "\n",
        "# 옵티마이저\n",
        "adam = tf.keras.optimizers.Adam(learning_rate=0.0001, beta_1=0.9, \n",
        "                                beta_2=0.999, amsgrad=False)\n",
        "\n",
        "# 컴파일\n",
        "model.compile(loss='binary_crossentropy',optimizer=adam, \n",
        "              metrics=['accuracy'])"
      ]
    },
    {
      "cell_type": "code",
      "execution_count": 67,
      "metadata": {
        "colab": {
          "base_uri": "https://localhost:8080/"
        },
        "id": "pCuVs9OKgBNd",
        "outputId": "dc3cc2cf-fe22-4a9a-c2bb-ffc093ad919b"
      },
      "outputs": [
        {
          "name": "stdout",
          "output_type": "stream",
          "text": [
            "Model: \"sequential_9\"\n",
            "_________________________________________________________________\n",
            " Layer (type)                Output Shape              Param #   \n",
            "=================================================================\n",
            " keras_layer (KerasLayer)    (None, 20)                400020    \n",
            "                                                                 \n",
            " dense_18 (Dense)            (None, 16)                336       \n",
            "                                                                 \n",
            " dense_19 (Dense)            (None, 1)                 17        \n",
            "                                                                 \n",
            "=================================================================\n",
            "Total params: 400,373\n",
            "Trainable params: 353\n",
            "Non-trainable params: 400,020\n",
            "_________________________________________________________________\n"
          ]
        }
      ],
      "source": [
        "model.summary()"
      ]
    },
    {
      "cell_type": "code",
      "execution_count": 87,
      "metadata": {
        "colab": {
          "base_uri": "https://localhost:8080/"
        },
        "id": "-Z7Gqtp6gBNd",
        "outputId": "2b997b02-b497-4ed7-ec38-ccceb29902e0"
      },
      "outputs": [
        {
          "name": "stdout",
          "output_type": "stream",
          "text": [
            "Epoch 1/50\n",
            "750/750 [==============================] - 2s 2ms/step - loss: 0.7258 - accuracy: 0.5004 - val_loss: 0.7022 - val_accuracy: 0.5293\n",
            "Epoch 2/50\n",
            "750/750 [==============================] - 1s 1ms/step - loss: 0.6950 - accuracy: 0.5475 - val_loss: 0.6832 - val_accuracy: 0.5688\n",
            "Epoch 3/50\n",
            "750/750 [==============================] - 1s 1ms/step - loss: 0.6795 - accuracy: 0.5758 - val_loss: 0.6724 - val_accuracy: 0.6006\n",
            "Epoch 4/50\n",
            "750/750 [==============================] - 1s 1ms/step - loss: 0.6694 - accuracy: 0.5938 - val_loss: 0.6648 - val_accuracy: 0.6117\n",
            "Epoch 5/50\n",
            "750/750 [==============================] - 1s 1ms/step - loss: 0.6620 - accuracy: 0.6053 - val_loss: 0.6590 - val_accuracy: 0.6312\n",
            "Epoch 6/50\n",
            "750/750 [==============================] - 1s 1ms/step - loss: 0.6561 - accuracy: 0.6173 - val_loss: 0.6544 - val_accuracy: 0.6342\n",
            "Epoch 7/50\n",
            "750/750 [==============================] - 1s 1ms/step - loss: 0.6513 - accuracy: 0.6272 - val_loss: 0.6506 - val_accuracy: 0.6346\n",
            "Epoch 8/50\n",
            "750/750 [==============================] - 1s 1ms/step - loss: 0.6473 - accuracy: 0.6336 - val_loss: 0.6475 - val_accuracy: 0.6368\n",
            "Epoch 9/50\n",
            "750/750 [==============================] - 1s 1ms/step - loss: 0.6438 - accuracy: 0.6376 - val_loss: 0.6448 - val_accuracy: 0.6379\n",
            "Epoch 10/50\n",
            "750/750 [==============================] - 1s 1ms/step - loss: 0.6408 - accuracy: 0.6413 - val_loss: 0.6426 - val_accuracy: 0.6397\n",
            "Epoch 11/50\n",
            "750/750 [==============================] - 1s 1ms/step - loss: 0.6382 - accuracy: 0.6451 - val_loss: 0.6402 - val_accuracy: 0.6438\n",
            "Epoch 12/50\n",
            "750/750 [==============================] - 1s 1ms/step - loss: 0.6359 - accuracy: 0.6469 - val_loss: 0.6383 - val_accuracy: 0.6464\n",
            "Epoch 13/50\n",
            "750/750 [==============================] - 1s 1ms/step - loss: 0.6337 - accuracy: 0.6499 - val_loss: 0.6366 - val_accuracy: 0.6501\n",
            "Epoch 14/50\n",
            "750/750 [==============================] - 1s 1ms/step - loss: 0.6319 - accuracy: 0.6506 - val_loss: 0.6349 - val_accuracy: 0.6556\n",
            "Epoch 15/50\n",
            "750/750 [==============================] - 1s 1ms/step - loss: 0.6302 - accuracy: 0.6528 - val_loss: 0.6338 - val_accuracy: 0.6508\n",
            "Epoch 16/50\n",
            "750/750 [==============================] - 1s 1ms/step - loss: 0.6287 - accuracy: 0.6540 - val_loss: 0.6325 - val_accuracy: 0.6556\n",
            "Epoch 17/50\n",
            "750/750 [==============================] - 1s 1ms/step - loss: 0.6272 - accuracy: 0.6555 - val_loss: 0.6312 - val_accuracy: 0.6549\n",
            "Epoch 18/50\n",
            "750/750 [==============================] - 1s 1ms/step - loss: 0.6260 - accuracy: 0.6582 - val_loss: 0.6300 - val_accuracy: 0.6578\n",
            "Epoch 19/50\n",
            "750/750 [==============================] - 1s 1ms/step - loss: 0.6248 - accuracy: 0.6589 - val_loss: 0.6289 - val_accuracy: 0.6578\n",
            "Epoch 20/50\n",
            "750/750 [==============================] - 1s 1ms/step - loss: 0.6237 - accuracy: 0.6598 - val_loss: 0.6287 - val_accuracy: 0.6574\n",
            "Epoch 21/50\n",
            "750/750 [==============================] - 1s 1ms/step - loss: 0.6228 - accuracy: 0.6601 - val_loss: 0.6274 - val_accuracy: 0.6597\n",
            "Epoch 22/50\n",
            "750/750 [==============================] - 1s 1ms/step - loss: 0.6219 - accuracy: 0.6614 - val_loss: 0.6266 - val_accuracy: 0.6604\n",
            "Epoch 23/50\n",
            "750/750 [==============================] - 1s 1ms/step - loss: 0.6210 - accuracy: 0.6608 - val_loss: 0.6259 - val_accuracy: 0.6637\n",
            "Epoch 24/50\n",
            "750/750 [==============================] - 1s 1ms/step - loss: 0.6203 - accuracy: 0.6626 - val_loss: 0.6252 - val_accuracy: 0.6652\n",
            "Epoch 25/50\n",
            "750/750 [==============================] - 1s 1ms/step - loss: 0.6196 - accuracy: 0.6621 - val_loss: 0.6249 - val_accuracy: 0.6633\n",
            "Epoch 26/50\n",
            "750/750 [==============================] - 1s 1ms/step - loss: 0.6189 - accuracy: 0.6635 - val_loss: 0.6242 - val_accuracy: 0.6656\n",
            "Epoch 27/50\n",
            "750/750 [==============================] - 1s 1ms/step - loss: 0.6183 - accuracy: 0.6642 - val_loss: 0.6240 - val_accuracy: 0.6663\n",
            "Epoch 28/50\n",
            "750/750 [==============================] - 1s 1ms/step - loss: 0.6177 - accuracy: 0.6640 - val_loss: 0.6235 - val_accuracy: 0.6656\n",
            "Epoch 29/50\n",
            "750/750 [==============================] - 1s 1ms/step - loss: 0.6172 - accuracy: 0.6645 - val_loss: 0.6229 - val_accuracy: 0.6645\n",
            "Epoch 30/50\n",
            "750/750 [==============================] - 1s 1ms/step - loss: 0.6166 - accuracy: 0.6655 - val_loss: 0.6232 - val_accuracy: 0.6637\n",
            "Epoch 31/50\n",
            "750/750 [==============================] - 1s 1ms/step - loss: 0.6161 - accuracy: 0.6660 - val_loss: 0.6228 - val_accuracy: 0.6645\n",
            "Epoch 32/50\n",
            "750/750 [==============================] - 1s 1ms/step - loss: 0.6156 - accuracy: 0.6672 - val_loss: 0.6220 - val_accuracy: 0.6630\n",
            "Epoch 33/50\n",
            "750/750 [==============================] - 1s 1ms/step - loss: 0.6151 - accuracy: 0.6665 - val_loss: 0.6218 - val_accuracy: 0.6641\n",
            "Epoch 34/50\n",
            "750/750 [==============================] - 1s 1ms/step - loss: 0.6147 - accuracy: 0.6672 - val_loss: 0.6216 - val_accuracy: 0.6630\n",
            "Epoch 35/50\n",
            "750/750 [==============================] - 1s 1ms/step - loss: 0.6143 - accuracy: 0.6679 - val_loss: 0.6211 - val_accuracy: 0.6633\n",
            "Epoch 36/50\n",
            "750/750 [==============================] - 1s 1ms/step - loss: 0.6139 - accuracy: 0.6677 - val_loss: 0.6212 - val_accuracy: 0.6615\n",
            "Epoch 37/50\n",
            "750/750 [==============================] - 1s 1ms/step - loss: 0.6135 - accuracy: 0.6683 - val_loss: 0.6206 - val_accuracy: 0.6604\n",
            "Epoch 38/50\n",
            "750/750 [==============================] - 1s 1ms/step - loss: 0.6132 - accuracy: 0.6683 - val_loss: 0.6196 - val_accuracy: 0.6633\n",
            "Epoch 39/50\n",
            "750/750 [==============================] - 1s 1ms/step - loss: 0.6129 - accuracy: 0.6685 - val_loss: 0.6199 - val_accuracy: 0.6600\n",
            "Epoch 40/50\n",
            "750/750 [==============================] - 1s 1ms/step - loss: 0.6125 - accuracy: 0.6685 - val_loss: 0.6193 - val_accuracy: 0.6604\n",
            "Epoch 41/50\n",
            "750/750 [==============================] - 1s 1ms/step - loss: 0.6122 - accuracy: 0.6690 - val_loss: 0.6198 - val_accuracy: 0.6615\n",
            "Epoch 42/50\n",
            "750/750 [==============================] - 1s 1ms/step - loss: 0.6120 - accuracy: 0.6684 - val_loss: 0.6195 - val_accuracy: 0.6626\n",
            "Epoch 43/50\n",
            "750/750 [==============================] - 1s 1ms/step - loss: 0.6117 - accuracy: 0.6688 - val_loss: 0.6194 - val_accuracy: 0.6604\n",
            "Epoch 44/50\n",
            "750/750 [==============================] - 1s 1ms/step - loss: 0.6114 - accuracy: 0.6699 - val_loss: 0.6182 - val_accuracy: 0.6619\n",
            "Epoch 45/50\n",
            "750/750 [==============================] - 1s 1ms/step - loss: 0.6111 - accuracy: 0.6703 - val_loss: 0.6192 - val_accuracy: 0.6633\n",
            "Epoch 46/50\n",
            "750/750 [==============================] - 1s 1ms/step - loss: 0.6110 - accuracy: 0.6694 - val_loss: 0.6183 - val_accuracy: 0.6611\n",
            "Epoch 47/50\n",
            "750/750 [==============================] - 1s 1ms/step - loss: 0.6107 - accuracy: 0.6706 - val_loss: 0.6183 - val_accuracy: 0.6615\n",
            "Epoch 48/50\n",
            "750/750 [==============================] - 1s 1ms/step - loss: 0.6105 - accuracy: 0.6700 - val_loss: 0.6183 - val_accuracy: 0.6615\n",
            "Epoch 49/50\n",
            "750/750 [==============================] - 1s 1ms/step - loss: 0.6102 - accuracy: 0.6707 - val_loss: 0.6178 - val_accuracy: 0.6633\n",
            "Epoch 50/50\n",
            "750/750 [==============================] - 1s 1ms/step - loss: 0.6101 - accuracy: 0.6710 - val_loss: 0.6174 - val_accuracy: 0.6633\n"
          ]
        }
      ],
      "source": [
        "# model.fit에 넣을 때는 문장 리스트를 그대로 넣어준다. np.array여도 상관 없지만, 굳이 바꿀 필요는 없다.\n",
        "num_epochs = 50\n",
        "history = model.fit(training_sentences, training_labels, epochs=num_epochs,\n",
        "                    validation_data=(testing_sentences, testing_labels))"
      ]
    },
    {
      "cell_type": "code",
      "execution_count": 85,
      "metadata": {
        "colab": {
          "base_uri": "https://localhost:8080/",
          "height": 279
        },
        "id": "kLPe8qwQgBNd",
        "outputId": "5a42784f-ab06-4abc-e857-bd548f35c935"
      },
      "outputs": [
        {
          "data": {
            "image/png": "[encoded data removed]",
            "text/plain": [
              "<Figure size 640x480 with 1 Axes>"
            ]
          },
          "metadata": {},
          "output_type": "display_data"
        }
      ],
      "source": [
        "plt.plot(history.history['accuracy'])\n",
        "plt.plot(history.history['val_accuracy'])\n",
        "plt.xlabel('epochs')\n",
        "plt.ylabel('accuracy')\n",
        "plt.legend(['accuracy', 'val_accuracy'])\n",
        "plt.show()"
      ]
    },
    {
      "attachments": {},
      "cell_type": "markdown",
      "metadata": {},
      "source": [
        "최고 정확도에 빠르게 도달하며, 과대적합이 크게 일어나지 않는다.    \n",
        "50 에폭까지는 훈련과 검증 정확도의 값이 매우 가깝다."
      ]
    },
    {
      "cell_type": "code",
      "execution_count": 81,
      "metadata": {
        "colab": {
          "base_uri": "https://localhost:8080/",
          "height": 279
        },
        "id": "X85U0-NZgBNd",
        "outputId": "cd8cfcd6-9a89-4ad2-cd63-9fa000b7f494"
      },
      "outputs": [
        {
          "data": {
            "image/png": "[encoded data removed]",
            "text/plain": [
              "<Figure size 640x480 with 1 Axes>"
            ]
          },
          "metadata": {},
          "output_type": "display_data"
        }
      ],
      "source": [
        "plt.plot(history.history['loss'])\n",
        "plt.plot(history.history['val_loss'])\n",
        "plt.xlabel('epochs')\n",
        "plt.ylabel('loss')\n",
        "plt.legend(['loss', 'val_loss'])\n",
        "plt.show()"
      ]
    },
    {
      "attachments": {},
      "cell_type": "markdown",
      "metadata": {},
      "source": [
        "손실값도 매우 근접한 것을 확인할 수 있다.\n",
        "<br><br>\n",
        "하지만, 전반적으로 정확도가 67% 정도로 낮다.   \n",
        "사전 훈련된 임베딩을 사용하면 훈련이 빠르고 과대적합이 적지만, 상황에 따라 최선이 아닐 수 있다."
      ]
    }
  ],
  "metadata": {
    "accelerator": "GPU",
    "colab": {
      "provenance": []
    },
    "gpuClass": "standard",
    "kernelspec": {
      "display_name": "base",
      "language": "python",
      "name": "python3"
    },
    "language_info": {
      "codemirror_mode": {
        "name": "ipython",
        "version": 3
      },
      "file_extension": ".py",
      "mimetype": "text/x-python",
      "name": "python",
      "nbconvert_exporter": "python",
      "pygments_lexer": "ipython3",
      "version": "3.9.13"
    }
  },
  "nbformat": 4,
  "nbformat_minor": 0
}
